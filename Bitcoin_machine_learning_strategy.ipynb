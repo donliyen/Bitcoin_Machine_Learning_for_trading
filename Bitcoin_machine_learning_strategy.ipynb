{
 "cells": [
  {
   "cell_type": "code",
   "execution_count": 186,
   "metadata": {},
   "outputs": [
    {
     "name": "stderr",
     "output_type": "stream",
     "text": [
      "[*********************100%***********************]  1 of 1 completed\n"
     ]
    },
    {
     "data": {
      "application/vnd.microsoft.datawrangler.viewer.v0+json": {
       "columns": [
        {
         "name": "Date",
         "rawType": "datetime64[ns]",
         "type": "datetime"
        },
        {
         "name": "close",
         "rawType": "float64",
         "type": "float"
        },
        {
         "name": "volume",
         "rawType": "int64",
         "type": "integer"
        }
       ],
       "conversionMethod": "pd.DataFrame",
       "ref": "ef6fe8dc-d112-46d4-b578-0cdc07a977d3",
       "rows": [
        [
         "2020-02-23 00:00:00",
         "9924.515625",
         "41185185761"
        ],
        [
         "2020-02-24 00:00:00",
         "9650.1748046875",
         "45080496648"
        ],
        [
         "2020-02-25 00:00:00",
         "9341.705078125",
         "42515259129"
        ],
        [
         "2020-02-26 00:00:00",
         "8820.5224609375",
         "50420050762"
        ],
        [
         "2020-02-27 00:00:00",
         "8784.494140625",
         "45470195695"
        ]
       ],
       "shape": {
        "columns": 2,
        "rows": 5
       }
      },
      "text/html": [
       "<div>\n",
       "<style scoped>\n",
       "    .dataframe tbody tr th:only-of-type {\n",
       "        vertical-align: middle;\n",
       "    }\n",
       "\n",
       "    .dataframe tbody tr th {\n",
       "        vertical-align: top;\n",
       "    }\n",
       "\n",
       "    .dataframe thead th {\n",
       "        text-align: right;\n",
       "    }\n",
       "</style>\n",
       "<table border=\"1\" class=\"dataframe\">\n",
       "  <thead>\n",
       "    <tr style=\"text-align: right;\">\n",
       "      <th></th>\n",
       "      <th>close</th>\n",
       "      <th>volume</th>\n",
       "    </tr>\n",
       "    <tr>\n",
       "      <th>Date</th>\n",
       "      <th></th>\n",
       "      <th></th>\n",
       "    </tr>\n",
       "  </thead>\n",
       "  <tbody>\n",
       "    <tr>\n",
       "      <th>2020-02-23</th>\n",
       "      <td>9924.515625</td>\n",
       "      <td>41185185761</td>\n",
       "    </tr>\n",
       "    <tr>\n",
       "      <th>2020-02-24</th>\n",
       "      <td>9650.174805</td>\n",
       "      <td>45080496648</td>\n",
       "    </tr>\n",
       "    <tr>\n",
       "      <th>2020-02-25</th>\n",
       "      <td>9341.705078</td>\n",
       "      <td>42515259129</td>\n",
       "    </tr>\n",
       "    <tr>\n",
       "      <th>2020-02-26</th>\n",
       "      <td>8820.522461</td>\n",
       "      <td>50420050762</td>\n",
       "    </tr>\n",
       "    <tr>\n",
       "      <th>2020-02-27</th>\n",
       "      <td>8784.494141</td>\n",
       "      <td>45470195695</td>\n",
       "    </tr>\n",
       "  </tbody>\n",
       "</table>\n",
       "</div>"
      ],
      "text/plain": [
       "                  close       volume\n",
       "Date                                \n",
       "2020-02-23  9924.515625  41185185761\n",
       "2020-02-24  9650.174805  45080496648\n",
       "2020-02-25  9341.705078  42515259129\n",
       "2020-02-26  8820.522461  50420050762\n",
       "2020-02-27  8784.494141  45470195695"
      ]
     },
     "execution_count": 186,
     "metadata": {},
     "output_type": "execute_result"
    }
   ],
   "source": [
    "import pandas as pd\n",
    "import yfinance as yf\n",
    "\n",
    "# Fetch BTC data\n",
    "btc = yf.download(\"BTC-USD\", period=\"5y\", interval=\"1d\")\n",
    "\n",
    "# Flatten MultiIndex columns\n",
    "btc.columns = [col[0] for col in btc.columns]  # Extract first level (OHLCV)\n",
    "\n",
    "# Rename to standard OHLCV format (optional)\n",
    "btc = btc.rename(columns={\"Close\": \"close\", \"High\": \"high\", \"Low\": \"low\", \"Open\": \"open\", \"Volume\": \"volume\"})\n",
    "btc_ohlc = btc.copy()\n",
    "\n",
    "btc = btc[['close','volume']]\n",
    "# Display DataFrame\n",
    "btc = btc.reset_index()\n",
    "\n",
    "btc['Date'] = pd.to_datetime(btc['Date'])\n",
    "btc = btc.set_index('Date')\n",
    "btc_daaily_return = btc['close'].pct_change().shift(-1)\n",
    "\n",
    "btc.head()"
   ]
  },
  {
   "cell_type": "code",
   "execution_count": null,
   "metadata": {},
   "outputs": [
    {
     "data": {
      "application/vnd.microsoft.datawrangler.viewer.v0+json": {
       "columns": [
        {
         "name": "date",
         "rawType": "datetime64[ns]",
         "type": "datetime"
        },
        {
         "name": "hashrate",
         "rawType": "float64",
         "type": "float"
        }
       ],
       "conversionMethod": "pd.DataFrame",
       "ref": "7635d270-fa02-4c0c-bc48-becccf9c14e4",
       "rows": [
        [
         "2020-02-25 00:00:00",
         "111020255.745151"
        ],
        [
         "2020-02-26 00:00:00",
         "104700775.427287"
        ],
        [
         "2020-02-27 00:00:00",
         "113169220.498612"
        ],
        [
         "2020-02-28 00:00:00",
         "121637665.569937"
        ],
        [
         "2020-02-29 00:00:00",
         "107010351.35583"
        ],
        [
         "2020-03-01 00:00:00",
         "136264979.784043"
        ],
        [
         "2020-03-02 00:00:00",
         "114708937.784307"
        ],
        [
         "2020-03-03 00:00:00",
         "117788372.355698"
        ],
        [
         "2020-03-04 00:00:00",
         "128566393.355566"
        ],
        [
         "2020-03-05 00:00:00",
         "125486958.784175"
        ],
        [
         "2020-03-06 00:00:00",
         "119328089.641393"
        ],
        [
         "2020-03-07 00:00:00",
         "120867806.927089"
        ],
        [
         "2020-03-08 00:00:00",
         "121637665.569937"
        ],
        [
         "2020-03-09 00:00:00",
         "119877105.097528"
        ],
        [
         "2020-03-10 00:00:00",
         "108616241.391911"
        ],
        [
         "2020-03-11 00:00:00",
         "97919187.3154346"
        ],
        [
         "2020-03-12 00:00:00",
         "124250397.349837"
        ],
        [
         "2020-03-13 00:00:00",
         "102856289.196885"
        ],
        [
         "2020-03-14 00:00:00",
         "105324840.13761"
        ],
        [
         "2020-03-15 00:00:00",
         "97919187.3154346"
        ],
        [
         "2020-03-16 00:00:00",
         "97919187.3154346"
        ],
        [
         "2020-03-17 00:00:00",
         "101210588.569735"
        ],
        [
         "2020-03-18 00:00:00",
         "82285031.3575081"
        ],
        [
         "2020-03-19 00:00:00",
         "88044983.5525337"
        ],
        [
         "2020-03-20 00:00:00",
         "89690684.1796838"
        ],
        [
         "2020-03-21 00:00:00",
         "102033438.88331"
        ],
        [
         "2020-03-22 00:00:00",
         "104501989.824035"
        ],
        [
         "2020-03-23 00:00:00",
         "92159235.1204091"
        ],
        [
         "2020-03-24 00:00:00",
         "108616241.391911"
        ],
        [
         "2020-03-25 00:00:00",
         "75702228.8489074"
        ],
        [
         "2020-03-26 00:00:00",
         "112492821.358516"
        ],
        [
         "2020-03-27 00:00:00",
         "107197274.863781"
        ],
        [
         "2020-03-28 00:00:00",
         "93365368.4297446"
        ],
        [
         "2020-03-29 00:00:00",
         "104430893.576974"
        ],
        [
         "2020-03-30 00:00:00",
         "101664512.290166"
        ],
        [
         "2020-03-31 00:00:00",
         "109963656.150588"
        ],
        [
         "2020-04-01 00:00:00",
         "105814084.220377"
        ],
        [
         "2020-04-02 00:00:00",
         "105814084.220377"
        ],
        [
         "2020-04-03 00:00:00",
         "91290582.4646392"
        ],
        [
         "2020-04-04 00:00:00",
         "108580465.507185"
        ],
        [
         "2020-04-05 00:00:00",
         "121029181.297817"
        ],
        [
         "2020-04-06 00:00:00",
         "88524201.1778319"
        ],
        [
         "2020-04-07 00:00:00",
         "116188014.045904"
        ],
        [
         "2020-04-08 00:00:00",
         "103061194.836332"
        ],
        [
         "2020-04-09 00:00:00",
         "112650577.826398"
        ],
        [
         "2020-04-10 00:00:00",
         "119234053.153915"
        ],
        [
         "2020-04-11 00:00:00",
         "116308064.119463"
        ],
        [
         "2020-04-12 00:00:00",
         "111919080.567785"
        ],
        [
         "2020-04-13 00:00:00",
         "125086031.222819"
        ],
        [
         "2020-04-14 00:00:00",
         "122891539.44698"
        ]
       ],
       "shape": {
        "columns": 1,
        "rows": 1825
       }
      },
      "text/html": [
       "<div>\n",
       "<style scoped>\n",
       "    .dataframe tbody tr th:only-of-type {\n",
       "        vertical-align: middle;\n",
       "    }\n",
       "\n",
       "    .dataframe tbody tr th {\n",
       "        vertical-align: top;\n",
       "    }\n",
       "\n",
       "    .dataframe thead th {\n",
       "        text-align: right;\n",
       "    }\n",
       "</style>\n",
       "<table border=\"1\" class=\"dataframe\">\n",
       "  <thead>\n",
       "    <tr style=\"text-align: right;\">\n",
       "      <th></th>\n",
       "      <th>hashrate</th>\n",
       "    </tr>\n",
       "    <tr>\n",
       "      <th>date</th>\n",
       "      <th></th>\n",
       "    </tr>\n",
       "  </thead>\n",
       "  <tbody>\n",
       "    <tr>\n",
       "      <th>2020-02-25</th>\n",
       "      <td>1.110203e+08</td>\n",
       "    </tr>\n",
       "    <tr>\n",
       "      <th>2020-02-26</th>\n",
       "      <td>1.047008e+08</td>\n",
       "    </tr>\n",
       "    <tr>\n",
       "      <th>2020-02-27</th>\n",
       "      <td>1.131692e+08</td>\n",
       "    </tr>\n",
       "    <tr>\n",
       "      <th>2020-02-28</th>\n",
       "      <td>1.216377e+08</td>\n",
       "    </tr>\n",
       "    <tr>\n",
       "      <th>2020-02-29</th>\n",
       "      <td>1.070104e+08</td>\n",
       "    </tr>\n",
       "    <tr>\n",
       "      <th>...</th>\n",
       "      <td>...</td>\n",
       "    </tr>\n",
       "    <tr>\n",
       "      <th>2025-02-18</th>\n",
       "      <td>7.945400e+08</td>\n",
       "    </tr>\n",
       "    <tr>\n",
       "      <th>2025-02-19</th>\n",
       "      <td>7.150860e+08</td>\n",
       "    </tr>\n",
       "    <tr>\n",
       "      <th>2025-02-20</th>\n",
       "      <td>7.377872e+08</td>\n",
       "    </tr>\n",
       "    <tr>\n",
       "      <th>2025-02-21</th>\n",
       "      <td>7.321119e+08</td>\n",
       "    </tr>\n",
       "    <tr>\n",
       "      <th>2025-02-22</th>\n",
       "      <td>7.888647e+08</td>\n",
       "    </tr>\n",
       "  </tbody>\n",
       "</table>\n",
       "<p>1825 rows × 1 columns</p>\n",
       "</div>"
      ],
      "text/plain": [
       "                hashrate\n",
       "date                    \n",
       "2020-02-25  1.110203e+08\n",
       "2020-02-26  1.047008e+08\n",
       "2020-02-27  1.131692e+08\n",
       "2020-02-28  1.216377e+08\n",
       "2020-02-29  1.070104e+08\n",
       "...                  ...\n",
       "2025-02-18  7.945400e+08\n",
       "2025-02-19  7.150860e+08\n",
       "2025-02-20  7.377872e+08\n",
       "2025-02-21  7.321119e+08\n",
       "2025-02-22  7.888647e+08\n",
       "\n",
       "[1825 rows x 1 columns]"
      ]
     },
     "execution_count": 187,
     "metadata": {},
     "output_type": "execute_result"
    }
   ],
   "source": [
    "import requests\n",
    "import pandas as pd\n",
    "\n",
    "# API URL for Bitcoin hashrate (7-day average)\n",
    "url = \"https://api.blockchain.info/charts/hash-rate?timespan=5y&format=json\"\n",
    "\n",
    "# Fetch data\n",
    "response = requests.get(url)\n",
    "data = response.json()\n",
    "\n",
    "# Convert to DataFrame\n",
    "hr = pd.DataFrame(data[\"values\"])\n",
    "hr[\"date\"] = pd.to_datetime(hr[\"x\"], unit=\"s\")  # Convert timestamp\n",
    "hr.rename(columns={\"y\": \"hashrate\"}, inplace=True)\n",
    "hr = hr.drop('x', axis  = 1)\n",
    "hr = hr.set_index('date')\n",
    "# # Display DataFrame\n",
    "hr\n"
   ]
  },
  {
   "cell_type": "code",
   "execution_count": 188,
   "metadata": {},
   "outputs": [],
   "source": [
    "import gtrend\n",
    "from pytrends.request import TrendReq\n",
    "pytrend = TrendReq(hl='en-US')\n",
    "keyword = 'Bitcoin'\n",
    "start = '2020-02-25'\n",
    "end = '2025-01-01'\n",
    "geo=''\n",
    "cat=0\n",
    "gprop=''\n",
    "overlapping = gtrend.get_daily_trend(pytrend, keyword, start, end, geo=geo, cat=cat, gprop=gprop, verbose=False)"
   ]
  },
  {
   "cell_type": "code",
   "execution_count": 189,
   "metadata": {},
   "outputs": [
    {
     "name": "stderr",
     "output_type": "stream",
     "text": [
      "/var/folders/02/hvm421zd46ncqv_0hvg321n00000gn/T/ipykernel_2548/2486312139.py:5: FutureWarning:\n",
      "\n",
      "The default fill_method='pad' in DataFrame.pct_change is deprecated and will be removed in a future version. Either fill in any non-leading NA values prior to calling pct_change or specify 'fill_method=None' to not fill NA values.\n",
      "\n"
     ]
    },
    {
     "data": {
      "application/vnd.microsoft.datawrangler.viewer.v0+json": {
       "columns": [
        {
         "name": "Date",
         "rawType": "datetime64[ns]",
         "type": "datetime"
        },
        {
         "name": "return",
         "rawType": "float64",
         "type": "float"
        },
        {
         "name": "volume",
         "rawType": "float64",
         "type": "float"
        },
        {
         "name": "trend",
         "rawType": "float64",
         "type": "float"
        },
        {
         "name": "hashrate",
         "rawType": "float64",
         "type": "float"
        },
        {
         "name": "target",
         "rawType": "bool",
         "type": "boolean"
        }
       ],
       "conversionMethod": "pd.DataFrame",
       "ref": "f8cd6193-195e-435b-ae62-3428b6aa0e4a",
       "rows": [
        [
         "2020-02-26 00:00:00",
         "-0.05579095174048332",
         "0.1859283418458122",
         "0.125",
         "-0.05692186777492647",
         "False"
        ],
        [
         "2020-02-27 00:00:00",
         "-0.0040846016176541156",
         "-0.0981723538987499",
         "0.0",
         "0.08088235294117951",
         "False"
        ],
        [
         "2020-02-28 00:00:00",
         "-0.012754184897438958",
         "-0.019017847598467474",
         "0.0",
         "0.07482993197279164",
         "False"
        ],
        [
         "2020-02-29 00:00:00",
         "-0.008411261679117432",
         "-0.19757804957629443",
         "-0.2222222222222222",
         "-0.12025316455696744",
         "False"
        ],
        [
         "2020-03-01 00:00:00",
         "-0.0043089307085921735",
         "-0.012383308644571156",
         "0.0",
         "0.2733812949640335",
         "True"
        ]
       ],
       "shape": {
        "columns": 5,
        "rows": 5
       }
      },
      "text/html": [
       "<div>\n",
       "<style scoped>\n",
       "    .dataframe tbody tr th:only-of-type {\n",
       "        vertical-align: middle;\n",
       "    }\n",
       "\n",
       "    .dataframe tbody tr th {\n",
       "        vertical-align: top;\n",
       "    }\n",
       "\n",
       "    .dataframe thead th {\n",
       "        text-align: right;\n",
       "    }\n",
       "</style>\n",
       "<table border=\"1\" class=\"dataframe\">\n",
       "  <thead>\n",
       "    <tr style=\"text-align: right;\">\n",
       "      <th></th>\n",
       "      <th>return</th>\n",
       "      <th>volume</th>\n",
       "      <th>trend</th>\n",
       "      <th>hashrate</th>\n",
       "      <th>target</th>\n",
       "    </tr>\n",
       "    <tr>\n",
       "      <th>Date</th>\n",
       "      <th></th>\n",
       "      <th></th>\n",
       "      <th></th>\n",
       "      <th></th>\n",
       "      <th></th>\n",
       "    </tr>\n",
       "  </thead>\n",
       "  <tbody>\n",
       "    <tr>\n",
       "      <th>2020-02-26</th>\n",
       "      <td>-0.055791</td>\n",
       "      <td>0.185928</td>\n",
       "      <td>0.125000</td>\n",
       "      <td>-0.056922</td>\n",
       "      <td>False</td>\n",
       "    </tr>\n",
       "    <tr>\n",
       "      <th>2020-02-27</th>\n",
       "      <td>-0.004085</td>\n",
       "      <td>-0.098172</td>\n",
       "      <td>0.000000</td>\n",
       "      <td>0.080882</td>\n",
       "      <td>False</td>\n",
       "    </tr>\n",
       "    <tr>\n",
       "      <th>2020-02-28</th>\n",
       "      <td>-0.012754</td>\n",
       "      <td>-0.019018</td>\n",
       "      <td>0.000000</td>\n",
       "      <td>0.074830</td>\n",
       "      <td>False</td>\n",
       "    </tr>\n",
       "    <tr>\n",
       "      <th>2020-02-29</th>\n",
       "      <td>-0.008411</td>\n",
       "      <td>-0.197578</td>\n",
       "      <td>-0.222222</td>\n",
       "      <td>-0.120253</td>\n",
       "      <td>False</td>\n",
       "    </tr>\n",
       "    <tr>\n",
       "      <th>2020-03-01</th>\n",
       "      <td>-0.004309</td>\n",
       "      <td>-0.012383</td>\n",
       "      <td>0.000000</td>\n",
       "      <td>0.273381</td>\n",
       "      <td>True</td>\n",
       "    </tr>\n",
       "  </tbody>\n",
       "</table>\n",
       "</div>"
      ],
      "text/plain": [
       "              return    volume     trend  hashrate  target\n",
       "Date                                                      \n",
       "2020-02-26 -0.055791  0.185928  0.125000 -0.056922   False\n",
       "2020-02-27 -0.004085 -0.098172  0.000000  0.080882   False\n",
       "2020-02-28 -0.012754 -0.019018  0.000000  0.074830   False\n",
       "2020-02-29 -0.008411 -0.197578 -0.222222 -0.120253   False\n",
       "2020-03-01 -0.004309 -0.012383  0.000000  0.273381    True"
      ]
     },
     "execution_count": 189,
     "metadata": {},
     "output_type": "execute_result"
    }
   ],
   "source": [
    "\n",
    "# df.index = pd.to_datetime(df.index)\n",
    "btc['trend'] = overlapping['Bitcoin']\n",
    "btc['hashrate']  = hr['hashrate']\n",
    "btc = btc.astype(float)\n",
    "btc = btc.pct_change().dropna()\n",
    "\n",
    "# btc['return'] = btc['close'].pct_change()\n",
    "btc.columns = ['return'\t,'volume', 'trend'\t,'hashrate']\n",
    "\n",
    "btc['target'] = btc['return'].shift(-1) >= 0\n",
    "btc.head()"
   ]
  },
  {
   "cell_type": "code",
   "execution_count": 190,
   "metadata": {},
   "outputs": [
    {
     "name": "stdout",
     "output_type": "stream",
     "text": [
      "Best parameters: {'max_depth': 10, 'min_samples_split': 10, 'n_estimators': 50}\n",
      "[[110 153]\n",
      " [125 160]]\n",
      "              precision    recall  f1-score   support\n",
      "\n",
      "       False       0.47      0.42      0.44       263\n",
      "        True       0.51      0.56      0.54       285\n",
      "\n",
      "    accuracy                           0.49       548\n",
      "   macro avg       0.49      0.49      0.49       548\n",
      "weighted avg       0.49      0.49      0.49       548\n",
      "\n"
     ]
    }
   ],
   "source": [
    "from sklearn.model_selection import train_test_split\n",
    "from sklearn.ensemble import RandomForestClassifier\n",
    "from sklearn.metrics import classification_report, confusion_matrix\n",
    "from sklearn.model_selection import GridSearchCV\n",
    "\n",
    "X = btc[['trend' ,'volume', 'hashrate']]\n",
    "y = btc['target']\n",
    "\n",
    "# Step 3: Split the data into training and testing sets\n",
    "X_train, X_test, y_train, y_test = train_test_split(X, y, test_size=0.3, random_state=42,shuffle=False)\n",
    "\n",
    "# Step 4: Train the Random Forest model\n",
    "rf_model = RandomForestClassifier(n_estimators=100, random_state=42)\n",
    "\n",
    "# Define hyperparameter grid\n",
    "param_grid = {\n",
    "    'n_estimators': [50, 100, 200],\n",
    "    'max_depth': [None, 10, 20, 30],\n",
    "    'min_samples_split': [2, 5, 10]\n",
    "}\n",
    "\n",
    "# Grid search for best hyperparameters\n",
    "grid_search = GridSearchCV(estimator=rf_model, param_grid=param_grid, cv=5, n_jobs=-1, scoring='accuracy')\n",
    "grid_search.fit(X_train, y_train)\n",
    "\n",
    "# Best parameters\n",
    "best_rf_model = grid_search.best_estimator_\n",
    "print(\"Best parameters:\", grid_search.best_params_)\n",
    "\n",
    "# Predictions\n",
    "y_pred = best_rf_model.predict(X_test)\n",
    "\n",
    "# Evaluate the model\n",
    "print(confusion_matrix(y_test, y_pred))\n",
    "print(classification_report(y_test, y_pred))"
   ]
  },
  {
   "cell_type": "code",
   "execution_count": 211,
   "metadata": {},
   "outputs": [
    {
     "data": {
      "application/vnd.microsoft.datawrangler.viewer.v0+json": {
       "columns": [
        {
         "name": "Date",
         "rawType": "datetime64[ns]",
         "type": "datetime"
        },
        {
         "name": "action",
         "rawType": "bool",
         "type": "boolean"
        },
        {
         "name": "price",
         "rawType": "float64",
         "type": "float"
        },
        {
         "name": "cum_return",
         "rawType": "float64",
         "type": "float"
        },
        {
         "name": "Balance",
         "rawType": "float64",
         "type": "float"
        },
        {
         "name": "PnL",
         "rawType": "float64",
         "type": "float"
        }
       ],
       "conversionMethod": "pd.DataFrame",
       "ref": "ee7aeb3b-a261-4e9d-a40a-6fbc1ee46b5d",
       "rows": [
        [
         "2023-08-27 00:00:00",
         "True",
         "0.0006307866874213364",
         "1.007515918146284",
         "10075.159181462841",
         "12.6945374801453"
        ],
        [
         "2023-08-28 00:00:00",
         "False",
         "0.062101924766441385",
         "1.007515918146284",
         "10075.159181462841",
         "0.0"
        ],
        [
         "2023-08-29 00:00:00",
         "True",
         "-0.015512708305083889",
         "0.9762573170444199",
         "9762.573170444199",
         "-312.58601101864224"
        ],
        [
         "2023-08-30 00:00:00",
         "True",
         "-0.0500340578984273",
         "0.8785650867948923",
         "8785.650867948923",
         "-976.9223024952753"
        ],
        [
         "2023-08-31 00:00:00",
         "False",
         "-0.005042060225742162",
         "0.8785650867948923",
         "8785.650867948923",
         "0.0"
        ],
        [
         "2023-09-01 00:00:00",
         "False",
         "0.0026384615075991658",
         "0.8785650867948923",
         "8785.650867948923",
         "0.0"
        ],
        [
         "2023-09-02 00:00:00",
         "False",
         "0.0038953327054152",
         "0.8785650867948923",
         "8785.650867948923",
         "0.0"
        ],
        [
         "2023-09-03 00:00:00",
         "True",
         "-0.006051329012069284",
         "0.8679321139974661",
         "8679.321139974661",
         "-106.32972797426191"
        ],
        [
         "2023-09-04 00:00:00",
         "False",
         "-0.0012565113521479931",
         "0.8679321139974661",
         "8679.321139974661",
         "0.0"
        ],
        [
         "2023-09-05 00:00:00",
         "True",
         "-0.0010374752516241204",
         "0.8661311978207417",
         "8661.311978207417",
         "-18.009161767244223"
        ],
        [
         "2023-09-06 00:00:00",
         "True",
         "0.018908652030005024",
         "0.8988859446845894",
         "8988.859446845894",
         "327.54746863847686"
        ],
        [
         "2023-09-07 00:00:00",
         "True",
         "-0.012749181613965876",
         "0.8759658243665391",
         "8759.658243665392",
         "-229.2012031805025"
        ],
        [
         "2023-09-08 00:00:00",
         "True",
         "-0.0003851113886439439",
         "0.8752911355364863",
         "8752.911355364862",
         "-6.746888300529463"
        ],
        [
         "2023-09-09 00:00:00",
         "False",
         "-0.0024502611024840304",
         "0.8752911355364863",
         "8752.911355364862",
         "0.0"
        ],
        [
         "2023-09-10 00:00:00",
         "True",
         "-0.02592003689674205",
         "0.8299159784794924",
         "8299.159784794923",
         "-453.75157056993885"
        ],
        [
         "2023-09-11 00:00:00",
         "True",
         "0.026654161568650414",
         "0.8741574076370864",
         "8741.574076370864",
         "442.4142915759403"
        ],
        [
         "2023-09-12 00:00:00",
         "False",
         "0.01528956036711282",
         "0.8741574076370864",
         "8741.574076370864",
         "0.0"
        ],
        [
         "2023-09-13 00:00:00",
         "True",
         "0.011870739692642074",
         "0.8949111977099957",
         "8949.111977099958",
         "207.53790072909396"
        ],
        [
         "2023-09-14 00:00:00",
         "False",
         "0.0026006171627044328",
         "0.8949111977099957",
         "8949.111977099958",
         "0.0"
        ],
        [
         "2023-09-15 00:00:00",
         "True",
         "-0.001518755875352329",
         "0.8921928944311144",
         "8921.928944311143",
         "-27.18303278881467"
        ],
        [
         "2023-09-16 00:00:00",
         "False",
         "-0.0012832501161511578",
         "0.8921928944311144",
         "8921.928944311143",
         "0.0"
        ],
        [
         "2023-09-17 00:00:00",
         "True",
         "0.008294723552398242",
         "0.9069938812605546",
         "9069.938812605546",
         "148.00986829440262"
        ],
        [
         "2023-09-18 00:00:00",
         "True",
         "0.017075246134672373",
         "0.9379681687908862",
         "9379.681687908862",
         "309.7428753033164"
        ],
        [
         "2023-09-19 00:00:00",
         "False",
         "-0.00290724465500225",
         "0.9379681687908862",
         "9379.681687908862",
         "0.0"
        ],
        [
         "2023-09-20 00:00:00",
         "False",
         "-0.02080107760178318",
         "0.9379681687908862",
         "9379.681687908862",
         "0.0"
        ],
        [
         "2023-09-21 00:00:00",
         "False",
         "0.0004492514240630463",
         "0.9379681687908862",
         "9379.681687908862",
         "0.0"
        ],
        [
         "2023-09-22 00:00:00",
         "False",
         "-6.686879658768241e-06",
         "0.9379681687908862",
         "9379.681687908862",
         "0.0"
        ],
        [
         "2023-09-23 00:00:00",
         "False",
         "-0.01213588594546644",
         "0.9379681687908862",
         "9379.681687908862",
         "0.0"
        ],
        [
         "2023-09-24 00:00:00",
         "False",
         "0.0015864178176880905",
         "0.9379681687908862",
         "9379.681687908862",
         "0.0"
        ],
        [
         "2023-09-25 00:00:00",
         "True",
         "-0.0030887894396227633",
         "0.932173796441959",
         "9321.73796441959",
         "-57.94372348927209"
        ],
        [
         "2023-09-26 00:00:00",
         "True",
         "0.005167086436411061",
         "0.9418070416019051",
         "9418.07041601905",
         "96.33245159946091"
        ],
        [
         "2023-09-27 00:00:00",
         "True",
         "0.02537992888096885",
         "0.9896130330728091",
         "9896.13033072809",
         "478.05991470903973"
        ],
        [
         "2023-09-28 00:00:00",
         "False",
         "-0.004064392478456136",
         "0.9896130330728091",
         "9896.13033072809",
         "0.0"
        ],
        [
         "2023-09-29 00:00:00",
         "True",
         "0.0020881352448591795",
         "0.9937459247790718",
         "9937.459247790717",
         "41.328917062626715"
        ],
        [
         "2023-09-30 00:00:00",
         "True",
         "0.037668241913332734",
         "1.068611248569005",
         "10686.11248569005",
         "748.6532378993325"
        ],
        [
         "2023-10-01 00:00:00",
         "True",
         "-0.016186709920936293",
         "1.0340166479713329",
         "10340.166479713329",
         "-345.9460059767207"
        ],
        [
         "2023-10-02 00:00:00",
         "True",
         "-0.003661597010505724",
         "1.026444343437283",
         "10264.44343437283",
         "-75.72304534049908"
        ],
        [
         "2023-10-03 00:00:00",
         "False",
         "0.013467601347721292",
         "1.026444343437283",
         "10264.44343437283",
         "0.0"
        ],
        [
         "2023-10-04 00:00:00",
         "True",
         "-0.01379463216164356",
         "0.9981254991330488",
         "9981.254991330488",
         "-283.18844304234153"
        ],
        [
         "2023-10-05 00:00:00",
         "True",
         "0.01935684447622399",
         "1.0367666192419926",
         "10367.666192419927",
         "386.4112010894387"
        ],
        [
         "2023-10-06 00:00:00",
         "False",
         "0.0007958817661306572",
         "1.0367666192419926",
         "10367.666192419927",
         "0.0"
        ],
        [
         "2023-10-07 00:00:00",
         "True",
         "-0.001206700034343422",
         "1.0342644866119017",
         "10342.644866119017",
         "-25.021326300910005"
        ],
        [
         "2023-10-08 00:00:00",
         "True",
         "-0.012579594744121514",
         "1.0082432304122726",
         "10082.432304122725",
         "-260.2125619962917"
        ],
        [
         "2023-10-09 00:00:00",
         "False",
         "-0.006984500217130485",
         "1.0082432304122726",
         "10082.432304122725",
         "0.0"
        ],
        [
         "2023-10-10 00:00:00",
         "True",
         "-0.018900326735168282",
         "0.9701309774456456",
         "9701.309774456457",
         "-381.12252966626875"
        ],
        [
         "2023-10-11 00:00:00",
         "True",
         "-0.0043359541366684295",
         "0.9617180905961143",
         "9617.180905961144",
         "-84.12886849531242"
        ],
        [
         "2023-10-12 00:00:00",
         "True",
         "0.003945769916393171",
         "0.9693075272159648",
         "9693.075272159647",
         "75.89436619850312"
        ],
        [
         "2023-10-13 00:00:00",
         "True",
         "-2.4866332556272575e-05",
         "0.9692593209693227",
         "9692.593209693227",
         "-0.4820624664207571"
        ],
        [
         "2023-10-14 00:00:00",
         "True",
         "0.011091823470242623",
         "0.9907610275394806",
         "9907.610275394805",
         "215.01706570157876"
        ],
        [
         "2023-10-15 00:00:00",
         "False",
         "0.05006744695824206",
         "0.9907610275394806",
         "9907.610275394805",
         "0.0"
        ]
       ],
       "shape": {
        "columns": 5,
        "rows": 546
       }
      },
      "text/html": [
       "<div>\n",
       "<style scoped>\n",
       "    .dataframe tbody tr th:only-of-type {\n",
       "        vertical-align: middle;\n",
       "    }\n",
       "\n",
       "    .dataframe tbody tr th {\n",
       "        vertical-align: top;\n",
       "    }\n",
       "\n",
       "    .dataframe thead th {\n",
       "        text-align: right;\n",
       "    }\n",
       "</style>\n",
       "<table border=\"1\" class=\"dataframe\">\n",
       "  <thead>\n",
       "    <tr style=\"text-align: right;\">\n",
       "      <th></th>\n",
       "      <th>action</th>\n",
       "      <th>price</th>\n",
       "      <th>cum_return</th>\n",
       "      <th>Balance</th>\n",
       "      <th>PnL</th>\n",
       "    </tr>\n",
       "    <tr>\n",
       "      <th>Date</th>\n",
       "      <th></th>\n",
       "      <th></th>\n",
       "      <th></th>\n",
       "      <th></th>\n",
       "      <th></th>\n",
       "    </tr>\n",
       "  </thead>\n",
       "  <tbody>\n",
       "    <tr>\n",
       "      <th>2023-08-27</th>\n",
       "      <td>True</td>\n",
       "      <td>0.000631</td>\n",
       "      <td>1.007516</td>\n",
       "      <td>10075.159181</td>\n",
       "      <td>12.694537</td>\n",
       "    </tr>\n",
       "    <tr>\n",
       "      <th>2023-08-28</th>\n",
       "      <td>False</td>\n",
       "      <td>0.062102</td>\n",
       "      <td>1.007516</td>\n",
       "      <td>10075.159181</td>\n",
       "      <td>0.000000</td>\n",
       "    </tr>\n",
       "    <tr>\n",
       "      <th>2023-08-29</th>\n",
       "      <td>True</td>\n",
       "      <td>-0.015513</td>\n",
       "      <td>0.976257</td>\n",
       "      <td>9762.573170</td>\n",
       "      <td>-312.586011</td>\n",
       "    </tr>\n",
       "    <tr>\n",
       "      <th>2023-08-30</th>\n",
       "      <td>True</td>\n",
       "      <td>-0.050034</td>\n",
       "      <td>0.878565</td>\n",
       "      <td>8785.650868</td>\n",
       "      <td>-976.922302</td>\n",
       "    </tr>\n",
       "    <tr>\n",
       "      <th>2023-08-31</th>\n",
       "      <td>False</td>\n",
       "      <td>-0.005042</td>\n",
       "      <td>0.878565</td>\n",
       "      <td>8785.650868</td>\n",
       "      <td>0.000000</td>\n",
       "    </tr>\n",
       "    <tr>\n",
       "      <th>...</th>\n",
       "      <td>...</td>\n",
       "      <td>...</td>\n",
       "      <td>...</td>\n",
       "      <td>...</td>\n",
       "      <td>...</td>\n",
       "    </tr>\n",
       "    <tr>\n",
       "      <th>2025-02-18</th>\n",
       "      <td>True</td>\n",
       "      <td>0.011472</td>\n",
       "      <td>7.414491</td>\n",
       "      <td>74144.909591</td>\n",
       "      <td>1663.073053</td>\n",
       "    </tr>\n",
       "    <tr>\n",
       "      <th>2025-02-19</th>\n",
       "      <td>False</td>\n",
       "      <td>0.017575</td>\n",
       "      <td>7.414491</td>\n",
       "      <td>74144.909591</td>\n",
       "      <td>0.000000</td>\n",
       "    </tr>\n",
       "    <tr>\n",
       "      <th>2025-02-20</th>\n",
       "      <td>False</td>\n",
       "      <td>-0.022458</td>\n",
       "      <td>7.414491</td>\n",
       "      <td>74144.909591</td>\n",
       "      <td>0.000000</td>\n",
       "    </tr>\n",
       "    <tr>\n",
       "      <th>2025-02-21</th>\n",
       "      <td>True</td>\n",
       "      <td>0.004704</td>\n",
       "      <td>7.484252</td>\n",
       "      <td>74842.520999</td>\n",
       "      <td>697.611409</td>\n",
       "    </tr>\n",
       "    <tr>\n",
       "      <th>2025-02-22</th>\n",
       "      <td>True</td>\n",
       "      <td>-0.006536</td>\n",
       "      <td>7.386418</td>\n",
       "      <td>73864.176233</td>\n",
       "      <td>-978.344767</td>\n",
       "    </tr>\n",
       "  </tbody>\n",
       "</table>\n",
       "<p>546 rows × 5 columns</p>\n",
       "</div>"
      ],
      "text/plain": [
       "            action     price  cum_return       Balance          PnL\n",
       "Date                                                               \n",
       "2023-08-27    True  0.000631    1.007516  10075.159181    12.694537\n",
       "2023-08-28   False  0.062102    1.007516  10075.159181     0.000000\n",
       "2023-08-29    True -0.015513    0.976257   9762.573170  -312.586011\n",
       "2023-08-30    True -0.050034    0.878565   8785.650868  -976.922302\n",
       "2023-08-31   False -0.005042    0.878565   8785.650868     0.000000\n",
       "...            ...       ...         ...           ...          ...\n",
       "2025-02-18    True  0.011472    7.414491  74144.909591  1663.073053\n",
       "2025-02-19   False  0.017575    7.414491  74144.909591     0.000000\n",
       "2025-02-20   False -0.022458    7.414491  74144.909591     0.000000\n",
       "2025-02-21    True  0.004704    7.484252  74842.520999   697.611409\n",
       "2025-02-22    True -0.006536    7.386418  73864.176233  -978.344767\n",
       "\n",
       "[546 rows x 5 columns]"
      ]
     },
     "execution_count": 211,
     "metadata": {},
     "output_type": "execute_result"
    }
   ],
   "source": [
    "#Day trade entry when signal is true , exit when day closed\n",
    "trade = pd.DataFrame()\n",
    "trade['action'] = y_pred\n",
    "trade.index = y_test.index\n",
    "trade['price'] = btc_daaily_return\n",
    "trade = trade.sort_index()\n",
    "init_cash = 10000\n",
    "size = 2 # 1 BTC\n",
    "trade['cum_return'] = (trade['action'] * trade['price'] * size + 1 ).cumprod()\n",
    "trade['Balance'] = trade['cum_return'] * init_cash\n",
    "trade['PnL'] = trade['Balance'] - trade['Balance'].shift(1)\n",
    "trade = trade.dropna()\n",
    "trade"
   ]
  },
  {
   "cell_type": "code",
   "execution_count": 212,
   "metadata": {},
   "outputs": [],
   "source": [
    "import numpy as np\n",
    "import pandas as pd\n",
    "\n",
    "def calculate_metrics(pnl_series , init_cash):\n",
    "    \"\"\"\n",
    "    Calculate key trading performance metrics from a PnL series.\n",
    "    \n",
    "    :param pnl_series: Pandas Series containing PnL values over time.\n",
    "    :param risk_free_rate: Annual risk-free rate (default 2%).\n",
    "    :param trading_periods: Number of trading periods in a year (252 for daily).\n",
    "    :return: Dictionary with performance metrics.\n",
    "    \"\"\"\n",
    "\n",
    "    # Compute returns\n",
    "    returns = pnl_series.pct_change().dropna()\n",
    "\n",
    "    # Win Rate\n",
    "    wins = pnl_series[pnl_series > 0]\n",
    "    losses = pnl_series[pnl_series < 0]\n",
    "    win_rate = len(wins) / (len(wins) + len(losses)) if (len(wins) + len(losses)) > 0 else np.nan\n",
    "\n",
    "    # Profit Factor (Total profit / Total loss)\n",
    "    total_profit = wins.sum()\n",
    "    total_loss = abs(losses.sum())\n",
    "    profit_factor = total_profit / total_loss if total_loss > 0 else np.nan\n",
    "\n",
    "    # Payoff Ratio (Average win / Average loss)\n",
    "    avg_win = wins.mean() if len(wins) > 0 else 0\n",
    "    avg_loss = abs(losses.mean()) if len(losses) > 0 else 0\n",
    "    payoff_ratio = avg_win / avg_loss if avg_loss > 0 else np.nan\n",
    "\n",
    "    return {\n",
    "        \"Win Rate\": win_rate,\n",
    "        \"Profit Factor\": profit_factor,\n",
    "        \"Payoff Ratio\": payoff_ratio\n",
    "    }\n",
    "\n"
   ]
  },
  {
   "cell_type": "code",
   "execution_count": 213,
   "metadata": {},
   "outputs": [
    {
     "name": "stdout",
     "output_type": "stream",
     "text": [
      "{'Win Rate': 0.5112540192926045, 'Profit Factor': 1.4067500557778565, 'Payoff Ratio': 1.3448176633851208}\n"
     ]
    }
   ],
   "source": [
    "metrics = calculate_metrics(trade['PnL'],init_cash)\n",
    "print(metrics)"
   ]
  },
  {
   "cell_type": "code",
   "execution_count": 214,
   "metadata": {},
   "outputs": [
    {
     "data": {
      "application/vnd.jupyter.widget-view+json": {
       "model_id": "9c7374163a96433998dbefc36cdce748",
       "version_major": 2,
       "version_minor": 0
      },
      "text/plain": [
       "FigureWidget({\n",
       "    'data': [{'line': {'color': '#1f77b4'},\n",
       "              'name': 'Balance',\n",
       "              'showlegend': True,\n",
       "              'type': 'scatter',\n",
       "              'uid': '2dfb026b-4ba3-4fb1-b5df-ef6afa14db59',\n",
       "              'x': array([datetime.datetime(2023, 8, 27, 0, 0),\n",
       "                          datetime.datetime(2023, 8, 28, 0, 0),\n",
       "                          datetime.datetime(2023, 8, 29, 0, 0), ...,\n",
       "                          datetime.datetime(2025, 2, 20, 0, 0),\n",
       "                          datetime.datetime(2025, 2, 21, 0, 0),\n",
       "                          datetime.datetime(2025, 2, 22, 0, 0)], dtype=object),\n",
       "              'y': array([10075.15918146, 10075.15918146,  9762.57317044, ..., 74144.9095907 ,\n",
       "                          74842.52099926, 73864.17623259])},\n",
       "             {'customdata': array([[ 0],\n",
       "                                   [12],\n",
       "                                   [21],\n",
       "                                   [23],\n",
       "                                   [30]]),\n",
       "              'hovertemplate': 'Drawdown Id: %{customdata[0]}<br>Peak Timestamp: %{x}<br>Peak Value: %{y}',\n",
       "              'marker': {'color': '#4285F4',\n",
       "                         'line': {'color': 'rgb(11,84,205)', 'width': 1},\n",
       "                         'size': 7,\n",
       "                         'symbol': 'diamond'},\n",
       "              'mode': 'markers',\n",
       "              'name': 'Peak',\n",
       "              'type': 'scatter',\n",
       "              'uid': '84a8a9da-8ac5-4aed-84c1-dc62004a4c09',\n",
       "              'x': array([datetime.datetime(2023, 8, 28, 0, 0),\n",
       "                          datetime.datetime(2024, 2, 27, 0, 0),\n",
       "                          datetime.datetime(2024, 6, 5, 0, 0),\n",
       "                          datetime.datetime(2024, 9, 27, 0, 0),\n",
       "                          datetime.datetime(2025, 1, 5, 0, 0)], dtype=object),\n",
       "              'y': array([10075.15918146, 22616.10171289, 35262.0593416 , 36912.24854336,\n",
       "                          89153.33001895])},\n",
       "             {'customdata': array([['0', '-0.17627507066444734', '13 days 00:00:00'],\n",
       "                                   ['12', '-0.14968101957047486', '6 days 00:00:00'],\n",
       "                                   ['21', '-0.3582940680669998', '31 days 00:00:00'],\n",
       "                                   ['23', '-0.16115932089954774', '12 days 00:00:00']], dtype=object),\n",
       "              'hovertemplate': ('Drawdown Id: %{customdata[0]}<' ... '<br>Duration: %{customdata[2]}'),\n",
       "              'marker': {'color': '#EA4335',\n",
       "                         'line': {'color': 'rgb(181,31,18)', 'width': 1},\n",
       "                         'size': 7,\n",
       "                         'symbol': 'diamond'},\n",
       "              'mode': 'markers',\n",
       "              'name': 'Valley',\n",
       "              'type': 'scatter',\n",
       "              'uid': 'abbed012-c377-4048-8bb9-494a09294b88',\n",
       "              'x': array([datetime.datetime(2023, 9, 10, 0, 0),\n",
       "                          datetime.datetime(2024, 3, 4, 0, 0),\n",
       "                          datetime.datetime(2024, 7, 6, 0, 0),\n",
       "                          datetime.datetime(2024, 10, 9, 0, 0)], dtype=object),\n",
       "              'y': array([ 8299.15978479, 19230.9005498 , 22627.87265168, 30963.49563524])},\n",
       "             {'customdata': array([['0', '0.2876137781162276', '20 days 00:00:00'],\n",
       "                                   ['12', '0.19181055972681685', '8 days 00:00:00'],\n",
       "                                   ['21', '0.5591433843482443', '76 days 00:00:00'],\n",
       "                                   ['23', '0.22983183284318573', '19 days 00:00:00']], dtype=object),\n",
       "              'hovertemplate': ('Drawdown Id: %{customdata[0]}<' ... '<br>Duration: %{customdata[2]}'),\n",
       "              'marker': {'color': '#37B13F',\n",
       "                         'line': {'color': 'rgb(38,123,44)', 'width': 1},\n",
       "                         'size': 7,\n",
       "                         'symbol': 'diamond'},\n",
       "              'mode': 'markers',\n",
       "              'name': 'Recovery/Peak',\n",
       "              'type': 'scatter',\n",
       "              'uid': '3b36e543-f98f-4936-9592-a2ff169ddcf7',\n",
       "              'x': array([datetime.datetime(2023, 9, 30, 0, 0),\n",
       "                          datetime.datetime(2024, 3, 12, 0, 0),\n",
       "                          datetime.datetime(2024, 9, 20, 0, 0),\n",
       "                          datetime.datetime(2024, 10, 28, 0, 0)], dtype=object),\n",
       "              'y': array([10686.11248569, 22919.59034831, 35280.09794674, 38079.89258832])},\n",
       "             {'customdata': array([['30', '-0.1869979896193984', '48 days 00:00:00']], dtype=object),\n",
       "              'hovertemplate': ('Drawdown Id: %{customdata[0]}<' ... '<br>Duration: %{customdata[2]}'),\n",
       "              'marker': {'color': '#FFAA00',\n",
       "                         'line': {'color': 'rgb(178,118,0)', 'width': 1},\n",
       "                         'size': 7,\n",
       "                         'symbol': 'diamond'},\n",
       "              'mode': 'markers',\n",
       "              'name': 'Active',\n",
       "              'type': 'scatter',\n",
       "              'uid': '85ffc5af-fa34-4ee7-8664-acd2c5b98752',\n",
       "              'x': array([datetime.datetime(2025, 2, 22, 0, 0)], dtype=object),\n",
       "              'y': array([73864.17623259])}],\n",
       "    'layout': {'height': 350,\n",
       "               'legend': {'orientation': 'h',\n",
       "                          'traceorder': 'normal',\n",
       "                          'x': 1,\n",
       "                          'xanchor': 'right',\n",
       "                          'y': 1.02,\n",
       "                          'yanchor': 'bottom'},\n",
       "               'margin': {'b': 30, 'l': 30, 'r': 30, 't': 30},\n",
       "               'shapes': [{'fillcolor': 'red',\n",
       "                           'layer': 'below',\n",
       "                           'line': {'width': 0},\n",
       "                           'opacity': 0.2,\n",
       "                           'type': 'rect',\n",
       "                           'x0': Timestamp('2023-08-28 00:00:00'),\n",
       "                           'x1': Timestamp('2023-09-10 00:00:00'),\n",
       "                           'xref': 'x',\n",
       "                           'y0': 0,\n",
       "                           'y1': 1,\n",
       "                           'yref': 'paper'},\n",
       "                          {'fillcolor': 'red',\n",
       "                           'layer': 'below',\n",
       "                           'line': {'width': 0},\n",
       "                           'opacity': 0.2,\n",
       "                           'type': 'rect',\n",
       "                           'x0': Timestamp('2024-02-27 00:00:00'),\n",
       "                           'x1': Timestamp('2024-03-04 00:00:00'),\n",
       "                           'xref': 'x',\n",
       "                           'y0': 0,\n",
       "                           'y1': 1,\n",
       "                           'yref': 'paper'},\n",
       "                          {'fillcolor': 'red',\n",
       "                           'layer': 'below',\n",
       "                           'line': {'width': 0},\n",
       "                           'opacity': 0.2,\n",
       "                           'type': 'rect',\n",
       "                           'x0': Timestamp('2024-06-05 00:00:00'),\n",
       "                           'x1': Timestamp('2024-07-06 00:00:00'),\n",
       "                           'xref': 'x',\n",
       "                           'y0': 0,\n",
       "                           'y1': 1,\n",
       "                           'yref': 'paper'},\n",
       "                          {'fillcolor': 'red',\n",
       "                           'layer': 'below',\n",
       "                           'line': {'width': 0},\n",
       "                           'opacity': 0.2,\n",
       "                           'type': 'rect',\n",
       "                           'x0': Timestamp('2024-09-27 00:00:00'),\n",
       "                           'x1': Timestamp('2024-10-09 00:00:00'),\n",
       "                           'xref': 'x',\n",
       "                           'y0': 0,\n",
       "                           'y1': 1,\n",
       "                           'yref': 'paper'},\n",
       "                          {'fillcolor': 'green',\n",
       "                           'layer': 'below',\n",
       "                           'line': {'width': 0},\n",
       "                           'opacity': 0.2,\n",
       "                           'type': 'rect',\n",
       "                           'x0': Timestamp('2023-09-10 00:00:00'),\n",
       "                           'x1': Timestamp('2023-09-30 00:00:00'),\n",
       "                           'xref': 'x',\n",
       "                           'y0': 0,\n",
       "                           'y1': 1,\n",
       "                           'yref': 'paper'},\n",
       "                          {'fillcolor': 'green',\n",
       "                           'layer': 'below',\n",
       "                           'line': {'width': 0},\n",
       "                           'opacity': 0.2,\n",
       "                           'type': 'rect',\n",
       "                           'x0': Timestamp('2024-03-04 00:00:00'),\n",
       "                           'x1': Timestamp('2024-03-12 00:00:00'),\n",
       "                           'xref': 'x',\n",
       "                           'y0': 0,\n",
       "                           'y1': 1,\n",
       "                           'yref': 'paper'},\n",
       "                          {'fillcolor': 'green',\n",
       "                           'layer': 'below',\n",
       "                           'line': {'width': 0},\n",
       "                           'opacity': 0.2,\n",
       "                           'type': 'rect',\n",
       "                           'x0': Timestamp('2024-07-06 00:00:00'),\n",
       "                           'x1': Timestamp('2024-09-20 00:00:00'),\n",
       "                           'xref': 'x',\n",
       "                           'y0': 0,\n",
       "                           'y1': 1,\n",
       "                           'yref': 'paper'},\n",
       "                          {'fillcolor': 'green',\n",
       "                           'layer': 'below',\n",
       "                           'line': {'width': 0},\n",
       "                           'opacity': 0.2,\n",
       "                           'type': 'rect',\n",
       "                           'x0': Timestamp('2024-10-09 00:00:00'),\n",
       "                           'x1': Timestamp('2024-10-28 00:00:00'),\n",
       "                           'xref': 'x',\n",
       "                           'y0': 0,\n",
       "                           'y1': 1,\n",
       "                           'yref': 'paper'},\n",
       "                          {'fillcolor': 'orange',\n",
       "                           'layer': 'below',\n",
       "                           'line': {'width': 0},\n",
       "                           'opacity': 0.2,\n",
       "                           'type': 'rect',\n",
       "                           'x0': Timestamp('2025-01-05 00:00:00'),\n",
       "                           'x1': Timestamp('2025-02-22 00:00:00'),\n",
       "                           'xref': 'x',\n",
       "                           'y0': 0,\n",
       "                           'y1': 1,\n",
       "                           'yref': 'paper'}],\n",
       "               'template': '...',\n",
       "               'width': 700}\n",
       "})"
      ]
     },
     "execution_count": 214,
     "metadata": {},
     "output_type": "execute_result"
    }
   ],
   "source": [
    "import vectorbt as vbt\n",
    "trade['Balance'].vbt.drawdowns.plot()"
   ]
  },
  {
   "cell_type": "code",
   "execution_count": 215,
   "metadata": {},
   "outputs": [],
   "source": [
    "btc_ohlc['entry'] = trade['action']\n",
    "btc_ohlc['exit_price'] = btc_ohlc['close'].shift(-1)\n",
    "btc_ohlc = btc_ohlc.dropna()"
   ]
  },
  {
   "cell_type": "code",
   "execution_count": 216,
   "metadata": {},
   "outputs": [
    {
     "data": {
      "application/vnd.plotly.v1+json": {
       "config": {
        "plotlyServerURL": "https://plot.ly"
       },
       "data": [
        {
         "line": {
          "color": "white",
          "width": 2
         },
         "mode": "lines",
         "name": "Price",
         "type": "scatter",
         "x": [
          "2023-08-27T00:00:00",
          "2023-08-28T00:00:00",
          "2023-08-29T00:00:00",
          "2023-08-30T00:00:00",
          "2023-08-31T00:00:00",
          "2023-09-01T00:00:00",
          "2023-09-02T00:00:00",
          "2023-09-03T00:00:00",
          "2023-09-04T00:00:00",
          "2023-09-05T00:00:00",
          "2023-09-06T00:00:00",
          "2023-09-07T00:00:00",
          "2023-09-08T00:00:00",
          "2023-09-09T00:00:00",
          "2023-09-10T00:00:00",
          "2023-09-11T00:00:00",
          "2023-09-12T00:00:00",
          "2023-09-13T00:00:00",
          "2023-09-14T00:00:00",
          "2023-09-15T00:00:00",
          "2023-09-16T00:00:00",
          "2023-09-17T00:00:00",
          "2023-09-18T00:00:00",
          "2023-09-19T00:00:00",
          "2023-09-20T00:00:00",
          "2023-09-21T00:00:00",
          "2023-09-22T00:00:00",
          "2023-09-23T00:00:00",
          "2023-09-24T00:00:00",
          "2023-09-25T00:00:00",
          "2023-09-26T00:00:00",
          "2023-09-27T00:00:00",
          "2023-09-28T00:00:00",
          "2023-09-29T00:00:00",
          "2023-09-30T00:00:00",
          "2023-10-01T00:00:00",
          "2023-10-02T00:00:00",
          "2023-10-03T00:00:00",
          "2023-10-04T00:00:00",
          "2023-10-05T00:00:00",
          "2023-10-06T00:00:00",
          "2023-10-07T00:00:00",
          "2023-10-08T00:00:00",
          "2023-10-09T00:00:00",
          "2023-10-10T00:00:00",
          "2023-10-11T00:00:00",
          "2023-10-12T00:00:00",
          "2023-10-13T00:00:00",
          "2023-10-14T00:00:00",
          "2023-10-15T00:00:00",
          "2023-10-16T00:00:00",
          "2023-10-17T00:00:00",
          "2023-10-18T00:00:00",
          "2023-10-19T00:00:00",
          "2023-10-20T00:00:00",
          "2023-10-21T00:00:00",
          "2023-10-22T00:00:00",
          "2023-10-23T00:00:00",
          "2023-10-24T00:00:00",
          "2023-10-25T00:00:00",
          "2023-10-26T00:00:00",
          "2023-10-27T00:00:00",
          "2023-10-28T00:00:00",
          "2023-10-29T00:00:00",
          "2023-10-30T00:00:00",
          "2023-10-31T00:00:00",
          "2023-11-01T00:00:00",
          "2023-11-02T00:00:00",
          "2023-11-03T00:00:00",
          "2023-11-04T00:00:00",
          "2023-11-05T00:00:00",
          "2023-11-06T00:00:00",
          "2023-11-07T00:00:00",
          "2023-11-08T00:00:00",
          "2023-11-09T00:00:00",
          "2023-11-10T00:00:00",
          "2023-11-11T00:00:00",
          "2023-11-12T00:00:00",
          "2023-11-13T00:00:00",
          "2023-11-14T00:00:00",
          "2023-11-15T00:00:00",
          "2023-11-16T00:00:00",
          "2023-11-17T00:00:00",
          "2023-11-18T00:00:00",
          "2023-11-19T00:00:00",
          "2023-11-20T00:00:00",
          "2023-11-21T00:00:00",
          "2023-11-22T00:00:00",
          "2023-11-23T00:00:00",
          "2023-11-24T00:00:00",
          "2023-11-25T00:00:00",
          "2023-11-26T00:00:00",
          "2023-11-27T00:00:00",
          "2023-11-28T00:00:00",
          "2023-11-29T00:00:00",
          "2023-11-30T00:00:00",
          "2023-12-01T00:00:00",
          "2023-12-02T00:00:00",
          "2023-12-03T00:00:00",
          "2023-12-04T00:00:00",
          "2023-12-05T00:00:00",
          "2023-12-06T00:00:00",
          "2023-12-07T00:00:00",
          "2023-12-08T00:00:00",
          "2023-12-09T00:00:00",
          "2023-12-10T00:00:00",
          "2023-12-11T00:00:00",
          "2023-12-12T00:00:00",
          "2023-12-13T00:00:00",
          "2023-12-14T00:00:00",
          "2023-12-15T00:00:00",
          "2023-12-16T00:00:00",
          "2023-12-17T00:00:00",
          "2023-12-18T00:00:00",
          "2023-12-19T00:00:00",
          "2023-12-20T00:00:00",
          "2023-12-21T00:00:00",
          "2023-12-22T00:00:00",
          "2023-12-23T00:00:00",
          "2023-12-24T00:00:00",
          "2023-12-25T00:00:00",
          "2023-12-26T00:00:00",
          "2023-12-27T00:00:00",
          "2023-12-28T00:00:00",
          "2023-12-29T00:00:00",
          "2023-12-30T00:00:00",
          "2023-12-31T00:00:00",
          "2024-01-01T00:00:00",
          "2024-01-02T00:00:00",
          "2024-01-03T00:00:00",
          "2024-01-04T00:00:00",
          "2024-01-05T00:00:00",
          "2024-01-06T00:00:00",
          "2024-01-07T00:00:00",
          "2024-01-08T00:00:00",
          "2024-01-09T00:00:00",
          "2024-01-10T00:00:00",
          "2024-01-11T00:00:00",
          "2024-01-12T00:00:00",
          "2024-01-13T00:00:00",
          "2024-01-14T00:00:00",
          "2024-01-15T00:00:00",
          "2024-01-16T00:00:00",
          "2024-01-17T00:00:00",
          "2024-01-18T00:00:00",
          "2024-01-19T00:00:00",
          "2024-01-20T00:00:00",
          "2024-01-21T00:00:00",
          "2024-01-22T00:00:00",
          "2024-01-23T00:00:00",
          "2024-01-24T00:00:00",
          "2024-01-25T00:00:00",
          "2024-01-26T00:00:00",
          "2024-01-27T00:00:00",
          "2024-01-28T00:00:00",
          "2024-01-29T00:00:00",
          "2024-01-30T00:00:00",
          "2024-01-31T00:00:00",
          "2024-02-01T00:00:00",
          "2024-02-02T00:00:00",
          "2024-02-03T00:00:00",
          "2024-02-04T00:00:00",
          "2024-02-05T00:00:00",
          "2024-02-06T00:00:00",
          "2024-02-07T00:00:00",
          "2024-02-08T00:00:00",
          "2024-02-09T00:00:00",
          "2024-02-10T00:00:00",
          "2024-02-11T00:00:00",
          "2024-02-12T00:00:00",
          "2024-02-13T00:00:00",
          "2024-02-14T00:00:00",
          "2024-02-15T00:00:00",
          "2024-02-16T00:00:00",
          "2024-02-17T00:00:00",
          "2024-02-18T00:00:00",
          "2024-02-19T00:00:00",
          "2024-02-20T00:00:00",
          "2024-02-21T00:00:00",
          "2024-02-22T00:00:00",
          "2024-02-23T00:00:00",
          "2024-02-24T00:00:00",
          "2024-02-25T00:00:00",
          "2024-02-26T00:00:00",
          "2024-02-27T00:00:00",
          "2024-02-28T00:00:00",
          "2024-02-29T00:00:00",
          "2024-03-01T00:00:00",
          "2024-03-02T00:00:00",
          "2024-03-03T00:00:00",
          "2024-03-04T00:00:00",
          "2024-03-05T00:00:00",
          "2024-03-06T00:00:00",
          "2024-03-07T00:00:00",
          "2024-03-08T00:00:00",
          "2024-03-09T00:00:00",
          "2024-03-10T00:00:00",
          "2024-03-11T00:00:00",
          "2024-03-12T00:00:00",
          "2024-03-13T00:00:00",
          "2024-03-14T00:00:00",
          "2024-03-15T00:00:00",
          "2024-03-16T00:00:00",
          "2024-03-17T00:00:00",
          "2024-03-18T00:00:00",
          "2024-03-19T00:00:00",
          "2024-03-20T00:00:00",
          "2024-03-21T00:00:00",
          "2024-03-22T00:00:00",
          "2024-03-23T00:00:00",
          "2024-03-24T00:00:00",
          "2024-03-25T00:00:00",
          "2024-03-26T00:00:00",
          "2024-03-27T00:00:00",
          "2024-03-28T00:00:00",
          "2024-03-29T00:00:00",
          "2024-03-30T00:00:00",
          "2024-03-31T00:00:00",
          "2024-04-01T00:00:00",
          "2024-04-02T00:00:00",
          "2024-04-03T00:00:00",
          "2024-04-04T00:00:00",
          "2024-04-05T00:00:00",
          "2024-04-06T00:00:00",
          "2024-04-07T00:00:00",
          "2024-04-08T00:00:00",
          "2024-04-09T00:00:00",
          "2024-04-10T00:00:00",
          "2024-04-11T00:00:00",
          "2024-04-12T00:00:00",
          "2024-04-13T00:00:00",
          "2024-04-14T00:00:00",
          "2024-04-15T00:00:00",
          "2024-04-16T00:00:00",
          "2024-04-17T00:00:00",
          "2024-04-18T00:00:00",
          "2024-04-19T00:00:00",
          "2024-04-20T00:00:00",
          "2024-04-21T00:00:00",
          "2024-04-22T00:00:00",
          "2024-04-23T00:00:00",
          "2024-04-24T00:00:00",
          "2024-04-25T00:00:00",
          "2024-04-26T00:00:00",
          "2024-04-27T00:00:00",
          "2024-04-28T00:00:00",
          "2024-04-29T00:00:00",
          "2024-04-30T00:00:00",
          "2024-05-01T00:00:00",
          "2024-05-02T00:00:00",
          "2024-05-03T00:00:00",
          "2024-05-04T00:00:00",
          "2024-05-05T00:00:00",
          "2024-05-06T00:00:00",
          "2024-05-07T00:00:00",
          "2024-05-08T00:00:00",
          "2024-05-09T00:00:00",
          "2024-05-10T00:00:00",
          "2024-05-11T00:00:00",
          "2024-05-12T00:00:00",
          "2024-05-13T00:00:00",
          "2024-05-14T00:00:00",
          "2024-05-15T00:00:00",
          "2024-05-16T00:00:00",
          "2024-05-17T00:00:00",
          "2024-05-18T00:00:00",
          "2024-05-19T00:00:00",
          "2024-05-20T00:00:00",
          "2024-05-21T00:00:00",
          "2024-05-22T00:00:00",
          "2024-05-23T00:00:00",
          "2024-05-24T00:00:00",
          "2024-05-25T00:00:00",
          "2024-05-26T00:00:00",
          "2024-05-27T00:00:00",
          "2024-05-28T00:00:00",
          "2024-05-29T00:00:00",
          "2024-05-30T00:00:00",
          "2024-05-31T00:00:00",
          "2024-06-01T00:00:00",
          "2024-06-02T00:00:00",
          "2024-06-03T00:00:00",
          "2024-06-04T00:00:00",
          "2024-06-05T00:00:00",
          "2024-06-06T00:00:00",
          "2024-06-07T00:00:00",
          "2024-06-08T00:00:00",
          "2024-06-09T00:00:00",
          "2024-06-10T00:00:00",
          "2024-06-11T00:00:00",
          "2024-06-12T00:00:00",
          "2024-06-13T00:00:00",
          "2024-06-14T00:00:00",
          "2024-06-15T00:00:00",
          "2024-06-16T00:00:00",
          "2024-06-17T00:00:00",
          "2024-06-18T00:00:00",
          "2024-06-19T00:00:00",
          "2024-06-20T00:00:00",
          "2024-06-21T00:00:00",
          "2024-06-22T00:00:00",
          "2024-06-23T00:00:00",
          "2024-06-24T00:00:00",
          "2024-06-25T00:00:00",
          "2024-06-26T00:00:00",
          "2024-06-27T00:00:00",
          "2024-06-28T00:00:00",
          "2024-06-29T00:00:00",
          "2024-06-30T00:00:00",
          "2024-07-01T00:00:00",
          "2024-07-02T00:00:00",
          "2024-07-03T00:00:00",
          "2024-07-04T00:00:00",
          "2024-07-05T00:00:00",
          "2024-07-06T00:00:00",
          "2024-07-07T00:00:00",
          "2024-07-08T00:00:00",
          "2024-07-09T00:00:00",
          "2024-07-10T00:00:00",
          "2024-07-11T00:00:00",
          "2024-07-12T00:00:00",
          "2024-07-13T00:00:00",
          "2024-07-14T00:00:00",
          "2024-07-15T00:00:00",
          "2024-07-16T00:00:00",
          "2024-07-17T00:00:00",
          "2024-07-18T00:00:00",
          "2024-07-19T00:00:00",
          "2024-07-20T00:00:00",
          "2024-07-21T00:00:00",
          "2024-07-22T00:00:00",
          "2024-07-23T00:00:00",
          "2024-07-24T00:00:00",
          "2024-07-25T00:00:00",
          "2024-07-26T00:00:00",
          "2024-07-27T00:00:00",
          "2024-07-28T00:00:00",
          "2024-07-29T00:00:00",
          "2024-07-30T00:00:00",
          "2024-07-31T00:00:00",
          "2024-08-01T00:00:00",
          "2024-08-02T00:00:00",
          "2024-08-03T00:00:00",
          "2024-08-04T00:00:00",
          "2024-08-05T00:00:00",
          "2024-08-06T00:00:00",
          "2024-08-07T00:00:00",
          "2024-08-08T00:00:00",
          "2024-08-09T00:00:00",
          "2024-08-10T00:00:00",
          "2024-08-11T00:00:00",
          "2024-08-12T00:00:00",
          "2024-08-13T00:00:00",
          "2024-08-14T00:00:00",
          "2024-08-15T00:00:00",
          "2024-08-16T00:00:00",
          "2024-08-17T00:00:00",
          "2024-08-18T00:00:00",
          "2024-08-19T00:00:00",
          "2024-08-20T00:00:00",
          "2024-08-21T00:00:00",
          "2024-08-22T00:00:00",
          "2024-08-23T00:00:00",
          "2024-08-24T00:00:00",
          "2024-08-25T00:00:00",
          "2024-08-26T00:00:00",
          "2024-08-27T00:00:00",
          "2024-08-28T00:00:00",
          "2024-08-29T00:00:00",
          "2024-08-30T00:00:00",
          "2024-08-31T00:00:00",
          "2024-09-01T00:00:00",
          "2024-09-02T00:00:00",
          "2024-09-03T00:00:00",
          "2024-09-04T00:00:00",
          "2024-09-05T00:00:00",
          "2024-09-06T00:00:00",
          "2024-09-07T00:00:00",
          "2024-09-08T00:00:00",
          "2024-09-09T00:00:00",
          "2024-09-10T00:00:00",
          "2024-09-11T00:00:00",
          "2024-09-12T00:00:00",
          "2024-09-13T00:00:00",
          "2024-09-14T00:00:00",
          "2024-09-15T00:00:00",
          "2024-09-16T00:00:00",
          "2024-09-17T00:00:00",
          "2024-09-18T00:00:00",
          "2024-09-19T00:00:00",
          "2024-09-20T00:00:00",
          "2024-09-21T00:00:00",
          "2024-09-22T00:00:00",
          "2024-09-23T00:00:00",
          "2024-09-24T00:00:00",
          "2024-09-25T00:00:00",
          "2024-09-26T00:00:00",
          "2024-09-27T00:00:00",
          "2024-09-28T00:00:00",
          "2024-09-29T00:00:00",
          "2024-09-30T00:00:00",
          "2024-10-01T00:00:00",
          "2024-10-02T00:00:00",
          "2024-10-03T00:00:00",
          "2024-10-04T00:00:00",
          "2024-10-05T00:00:00",
          "2024-10-06T00:00:00",
          "2024-10-07T00:00:00",
          "2024-10-08T00:00:00",
          "2024-10-09T00:00:00",
          "2024-10-10T00:00:00",
          "2024-10-11T00:00:00",
          "2024-10-12T00:00:00",
          "2024-10-13T00:00:00",
          "2024-10-14T00:00:00",
          "2024-10-15T00:00:00",
          "2024-10-16T00:00:00",
          "2024-10-17T00:00:00",
          "2024-10-18T00:00:00",
          "2024-10-19T00:00:00",
          "2024-10-20T00:00:00",
          "2024-10-21T00:00:00",
          "2024-10-22T00:00:00",
          "2024-10-23T00:00:00",
          "2024-10-24T00:00:00",
          "2024-10-25T00:00:00",
          "2024-10-26T00:00:00",
          "2024-10-27T00:00:00",
          "2024-10-28T00:00:00",
          "2024-10-29T00:00:00",
          "2024-10-30T00:00:00",
          "2024-10-31T00:00:00",
          "2024-11-01T00:00:00",
          "2024-11-02T00:00:00",
          "2024-11-03T00:00:00",
          "2024-11-04T00:00:00",
          "2024-11-05T00:00:00",
          "2024-11-06T00:00:00",
          "2024-11-07T00:00:00",
          "2024-11-08T00:00:00",
          "2024-11-09T00:00:00",
          "2024-11-10T00:00:00",
          "2024-11-11T00:00:00",
          "2024-11-12T00:00:00",
          "2024-11-13T00:00:00",
          "2024-11-14T00:00:00",
          "2024-11-15T00:00:00",
          "2024-11-16T00:00:00",
          "2024-11-17T00:00:00",
          "2024-11-18T00:00:00",
          "2024-11-19T00:00:00",
          "2024-11-20T00:00:00",
          "2024-11-21T00:00:00",
          "2024-11-22T00:00:00",
          "2024-11-23T00:00:00",
          "2024-11-24T00:00:00",
          "2024-11-25T00:00:00",
          "2024-11-26T00:00:00",
          "2024-11-27T00:00:00",
          "2024-11-28T00:00:00",
          "2024-11-29T00:00:00",
          "2024-11-30T00:00:00",
          "2024-12-01T00:00:00",
          "2024-12-02T00:00:00",
          "2024-12-03T00:00:00",
          "2024-12-04T00:00:00",
          "2024-12-05T00:00:00",
          "2024-12-06T00:00:00",
          "2024-12-07T00:00:00",
          "2024-12-08T00:00:00",
          "2024-12-09T00:00:00",
          "2024-12-10T00:00:00",
          "2024-12-11T00:00:00",
          "2024-12-12T00:00:00",
          "2024-12-13T00:00:00",
          "2024-12-14T00:00:00",
          "2024-12-15T00:00:00",
          "2024-12-16T00:00:00",
          "2024-12-17T00:00:00",
          "2024-12-18T00:00:00",
          "2024-12-19T00:00:00",
          "2024-12-20T00:00:00",
          "2024-12-21T00:00:00",
          "2024-12-22T00:00:00",
          "2024-12-23T00:00:00",
          "2024-12-24T00:00:00",
          "2024-12-25T00:00:00",
          "2024-12-26T00:00:00",
          "2024-12-27T00:00:00",
          "2024-12-28T00:00:00",
          "2024-12-29T00:00:00",
          "2024-12-30T00:00:00",
          "2024-12-31T00:00:00",
          "2025-01-01T00:00:00",
          "2025-01-02T00:00:00",
          "2025-01-03T00:00:00",
          "2025-01-04T00:00:00",
          "2025-01-05T00:00:00",
          "2025-01-06T00:00:00",
          "2025-01-07T00:00:00",
          "2025-01-08T00:00:00",
          "2025-01-09T00:00:00",
          "2025-01-10T00:00:00",
          "2025-01-11T00:00:00",
          "2025-01-12T00:00:00",
          "2025-01-13T00:00:00",
          "2025-01-14T00:00:00",
          "2025-01-15T00:00:00",
          "2025-01-16T00:00:00",
          "2025-01-17T00:00:00",
          "2025-01-18T00:00:00",
          "2025-01-19T00:00:00",
          "2025-01-20T00:00:00",
          "2025-01-21T00:00:00",
          "2025-01-22T00:00:00",
          "2025-01-23T00:00:00",
          "2025-01-24T00:00:00",
          "2025-01-25T00:00:00",
          "2025-01-26T00:00:00",
          "2025-01-27T00:00:00",
          "2025-01-28T00:00:00",
          "2025-01-29T00:00:00",
          "2025-01-30T00:00:00",
          "2025-01-31T00:00:00",
          "2025-02-01T00:00:00",
          "2025-02-02T00:00:00",
          "2025-02-03T00:00:00",
          "2025-02-04T00:00:00",
          "2025-02-05T00:00:00",
          "2025-02-06T00:00:00",
          "2025-02-07T00:00:00",
          "2025-02-08T00:00:00",
          "2025-02-09T00:00:00",
          "2025-02-10T00:00:00",
          "2025-02-11T00:00:00",
          "2025-02-12T00:00:00",
          "2025-02-13T00:00:00",
          "2025-02-14T00:00:00",
          "2025-02-15T00:00:00",
          "2025-02-16T00:00:00",
          "2025-02-17T00:00:00",
          "2025-02-18T00:00:00",
          "2025-02-19T00:00:00",
          "2025-02-20T00:00:00"
         ],
         "y": [
          26089.693359375,
          26106.150390625,
          27727.392578125,
          27297.265625,
          25931.47265625,
          25800.724609375,
          25868.798828125,
          25969.56640625,
          25812.416015625,
          25779.982421875,
          25753.236328125,
          26240.1953125,
          25905.654296875,
          25895.677734375,
          25832.2265625,
          25162.654296875,
          25833.34375,
          26228.32421875,
          26539.673828125,
          26608.693359375,
          26568.28125,
          26534.1875,
          26754.28125,
          27211.1171875,
          27132.0078125,
          26567.6328125,
          26579.568359375,
          26579.390625,
          26256.826171875,
          26298.48046875,
          26217.25,
          26352.716796875,
          27021.546875,
          26911.720703125,
          26967.916015625,
          27983.75,
          27530.78515625,
          27429.978515625,
          27799.39453125,
          27415.912109375,
          27946.59765625,
          27968.83984375,
          27935.08984375,
          27583.677734375,
          27391.01953125,
          26873.3203125,
          26756.798828125,
          26862.375,
          26861.70703125,
          27159.65234375,
          28519.466796875,
          28415.748046875,
          28328.341796875,
          28719.806640625,
          29682.94921875,
          29918.412109375,
          29993.896484375,
          33086.234375,
          33901.52734375,
          34502.8203125,
          34156.6484375,
          33909.80078125,
          34089.57421875,
          34538.48046875,
          34502.36328125,
          34667.78125,
          35437.25390625,
          34938.2421875,
          34732.32421875,
          35082.1953125,
          35049.35546875,
          35037.37109375,
          35443.5625,
          35655.27734375,
          36693.125,
          37313.96875,
          37138.05078125,
          37054.51953125,
          36502.35546875,
          35537.640625,
          37880.58203125,
          36154.76953125,
          36596.68359375,
          36585.703125,
          37386.546875,
          37476.95703125,
          35813.8125,
          37432.33984375,
          37289.62109375,
          37720.28125,
          37796.79296875,
          37479.12109375,
          37254.16796875,
          37831.0859375,
          37858.4921875,
          37712.74609375,
          38688.75,
          39476.33203125,
          39978.390625,
          41980.09765625,
          44080.6484375,
          43746.4453125,
          43292.6640625,
          44166.6015625,
          43725.984375,
          43779.69921875,
          41243.83203125,
          41450.22265625,
          42890.7421875,
          43023.97265625,
          41929.7578125,
          42240.1171875,
          41364.6640625,
          42623.5390625,
          42270.52734375,
          43652.25,
          43869.15234375,
          43997.90234375,
          43739.54296875,
          43016.1171875,
          43613.140625,
          42520.40234375,
          43442.85546875,
          42627.85546875,
          42099.40234375,
          42156.90234375,
          42265.1875,
          44167.33203125,
          44957.96875,
          42848.17578125,
          44179.921875,
          44162.69140625,
          43989.1953125,
          43943.09765625,
          46970.50390625,
          46139.73046875,
          46627.77734375,
          46368.5859375,
          42853.16796875,
          42842.3828125,
          41796.26953125,
          42511.96875,
          43154.9453125,
          42742.65234375,
          41262.05859375,
          41618.40625,
          41665.5859375,
          41545.78515625,
          39507.3671875,
          39845.55078125,
          40077.07421875,
          39933.80859375,
          41816.87109375,
          42120.0546875,
          42035.59375,
          43288.24609375,
          42952.609375,
          42582.60546875,
          43075.7734375,
          43185.859375,
          42992.25,
          42583.58203125,
          42658.66796875,
          43084.671875,
          44318.22265625,
          45301.56640625,
          47147.19921875,
          47771.27734375,
          48293.91796875,
          49958.22265625,
          49742.44140625,
          51826.6953125,
          51938.5546875,
          52160.203125,
          51662.99609375,
          52122.546875,
          51779.14453125,
          52284.875,
          51839.1796875,
          51304.97265625,
          50731.94921875,
          51571.1015625,
          51733.23828125,
          54522.40234375,
          57085.37109375,
          62504.7890625,
          61198.3828125,
          62440.6328125,
          62029.84765625,
          63167.37109375,
          68330.4140625,
          63801.19921875,
          66106.8046875,
          66925.484375,
          68300.09375,
          68498.8828125,
          69019.7890625,
          72123.90625,
          71481.2890625,
          73083.5,
          71396.59375,
          69403.7734375,
          65315.1171875,
          68390.625,
          67548.59375,
          61912.7734375,
          67913.671875,
          65491.390625,
          63778.76171875,
          64062.203125,
          67234.171875,
          69958.8125,
          69987.8359375,
          69455.34375,
          70744.953125,
          69892.828125,
          69645.3046875,
          71333.6484375,
          69702.1484375,
          65446.97265625,
          65980.8125,
          68508.84375,
          67837.640625,
          68896.109375,
          69362.5546875,
          71631.359375,
          69139.015625,
          70587.8828125,
          70060.609375,
          67195.8671875,
          63821.47265625,
          65738.7265625,
          63426.2109375,
          63811.86328125,
          61276.69140625,
          63512.75390625,
          63843.5703125,
          64994.44140625,
          64926.64453125,
          66837.6796875,
          66407.2734375,
          64276.8984375,
          64481.70703125,
          63755.3203125,
          63419.140625,
          63113.23046875,
          63841.12109375,
          60636.85546875,
          58254.01171875,
          59123.43359375,
          62889.8359375,
          63891.47265625,
          64031.1328125,
          63161.94921875,
          62334.81640625,
          61187.94140625,
          63049.9609375,
          60792.77734375,
          60793.7109375,
          61448.39453125,
          62901.44921875,
          61552.7890625,
          66267.4921875,
          65231.58203125,
          67051.875,
          66940.8046875,
          66278.3671875,
          71448.1953125,
          70136.53125,
          69122.3359375,
          67929.5625,
          68526.1015625,
          69265.9453125,
          68518.09375,
          69394.5546875,
          68296.21875,
          67578.09375,
          68364.9921875,
          67491.4140625,
          67706.9375,
          67751.6015625,
          68804.78125,
          70567.765625,
          71082.8203125,
          70757.1640625,
          69342.5859375,
          69305.7734375,
          69647.9921875,
          69512.28125,
          67332.03125,
          68241.1875,
          66756.3984375,
          66011.09375,
          66191,
          66639.046875,
          66490.296875,
          65140.74609375,
          64960.296875,
          64828.65625,
          64096.19921875,
          64252.578125,
          63180.796875,
          60277.4140625,
          61804.640625,
          60811.27734375,
          61604.80078125,
          60320.13671875,
          60887.37890625,
          62678.29296875,
          62851.98046875,
          62029.015625,
          60173.921875,
          56977.703125,
          56662.375,
          58303.5390625,
          55849.109375,
          56705.09765625,
          58009.2265625,
          57742.49609375,
          57344.9140625,
          57899.46484375,
          59231.953125,
          60787.79296875,
          64870.15234375,
          65097.1484375,
          64118.79296875,
          63974.06640625,
          66710.15625,
          67163.6484375,
          68154.5234375,
          67585.25,
          65927.671875,
          65372.1328125,
          65777.2265625,
          67912.0625,
          67813.3359375,
          68255.8671875,
          66819.9140625,
          66201.015625,
          64619.25,
          65357.5,
          61415.06640625,
          60680.09375,
          58116.9765625,
          53991.45703125,
          56034.31640625,
          55027.4609375,
          61710.13671875,
          60880.11328125,
          60945.8125,
          58719.484375,
          59354.515625,
          60609.56640625,
          58737.26953125,
          57560.09765625,
          58894.10546875,
          59478.97265625,
          58483.96484375,
          59493.453125,
          59012.79296875,
          61175.19140625,
          60381.9140625,
          64094.35546875,
          64178.9921875,
          64333.54296875,
          62880.66015625,
          59504.1328125,
          59027.625,
          59388.1796875,
          59119.4765625,
          58969.8984375,
          57325.48828125,
          59112.48046875,
          57431.0234375,
          57971.5390625,
          56160.48828125,
          53948.75390625,
          54139.6875,
          54841.56640625,
          57019.53515625,
          57648.7109375,
          57343.171875,
          58127.01171875,
          60571.30078125,
          60005.12109375,
          59182.8359375,
          58192.5078125,
          60308.5390625,
          61649.6796875,
          62940.45703125,
          63192.9765625,
          63394.83984375,
          63648.7109375,
          63329.80078125,
          64301.96875,
          63143.14453125,
          65181.01953125,
          65790.6640625,
          65887.6484375,
          65635.3046875,
          63329.5,
          60837.0078125,
          60632.78515625,
          60759.40234375,
          62067.4765625,
          62089.94921875,
          62818.953125,
          62236.66015625,
          62131.96875,
          60582.1015625,
          60274.5,
          62445.08984375,
          63193.0234375,
          62851.375,
          66046.125,
          67041.109375,
          67612.71875,
          67399.8359375,
          68418.7890625,
          68362.734375,
          69001.703125,
          67367.8515625,
          67361.40625,
          66432.1953125,
          68161.0546875,
          66642.4140625,
          67014.6953125,
          67929.296875,
          69907.7578125,
          72720.4921875,
          72339.5390625,
          70215.1875,
          69482.46875,
          69289.2734375,
          68741.1171875,
          67811.5078125,
          69359.5625,
          75639.078125,
          75904.859375,
          76545.4765625,
          76778.8671875,
          80474.1875,
          88701.484375,
          87955.8125,
          90584.1640625,
          87250.4296875,
          91066.0078125,
          90558.4765625,
          89845.8515625,
          90542.640625,
          92343.7890625,
          94339.4921875,
          98504.7265625,
          98997.6640625,
          97777.28125,
          98013.8203125,
          93102.296875,
          91985.3203125,
          95962.53125,
          95652.46875,
          97461.5234375,
          96449.0546875,
          97279.7890625,
          95865.3046875,
          96002.1640625,
          98768.53125,
          96593.5703125,
          99920.7109375,
          99923.3359375,
          101236.015625,
          97432.71875,
          96675.4296875,
          101173.03125,
          100043,
          101459.2578125,
          101372.96875,
          104298.6953125,
          106029.71875,
          106140.6015625,
          100041.5390625,
          97490.953125,
          97755.9296875,
          97224.7265625,
          95104.9375,
          94686.2421875,
          98676.09375,
          99299.1953125,
          95795.515625,
          94164.859375,
          95163.9296875,
          93530.2265625,
          92643.2109375,
          93429.203125,
          94419.7578125,
          96886.875,
          98107.4296875,
          98236.2265625,
          98314.9609375,
          102078.0859375,
          96922.703125,
          95043.5234375,
          92484.0390625,
          94701.453125,
          94566.59375,
          94488.4375,
          94516.5234375,
          96534.046875,
          100504.4921875,
          99756.90625,
          104462.0390625,
          104408.0703125,
          101089.609375,
          102016.6640625,
          106146.265625,
          103653.0703125,
          103960.171875,
          104819.484375,
          104714.6484375,
          102682.5,
          102087.6875,
          101332.4765625,
          103703.2109375,
          104735.3046875,
          102405.0234375,
          100655.90625,
          97688.9765625,
          101405.421875,
          97871.8203125,
          96615.4453125,
          96593.296875,
          96529.0859375,
          96482.453125,
          96500.09375,
          97437.5546875,
          95747.4296875,
          97885.859375,
          96623.8671875,
          97508.96875,
          97580.3515625,
          96175.03125,
          95773.3828125,
          95539.546875,
          96635.609375,
          98333.9375
         ]
        },
        {
         "marker": {
          "color": "green",
          "size": 10,
          "symbol": "triangle-up"
         },
         "mode": "markers",
         "name": "Entry (Buy)",
         "type": "scatter",
         "x": [
          "2023-08-27T00:00:00",
          "2023-08-28T00:00:00",
          "2023-08-29T00:00:00",
          "2023-08-30T00:00:00",
          "2023-08-31T00:00:00",
          "2023-09-01T00:00:00",
          "2023-09-02T00:00:00",
          "2023-09-03T00:00:00",
          "2023-09-04T00:00:00",
          "2023-09-05T00:00:00",
          "2023-09-06T00:00:00",
          "2023-09-07T00:00:00",
          "2023-09-08T00:00:00",
          "2023-09-09T00:00:00",
          "2023-09-10T00:00:00",
          "2023-09-11T00:00:00",
          "2023-09-12T00:00:00",
          "2023-09-13T00:00:00",
          "2023-09-14T00:00:00",
          "2023-09-15T00:00:00",
          "2023-09-16T00:00:00",
          "2023-09-17T00:00:00",
          "2023-09-18T00:00:00",
          "2023-09-19T00:00:00",
          "2023-09-20T00:00:00",
          "2023-09-21T00:00:00",
          "2023-09-22T00:00:00",
          "2023-09-23T00:00:00",
          "2023-09-24T00:00:00",
          "2023-09-25T00:00:00",
          "2023-09-26T00:00:00",
          "2023-09-27T00:00:00",
          "2023-09-28T00:00:00",
          "2023-09-29T00:00:00",
          "2023-09-30T00:00:00",
          "2023-10-01T00:00:00",
          "2023-10-02T00:00:00",
          "2023-10-03T00:00:00",
          "2023-10-04T00:00:00",
          "2023-10-05T00:00:00",
          "2023-10-06T00:00:00",
          "2023-10-07T00:00:00",
          "2023-10-08T00:00:00",
          "2023-10-09T00:00:00",
          "2023-10-10T00:00:00",
          "2023-10-11T00:00:00",
          "2023-10-12T00:00:00",
          "2023-10-13T00:00:00",
          "2023-10-14T00:00:00",
          "2023-10-15T00:00:00",
          "2023-10-16T00:00:00",
          "2023-10-17T00:00:00",
          "2023-10-18T00:00:00",
          "2023-10-19T00:00:00",
          "2023-10-20T00:00:00",
          "2023-10-21T00:00:00",
          "2023-10-22T00:00:00",
          "2023-10-23T00:00:00",
          "2023-10-24T00:00:00",
          "2023-10-25T00:00:00",
          "2023-10-26T00:00:00",
          "2023-10-27T00:00:00",
          "2023-10-28T00:00:00",
          "2023-10-29T00:00:00",
          "2023-10-30T00:00:00",
          "2023-10-31T00:00:00",
          "2023-11-01T00:00:00",
          "2023-11-02T00:00:00",
          "2023-11-03T00:00:00",
          "2023-11-04T00:00:00",
          "2023-11-05T00:00:00",
          "2023-11-06T00:00:00",
          "2023-11-07T00:00:00",
          "2023-11-08T00:00:00",
          "2023-11-09T00:00:00",
          "2023-11-10T00:00:00",
          "2023-11-11T00:00:00",
          "2023-11-12T00:00:00",
          "2023-11-13T00:00:00",
          "2023-11-14T00:00:00",
          "2023-11-15T00:00:00",
          "2023-11-16T00:00:00",
          "2023-11-17T00:00:00",
          "2023-11-18T00:00:00",
          "2023-11-19T00:00:00",
          "2023-11-20T00:00:00",
          "2023-11-21T00:00:00",
          "2023-11-22T00:00:00",
          "2023-11-23T00:00:00",
          "2023-11-24T00:00:00",
          "2023-11-25T00:00:00",
          "2023-11-26T00:00:00",
          "2023-11-27T00:00:00",
          "2023-11-28T00:00:00",
          "2023-11-29T00:00:00",
          "2023-11-30T00:00:00",
          "2023-12-01T00:00:00",
          "2023-12-02T00:00:00",
          "2023-12-03T00:00:00",
          "2023-12-04T00:00:00",
          "2023-12-05T00:00:00",
          "2023-12-06T00:00:00",
          "2023-12-07T00:00:00",
          "2023-12-08T00:00:00",
          "2023-12-09T00:00:00",
          "2023-12-10T00:00:00",
          "2023-12-11T00:00:00",
          "2023-12-12T00:00:00",
          "2023-12-13T00:00:00",
          "2023-12-14T00:00:00",
          "2023-12-15T00:00:00",
          "2023-12-16T00:00:00",
          "2023-12-17T00:00:00",
          "2023-12-18T00:00:00",
          "2023-12-19T00:00:00",
          "2023-12-20T00:00:00",
          "2023-12-21T00:00:00",
          "2023-12-22T00:00:00",
          "2023-12-23T00:00:00",
          "2023-12-24T00:00:00",
          "2023-12-25T00:00:00",
          "2023-12-26T00:00:00",
          "2023-12-27T00:00:00",
          "2023-12-28T00:00:00",
          "2023-12-29T00:00:00",
          "2023-12-30T00:00:00",
          "2023-12-31T00:00:00",
          "2024-01-01T00:00:00",
          "2024-01-02T00:00:00",
          "2024-01-03T00:00:00",
          "2024-01-04T00:00:00",
          "2024-01-05T00:00:00",
          "2024-01-06T00:00:00",
          "2024-01-07T00:00:00",
          "2024-01-08T00:00:00",
          "2024-01-09T00:00:00",
          "2024-01-10T00:00:00",
          "2024-01-11T00:00:00",
          "2024-01-12T00:00:00",
          "2024-01-13T00:00:00",
          "2024-01-14T00:00:00",
          "2024-01-15T00:00:00",
          "2024-01-16T00:00:00",
          "2024-01-17T00:00:00",
          "2024-01-18T00:00:00",
          "2024-01-19T00:00:00",
          "2024-01-20T00:00:00",
          "2024-01-21T00:00:00",
          "2024-01-22T00:00:00",
          "2024-01-23T00:00:00",
          "2024-01-24T00:00:00",
          "2024-01-25T00:00:00",
          "2024-01-26T00:00:00",
          "2024-01-27T00:00:00",
          "2024-01-28T00:00:00",
          "2024-01-29T00:00:00",
          "2024-01-30T00:00:00",
          "2024-01-31T00:00:00",
          "2024-02-01T00:00:00",
          "2024-02-02T00:00:00",
          "2024-02-03T00:00:00",
          "2024-02-04T00:00:00",
          "2024-02-05T00:00:00",
          "2024-02-06T00:00:00",
          "2024-02-07T00:00:00",
          "2024-02-08T00:00:00",
          "2024-02-09T00:00:00",
          "2024-02-10T00:00:00",
          "2024-02-11T00:00:00",
          "2024-02-12T00:00:00",
          "2024-02-13T00:00:00",
          "2024-02-14T00:00:00",
          "2024-02-15T00:00:00",
          "2024-02-16T00:00:00",
          "2024-02-17T00:00:00",
          "2024-02-18T00:00:00",
          "2024-02-19T00:00:00",
          "2024-02-20T00:00:00",
          "2024-02-21T00:00:00",
          "2024-02-22T00:00:00",
          "2024-02-23T00:00:00",
          "2024-02-24T00:00:00",
          "2024-02-25T00:00:00",
          "2024-02-26T00:00:00",
          "2024-02-27T00:00:00",
          "2024-02-28T00:00:00",
          "2024-02-29T00:00:00",
          "2024-03-01T00:00:00",
          "2024-03-02T00:00:00",
          "2024-03-03T00:00:00",
          "2024-03-04T00:00:00",
          "2024-03-05T00:00:00",
          "2024-03-06T00:00:00",
          "2024-03-07T00:00:00",
          "2024-03-08T00:00:00",
          "2024-03-09T00:00:00",
          "2024-03-10T00:00:00",
          "2024-03-11T00:00:00",
          "2024-03-12T00:00:00",
          "2024-03-13T00:00:00",
          "2024-03-14T00:00:00",
          "2024-03-15T00:00:00",
          "2024-03-16T00:00:00",
          "2024-03-17T00:00:00",
          "2024-03-18T00:00:00",
          "2024-03-19T00:00:00",
          "2024-03-20T00:00:00",
          "2024-03-21T00:00:00",
          "2024-03-22T00:00:00",
          "2024-03-23T00:00:00",
          "2024-03-24T00:00:00",
          "2024-03-25T00:00:00",
          "2024-03-26T00:00:00",
          "2024-03-27T00:00:00",
          "2024-03-28T00:00:00",
          "2024-03-29T00:00:00",
          "2024-03-30T00:00:00",
          "2024-03-31T00:00:00",
          "2024-04-01T00:00:00",
          "2024-04-02T00:00:00",
          "2024-04-03T00:00:00",
          "2024-04-04T00:00:00",
          "2024-04-05T00:00:00",
          "2024-04-06T00:00:00",
          "2024-04-07T00:00:00",
          "2024-04-08T00:00:00",
          "2024-04-09T00:00:00",
          "2024-04-10T00:00:00",
          "2024-04-11T00:00:00",
          "2024-04-12T00:00:00",
          "2024-04-13T00:00:00",
          "2024-04-14T00:00:00",
          "2024-04-15T00:00:00",
          "2024-04-16T00:00:00",
          "2024-04-17T00:00:00",
          "2024-04-18T00:00:00",
          "2024-04-19T00:00:00",
          "2024-04-20T00:00:00",
          "2024-04-21T00:00:00",
          "2024-04-22T00:00:00",
          "2024-04-23T00:00:00",
          "2024-04-24T00:00:00",
          "2024-04-25T00:00:00",
          "2024-04-26T00:00:00",
          "2024-04-27T00:00:00",
          "2024-04-28T00:00:00",
          "2024-04-29T00:00:00",
          "2024-04-30T00:00:00",
          "2024-05-01T00:00:00",
          "2024-05-02T00:00:00",
          "2024-05-03T00:00:00",
          "2024-05-04T00:00:00",
          "2024-05-05T00:00:00",
          "2024-05-06T00:00:00",
          "2024-05-07T00:00:00",
          "2024-05-08T00:00:00",
          "2024-05-09T00:00:00",
          "2024-05-10T00:00:00",
          "2024-05-11T00:00:00",
          "2024-05-12T00:00:00",
          "2024-05-13T00:00:00",
          "2024-05-14T00:00:00",
          "2024-05-15T00:00:00",
          "2024-05-16T00:00:00",
          "2024-05-17T00:00:00",
          "2024-05-18T00:00:00",
          "2024-05-19T00:00:00",
          "2024-05-20T00:00:00",
          "2024-05-21T00:00:00",
          "2024-05-22T00:00:00",
          "2024-05-23T00:00:00",
          "2024-05-24T00:00:00",
          "2024-05-25T00:00:00",
          "2024-05-26T00:00:00",
          "2024-05-27T00:00:00",
          "2024-05-28T00:00:00",
          "2024-05-29T00:00:00",
          "2024-05-30T00:00:00",
          "2024-05-31T00:00:00",
          "2024-06-01T00:00:00",
          "2024-06-02T00:00:00",
          "2024-06-03T00:00:00",
          "2024-06-04T00:00:00",
          "2024-06-05T00:00:00",
          "2024-06-06T00:00:00",
          "2024-06-07T00:00:00",
          "2024-06-08T00:00:00",
          "2024-06-09T00:00:00",
          "2024-06-10T00:00:00",
          "2024-06-11T00:00:00",
          "2024-06-12T00:00:00",
          "2024-06-13T00:00:00",
          "2024-06-14T00:00:00",
          "2024-06-15T00:00:00",
          "2024-06-16T00:00:00",
          "2024-06-17T00:00:00",
          "2024-06-18T00:00:00",
          "2024-06-19T00:00:00",
          "2024-06-20T00:00:00",
          "2024-06-21T00:00:00",
          "2024-06-22T00:00:00",
          "2024-06-23T00:00:00",
          "2024-06-24T00:00:00",
          "2024-06-25T00:00:00",
          "2024-06-26T00:00:00",
          "2024-06-27T00:00:00",
          "2024-06-28T00:00:00",
          "2024-06-29T00:00:00",
          "2024-06-30T00:00:00",
          "2024-07-01T00:00:00",
          "2024-07-02T00:00:00",
          "2024-07-03T00:00:00",
          "2024-07-04T00:00:00",
          "2024-07-05T00:00:00",
          "2024-07-06T00:00:00",
          "2024-07-07T00:00:00",
          "2024-07-08T00:00:00",
          "2024-07-09T00:00:00",
          "2024-07-10T00:00:00",
          "2024-07-11T00:00:00",
          "2024-07-12T00:00:00",
          "2024-07-13T00:00:00",
          "2024-07-14T00:00:00",
          "2024-07-15T00:00:00",
          "2024-07-16T00:00:00",
          "2024-07-17T00:00:00",
          "2024-07-18T00:00:00",
          "2024-07-19T00:00:00",
          "2024-07-20T00:00:00",
          "2024-07-21T00:00:00",
          "2024-07-22T00:00:00",
          "2024-07-23T00:00:00",
          "2024-07-24T00:00:00",
          "2024-07-25T00:00:00",
          "2024-07-26T00:00:00",
          "2024-07-27T00:00:00",
          "2024-07-28T00:00:00",
          "2024-07-29T00:00:00",
          "2024-07-30T00:00:00",
          "2024-07-31T00:00:00",
          "2024-08-01T00:00:00",
          "2024-08-02T00:00:00",
          "2024-08-03T00:00:00",
          "2024-08-04T00:00:00",
          "2024-08-05T00:00:00",
          "2024-08-06T00:00:00",
          "2024-08-07T00:00:00",
          "2024-08-08T00:00:00",
          "2024-08-09T00:00:00",
          "2024-08-10T00:00:00",
          "2024-08-11T00:00:00",
          "2024-08-12T00:00:00",
          "2024-08-13T00:00:00",
          "2024-08-14T00:00:00",
          "2024-08-15T00:00:00",
          "2024-08-16T00:00:00",
          "2024-08-17T00:00:00",
          "2024-08-18T00:00:00",
          "2024-08-19T00:00:00",
          "2024-08-20T00:00:00",
          "2024-08-21T00:00:00",
          "2024-08-22T00:00:00",
          "2024-08-23T00:00:00",
          "2024-08-24T00:00:00",
          "2024-08-25T00:00:00",
          "2024-08-26T00:00:00",
          "2024-08-27T00:00:00",
          "2024-08-28T00:00:00",
          "2024-08-29T00:00:00",
          "2024-08-30T00:00:00",
          "2024-08-31T00:00:00",
          "2024-09-01T00:00:00",
          "2024-09-02T00:00:00",
          "2024-09-03T00:00:00",
          "2024-09-04T00:00:00",
          "2024-09-05T00:00:00",
          "2024-09-06T00:00:00",
          "2024-09-07T00:00:00",
          "2024-09-08T00:00:00",
          "2024-09-09T00:00:00",
          "2024-09-10T00:00:00",
          "2024-09-11T00:00:00",
          "2024-09-12T00:00:00",
          "2024-09-13T00:00:00",
          "2024-09-14T00:00:00",
          "2024-09-15T00:00:00",
          "2024-09-16T00:00:00",
          "2024-09-17T00:00:00",
          "2024-09-18T00:00:00",
          "2024-09-19T00:00:00",
          "2024-09-20T00:00:00",
          "2024-09-21T00:00:00",
          "2024-09-22T00:00:00",
          "2024-09-23T00:00:00",
          "2024-09-24T00:00:00",
          "2024-09-25T00:00:00",
          "2024-09-26T00:00:00",
          "2024-09-27T00:00:00",
          "2024-09-28T00:00:00",
          "2024-09-29T00:00:00",
          "2024-09-30T00:00:00",
          "2024-10-01T00:00:00",
          "2024-10-02T00:00:00",
          "2024-10-03T00:00:00",
          "2024-10-04T00:00:00",
          "2024-10-05T00:00:00",
          "2024-10-06T00:00:00",
          "2024-10-07T00:00:00",
          "2024-10-08T00:00:00",
          "2024-10-09T00:00:00",
          "2024-10-10T00:00:00",
          "2024-10-11T00:00:00",
          "2024-10-12T00:00:00",
          "2024-10-13T00:00:00",
          "2024-10-14T00:00:00",
          "2024-10-15T00:00:00",
          "2024-10-16T00:00:00",
          "2024-10-17T00:00:00",
          "2024-10-18T00:00:00",
          "2024-10-19T00:00:00",
          "2024-10-20T00:00:00",
          "2024-10-21T00:00:00",
          "2024-10-22T00:00:00",
          "2024-10-23T00:00:00",
          "2024-10-24T00:00:00",
          "2024-10-25T00:00:00",
          "2024-10-26T00:00:00",
          "2024-10-27T00:00:00",
          "2024-10-28T00:00:00",
          "2024-10-29T00:00:00",
          "2024-10-30T00:00:00",
          "2024-10-31T00:00:00",
          "2024-11-01T00:00:00",
          "2024-11-02T00:00:00",
          "2024-11-03T00:00:00",
          "2024-11-04T00:00:00",
          "2024-11-05T00:00:00",
          "2024-11-06T00:00:00",
          "2024-11-07T00:00:00",
          "2024-11-08T00:00:00",
          "2024-11-09T00:00:00",
          "2024-11-10T00:00:00",
          "2024-11-11T00:00:00",
          "2024-11-12T00:00:00",
          "2024-11-13T00:00:00",
          "2024-11-14T00:00:00",
          "2024-11-15T00:00:00",
          "2024-11-16T00:00:00",
          "2024-11-17T00:00:00",
          "2024-11-18T00:00:00",
          "2024-11-19T00:00:00",
          "2024-11-20T00:00:00",
          "2024-11-21T00:00:00",
          "2024-11-22T00:00:00",
          "2024-11-23T00:00:00",
          "2024-11-24T00:00:00",
          "2024-11-25T00:00:00",
          "2024-11-26T00:00:00",
          "2024-11-27T00:00:00",
          "2024-11-28T00:00:00",
          "2024-11-29T00:00:00",
          "2024-11-30T00:00:00",
          "2024-12-01T00:00:00",
          "2024-12-02T00:00:00",
          "2024-12-03T00:00:00",
          "2024-12-04T00:00:00",
          "2024-12-05T00:00:00",
          "2024-12-06T00:00:00",
          "2024-12-07T00:00:00",
          "2024-12-08T00:00:00",
          "2024-12-09T00:00:00",
          "2024-12-10T00:00:00",
          "2024-12-11T00:00:00",
          "2024-12-12T00:00:00",
          "2024-12-13T00:00:00",
          "2024-12-14T00:00:00",
          "2024-12-15T00:00:00",
          "2024-12-16T00:00:00",
          "2024-12-17T00:00:00",
          "2024-12-18T00:00:00",
          "2024-12-19T00:00:00",
          "2024-12-20T00:00:00",
          "2024-12-21T00:00:00",
          "2024-12-22T00:00:00",
          "2024-12-23T00:00:00",
          "2024-12-24T00:00:00",
          "2024-12-25T00:00:00",
          "2024-12-26T00:00:00",
          "2024-12-27T00:00:00",
          "2024-12-28T00:00:00",
          "2024-12-29T00:00:00",
          "2024-12-30T00:00:00",
          "2024-12-31T00:00:00",
          "2025-01-01T00:00:00",
          "2025-01-02T00:00:00",
          "2025-01-03T00:00:00",
          "2025-01-04T00:00:00",
          "2025-01-05T00:00:00",
          "2025-01-06T00:00:00",
          "2025-01-07T00:00:00",
          "2025-01-08T00:00:00",
          "2025-01-09T00:00:00",
          "2025-01-10T00:00:00",
          "2025-01-11T00:00:00",
          "2025-01-12T00:00:00",
          "2025-01-13T00:00:00",
          "2025-01-14T00:00:00",
          "2025-01-15T00:00:00",
          "2025-01-16T00:00:00",
          "2025-01-17T00:00:00",
          "2025-01-18T00:00:00",
          "2025-01-19T00:00:00",
          "2025-01-20T00:00:00",
          "2025-01-21T00:00:00",
          "2025-01-22T00:00:00",
          "2025-01-23T00:00:00",
          "2025-01-24T00:00:00",
          "2025-01-25T00:00:00",
          "2025-01-26T00:00:00",
          "2025-01-27T00:00:00",
          "2025-01-28T00:00:00",
          "2025-01-29T00:00:00",
          "2025-01-30T00:00:00",
          "2025-01-31T00:00:00",
          "2025-02-01T00:00:00",
          "2025-02-02T00:00:00",
          "2025-02-03T00:00:00",
          "2025-02-04T00:00:00",
          "2025-02-05T00:00:00",
          "2025-02-06T00:00:00",
          "2025-02-07T00:00:00",
          "2025-02-08T00:00:00",
          "2025-02-09T00:00:00",
          "2025-02-10T00:00:00",
          "2025-02-11T00:00:00",
          "2025-02-12T00:00:00",
          "2025-02-13T00:00:00",
          "2025-02-14T00:00:00",
          "2025-02-15T00:00:00",
          "2025-02-16T00:00:00",
          "2025-02-17T00:00:00",
          "2025-02-18T00:00:00",
          "2025-02-19T00:00:00",
          "2025-02-20T00:00:00"
         ],
         "y": [
          26089.693359375,
          26106.150390625,
          27727.392578125,
          27297.265625,
          25931.47265625,
          25800.724609375,
          25868.798828125,
          25969.56640625,
          25812.416015625,
          25779.982421875,
          25753.236328125,
          26240.1953125,
          25905.654296875,
          25895.677734375,
          25832.2265625,
          25162.654296875,
          25833.34375,
          26228.32421875,
          26539.673828125,
          26608.693359375,
          26568.28125,
          26534.1875,
          26754.28125,
          27211.1171875,
          27132.0078125,
          26567.6328125,
          26579.568359375,
          26579.390625,
          26256.826171875,
          26298.48046875,
          26217.25,
          26352.716796875,
          27021.546875,
          26911.720703125,
          26967.916015625,
          27983.75,
          27530.78515625,
          27429.978515625,
          27799.39453125,
          27415.912109375,
          27946.59765625,
          27968.83984375,
          27935.08984375,
          27583.677734375,
          27391.01953125,
          26873.3203125,
          26756.798828125,
          26862.375,
          26861.70703125,
          27159.65234375,
          28519.466796875,
          28415.748046875,
          28328.341796875,
          28719.806640625,
          29682.94921875,
          29918.412109375,
          29993.896484375,
          33086.234375,
          33901.52734375,
          34502.8203125,
          34156.6484375,
          33909.80078125,
          34089.57421875,
          34538.48046875,
          34502.36328125,
          34667.78125,
          35437.25390625,
          34938.2421875,
          34732.32421875,
          35082.1953125,
          35049.35546875,
          35037.37109375,
          35443.5625,
          35655.27734375,
          36693.125,
          37313.96875,
          37138.05078125,
          37054.51953125,
          36502.35546875,
          35537.640625,
          37880.58203125,
          36154.76953125,
          36596.68359375,
          36585.703125,
          37386.546875,
          37476.95703125,
          35813.8125,
          37432.33984375,
          37289.62109375,
          37720.28125,
          37796.79296875,
          37479.12109375,
          37254.16796875,
          37831.0859375,
          37858.4921875,
          37712.74609375,
          38688.75,
          39476.33203125,
          39978.390625,
          41980.09765625,
          44080.6484375,
          43746.4453125,
          43292.6640625,
          44166.6015625,
          43725.984375,
          43779.69921875,
          41243.83203125,
          41450.22265625,
          42890.7421875,
          43023.97265625,
          41929.7578125,
          42240.1171875,
          41364.6640625,
          42623.5390625,
          42270.52734375,
          43652.25,
          43869.15234375,
          43997.90234375,
          43739.54296875,
          43016.1171875,
          43613.140625,
          42520.40234375,
          43442.85546875,
          42627.85546875,
          42099.40234375,
          42156.90234375,
          42265.1875,
          44167.33203125,
          44957.96875,
          42848.17578125,
          44179.921875,
          44162.69140625,
          43989.1953125,
          43943.09765625,
          46970.50390625,
          46139.73046875,
          46627.77734375,
          46368.5859375,
          42853.16796875,
          42842.3828125,
          41796.26953125,
          42511.96875,
          43154.9453125,
          42742.65234375,
          41262.05859375,
          41618.40625,
          41665.5859375,
          41545.78515625,
          39507.3671875,
          39845.55078125,
          40077.07421875,
          39933.80859375,
          41816.87109375,
          42120.0546875,
          42035.59375,
          43288.24609375,
          42952.609375,
          42582.60546875,
          43075.7734375,
          43185.859375,
          42992.25,
          42583.58203125,
          42658.66796875,
          43084.671875,
          44318.22265625,
          45301.56640625,
          47147.19921875,
          47771.27734375,
          48293.91796875,
          49958.22265625,
          49742.44140625,
          51826.6953125,
          51938.5546875,
          52160.203125,
          51662.99609375,
          52122.546875,
          51779.14453125,
          52284.875,
          51839.1796875,
          51304.97265625,
          50731.94921875,
          51571.1015625,
          51733.23828125,
          54522.40234375,
          57085.37109375,
          62504.7890625,
          61198.3828125,
          62440.6328125,
          62029.84765625,
          63167.37109375,
          68330.4140625,
          63801.19921875,
          66106.8046875,
          66925.484375,
          68300.09375,
          68498.8828125,
          69019.7890625,
          72123.90625,
          71481.2890625,
          73083.5,
          71396.59375,
          69403.7734375,
          65315.1171875,
          68390.625,
          67548.59375,
          61912.7734375,
          67913.671875,
          65491.390625,
          63778.76171875,
          64062.203125,
          67234.171875,
          69958.8125,
          69987.8359375,
          69455.34375,
          70744.953125,
          69892.828125,
          69645.3046875,
          71333.6484375,
          69702.1484375,
          65446.97265625,
          65980.8125,
          68508.84375,
          67837.640625,
          68896.109375,
          69362.5546875,
          71631.359375,
          69139.015625,
          70587.8828125,
          70060.609375,
          67195.8671875,
          63821.47265625,
          65738.7265625,
          63426.2109375,
          63811.86328125,
          61276.69140625,
          63512.75390625,
          63843.5703125,
          64994.44140625,
          64926.64453125,
          66837.6796875,
          66407.2734375,
          64276.8984375,
          64481.70703125,
          63755.3203125,
          63419.140625,
          63113.23046875,
          63841.12109375,
          60636.85546875,
          58254.01171875,
          59123.43359375,
          62889.8359375,
          63891.47265625,
          64031.1328125,
          63161.94921875,
          62334.81640625,
          61187.94140625,
          63049.9609375,
          60792.77734375,
          60793.7109375,
          61448.39453125,
          62901.44921875,
          61552.7890625,
          66267.4921875,
          65231.58203125,
          67051.875,
          66940.8046875,
          66278.3671875,
          71448.1953125,
          70136.53125,
          69122.3359375,
          67929.5625,
          68526.1015625,
          69265.9453125,
          68518.09375,
          69394.5546875,
          68296.21875,
          67578.09375,
          68364.9921875,
          67491.4140625,
          67706.9375,
          67751.6015625,
          68804.78125,
          70567.765625,
          71082.8203125,
          70757.1640625,
          69342.5859375,
          69305.7734375,
          69647.9921875,
          69512.28125,
          67332.03125,
          68241.1875,
          66756.3984375,
          66011.09375,
          66191,
          66639.046875,
          66490.296875,
          65140.74609375,
          64960.296875,
          64828.65625,
          64096.19921875,
          64252.578125,
          63180.796875,
          60277.4140625,
          61804.640625,
          60811.27734375,
          61604.80078125,
          60320.13671875,
          60887.37890625,
          62678.29296875,
          62851.98046875,
          62029.015625,
          60173.921875,
          56977.703125,
          56662.375,
          58303.5390625,
          55849.109375,
          56705.09765625,
          58009.2265625,
          57742.49609375,
          57344.9140625,
          57899.46484375,
          59231.953125,
          60787.79296875,
          64870.15234375,
          65097.1484375,
          64118.79296875,
          63974.06640625,
          66710.15625,
          67163.6484375,
          68154.5234375,
          67585.25,
          65927.671875,
          65372.1328125,
          65777.2265625,
          67912.0625,
          67813.3359375,
          68255.8671875,
          66819.9140625,
          66201.015625,
          64619.25,
          65357.5,
          61415.06640625,
          60680.09375,
          58116.9765625,
          53991.45703125,
          56034.31640625,
          55027.4609375,
          61710.13671875,
          60880.11328125,
          60945.8125,
          58719.484375,
          59354.515625,
          60609.56640625,
          58737.26953125,
          57560.09765625,
          58894.10546875,
          59478.97265625,
          58483.96484375,
          59493.453125,
          59012.79296875,
          61175.19140625,
          60381.9140625,
          64094.35546875,
          64178.9921875,
          64333.54296875,
          62880.66015625,
          59504.1328125,
          59027.625,
          59388.1796875,
          59119.4765625,
          58969.8984375,
          57325.48828125,
          59112.48046875,
          57431.0234375,
          57971.5390625,
          56160.48828125,
          53948.75390625,
          54139.6875,
          54841.56640625,
          57019.53515625,
          57648.7109375,
          57343.171875,
          58127.01171875,
          60571.30078125,
          60005.12109375,
          59182.8359375,
          58192.5078125,
          60308.5390625,
          61649.6796875,
          62940.45703125,
          63192.9765625,
          63394.83984375,
          63648.7109375,
          63329.80078125,
          64301.96875,
          63143.14453125,
          65181.01953125,
          65790.6640625,
          65887.6484375,
          65635.3046875,
          63329.5,
          60837.0078125,
          60632.78515625,
          60759.40234375,
          62067.4765625,
          62089.94921875,
          62818.953125,
          62236.66015625,
          62131.96875,
          60582.1015625,
          60274.5,
          62445.08984375,
          63193.0234375,
          62851.375,
          66046.125,
          67041.109375,
          67612.71875,
          67399.8359375,
          68418.7890625,
          68362.734375,
          69001.703125,
          67367.8515625,
          67361.40625,
          66432.1953125,
          68161.0546875,
          66642.4140625,
          67014.6953125,
          67929.296875,
          69907.7578125,
          72720.4921875,
          72339.5390625,
          70215.1875,
          69482.46875,
          69289.2734375,
          68741.1171875,
          67811.5078125,
          69359.5625,
          75639.078125,
          75904.859375,
          76545.4765625,
          76778.8671875,
          80474.1875,
          88701.484375,
          87955.8125,
          90584.1640625,
          87250.4296875,
          91066.0078125,
          90558.4765625,
          89845.8515625,
          90542.640625,
          92343.7890625,
          94339.4921875,
          98504.7265625,
          98997.6640625,
          97777.28125,
          98013.8203125,
          93102.296875,
          91985.3203125,
          95962.53125,
          95652.46875,
          97461.5234375,
          96449.0546875,
          97279.7890625,
          95865.3046875,
          96002.1640625,
          98768.53125,
          96593.5703125,
          99920.7109375,
          99923.3359375,
          101236.015625,
          97432.71875,
          96675.4296875,
          101173.03125,
          100043,
          101459.2578125,
          101372.96875,
          104298.6953125,
          106029.71875,
          106140.6015625,
          100041.5390625,
          97490.953125,
          97755.9296875,
          97224.7265625,
          95104.9375,
          94686.2421875,
          98676.09375,
          99299.1953125,
          95795.515625,
          94164.859375,
          95163.9296875,
          93530.2265625,
          92643.2109375,
          93429.203125,
          94419.7578125,
          96886.875,
          98107.4296875,
          98236.2265625,
          98314.9609375,
          102078.0859375,
          96922.703125,
          95043.5234375,
          92484.0390625,
          94701.453125,
          94566.59375,
          94488.4375,
          94516.5234375,
          96534.046875,
          100504.4921875,
          99756.90625,
          104462.0390625,
          104408.0703125,
          101089.609375,
          102016.6640625,
          106146.265625,
          103653.0703125,
          103960.171875,
          104819.484375,
          104714.6484375,
          102682.5,
          102087.6875,
          101332.4765625,
          103703.2109375,
          104735.3046875,
          102405.0234375,
          100655.90625,
          97688.9765625,
          101405.421875,
          97871.8203125,
          96615.4453125,
          96593.296875,
          96529.0859375,
          96482.453125,
          96500.09375,
          97437.5546875,
          95747.4296875,
          97885.859375,
          96623.8671875,
          97508.96875,
          97580.3515625,
          96175.03125,
          95773.3828125,
          95539.546875,
          96635.609375,
          98333.9375
         ]
        },
        {
         "marker": {
          "color": "red",
          "size": 10,
          "symbol": "triangle-down"
         },
         "mode": "markers",
         "name": "Exit (Sell)",
         "type": "scatter",
         "x": [
          "2023-08-27T00:00:00",
          "2023-08-28T00:00:00",
          "2023-08-29T00:00:00",
          "2023-08-30T00:00:00",
          "2023-08-31T00:00:00",
          "2023-09-01T00:00:00",
          "2023-09-02T00:00:00",
          "2023-09-03T00:00:00",
          "2023-09-04T00:00:00",
          "2023-09-05T00:00:00",
          "2023-09-06T00:00:00",
          "2023-09-07T00:00:00",
          "2023-09-08T00:00:00",
          "2023-09-09T00:00:00",
          "2023-09-10T00:00:00",
          "2023-09-11T00:00:00",
          "2023-09-12T00:00:00",
          "2023-09-13T00:00:00",
          "2023-09-14T00:00:00",
          "2023-09-15T00:00:00",
          "2023-09-16T00:00:00",
          "2023-09-17T00:00:00",
          "2023-09-18T00:00:00",
          "2023-09-19T00:00:00",
          "2023-09-20T00:00:00",
          "2023-09-21T00:00:00",
          "2023-09-22T00:00:00",
          "2023-09-23T00:00:00",
          "2023-09-24T00:00:00",
          "2023-09-25T00:00:00",
          "2023-09-26T00:00:00",
          "2023-09-27T00:00:00",
          "2023-09-28T00:00:00",
          "2023-09-29T00:00:00",
          "2023-09-30T00:00:00",
          "2023-10-01T00:00:00",
          "2023-10-02T00:00:00",
          "2023-10-03T00:00:00",
          "2023-10-04T00:00:00",
          "2023-10-05T00:00:00",
          "2023-10-06T00:00:00",
          "2023-10-07T00:00:00",
          "2023-10-08T00:00:00",
          "2023-10-09T00:00:00",
          "2023-10-10T00:00:00",
          "2023-10-11T00:00:00",
          "2023-10-12T00:00:00",
          "2023-10-13T00:00:00",
          "2023-10-14T00:00:00",
          "2023-10-15T00:00:00",
          "2023-10-16T00:00:00",
          "2023-10-17T00:00:00",
          "2023-10-18T00:00:00",
          "2023-10-19T00:00:00",
          "2023-10-20T00:00:00",
          "2023-10-21T00:00:00",
          "2023-10-22T00:00:00",
          "2023-10-23T00:00:00",
          "2023-10-24T00:00:00",
          "2023-10-25T00:00:00",
          "2023-10-26T00:00:00",
          "2023-10-27T00:00:00",
          "2023-10-28T00:00:00",
          "2023-10-29T00:00:00",
          "2023-10-30T00:00:00",
          "2023-10-31T00:00:00",
          "2023-11-01T00:00:00",
          "2023-11-02T00:00:00",
          "2023-11-03T00:00:00",
          "2023-11-04T00:00:00",
          "2023-11-05T00:00:00",
          "2023-11-06T00:00:00",
          "2023-11-07T00:00:00",
          "2023-11-08T00:00:00",
          "2023-11-09T00:00:00",
          "2023-11-10T00:00:00",
          "2023-11-11T00:00:00",
          "2023-11-12T00:00:00",
          "2023-11-13T00:00:00",
          "2023-11-14T00:00:00",
          "2023-11-15T00:00:00",
          "2023-11-16T00:00:00",
          "2023-11-17T00:00:00",
          "2023-11-18T00:00:00",
          "2023-11-19T00:00:00",
          "2023-11-20T00:00:00",
          "2023-11-21T00:00:00",
          "2023-11-22T00:00:00",
          "2023-11-23T00:00:00",
          "2023-11-24T00:00:00",
          "2023-11-25T00:00:00",
          "2023-11-26T00:00:00",
          "2023-11-27T00:00:00",
          "2023-11-28T00:00:00",
          "2023-11-29T00:00:00",
          "2023-11-30T00:00:00",
          "2023-12-01T00:00:00",
          "2023-12-02T00:00:00",
          "2023-12-03T00:00:00",
          "2023-12-04T00:00:00",
          "2023-12-05T00:00:00",
          "2023-12-06T00:00:00",
          "2023-12-07T00:00:00",
          "2023-12-08T00:00:00",
          "2023-12-09T00:00:00",
          "2023-12-10T00:00:00",
          "2023-12-11T00:00:00",
          "2023-12-12T00:00:00",
          "2023-12-13T00:00:00",
          "2023-12-14T00:00:00",
          "2023-12-15T00:00:00",
          "2023-12-16T00:00:00",
          "2023-12-17T00:00:00",
          "2023-12-18T00:00:00",
          "2023-12-19T00:00:00",
          "2023-12-20T00:00:00",
          "2023-12-21T00:00:00",
          "2023-12-22T00:00:00",
          "2023-12-23T00:00:00",
          "2023-12-24T00:00:00",
          "2023-12-25T00:00:00",
          "2023-12-26T00:00:00",
          "2023-12-27T00:00:00",
          "2023-12-28T00:00:00",
          "2023-12-29T00:00:00",
          "2023-12-30T00:00:00",
          "2023-12-31T00:00:00",
          "2024-01-01T00:00:00",
          "2024-01-02T00:00:00",
          "2024-01-03T00:00:00",
          "2024-01-04T00:00:00",
          "2024-01-05T00:00:00",
          "2024-01-06T00:00:00",
          "2024-01-07T00:00:00",
          "2024-01-08T00:00:00",
          "2024-01-09T00:00:00",
          "2024-01-10T00:00:00",
          "2024-01-11T00:00:00",
          "2024-01-12T00:00:00",
          "2024-01-13T00:00:00",
          "2024-01-14T00:00:00",
          "2024-01-15T00:00:00",
          "2024-01-16T00:00:00",
          "2024-01-17T00:00:00",
          "2024-01-18T00:00:00",
          "2024-01-19T00:00:00",
          "2024-01-20T00:00:00",
          "2024-01-21T00:00:00",
          "2024-01-22T00:00:00",
          "2024-01-23T00:00:00",
          "2024-01-24T00:00:00",
          "2024-01-25T00:00:00",
          "2024-01-26T00:00:00",
          "2024-01-27T00:00:00",
          "2024-01-28T00:00:00",
          "2024-01-29T00:00:00",
          "2024-01-30T00:00:00",
          "2024-01-31T00:00:00",
          "2024-02-01T00:00:00",
          "2024-02-02T00:00:00",
          "2024-02-03T00:00:00",
          "2024-02-04T00:00:00",
          "2024-02-05T00:00:00",
          "2024-02-06T00:00:00",
          "2024-02-07T00:00:00",
          "2024-02-08T00:00:00",
          "2024-02-09T00:00:00",
          "2024-02-10T00:00:00",
          "2024-02-11T00:00:00",
          "2024-02-12T00:00:00",
          "2024-02-13T00:00:00",
          "2024-02-14T00:00:00",
          "2024-02-15T00:00:00",
          "2024-02-16T00:00:00",
          "2024-02-17T00:00:00",
          "2024-02-18T00:00:00",
          "2024-02-19T00:00:00",
          "2024-02-20T00:00:00",
          "2024-02-21T00:00:00",
          "2024-02-22T00:00:00",
          "2024-02-23T00:00:00",
          "2024-02-24T00:00:00",
          "2024-02-25T00:00:00",
          "2024-02-26T00:00:00",
          "2024-02-27T00:00:00",
          "2024-02-28T00:00:00",
          "2024-02-29T00:00:00",
          "2024-03-01T00:00:00",
          "2024-03-02T00:00:00",
          "2024-03-03T00:00:00",
          "2024-03-04T00:00:00",
          "2024-03-05T00:00:00",
          "2024-03-06T00:00:00",
          "2024-03-07T00:00:00",
          "2024-03-08T00:00:00",
          "2024-03-09T00:00:00",
          "2024-03-10T00:00:00",
          "2024-03-11T00:00:00",
          "2024-03-12T00:00:00",
          "2024-03-13T00:00:00",
          "2024-03-14T00:00:00",
          "2024-03-15T00:00:00",
          "2024-03-16T00:00:00",
          "2024-03-17T00:00:00",
          "2024-03-18T00:00:00",
          "2024-03-19T00:00:00",
          "2024-03-20T00:00:00",
          "2024-03-21T00:00:00",
          "2024-03-22T00:00:00",
          "2024-03-23T00:00:00",
          "2024-03-24T00:00:00",
          "2024-03-25T00:00:00",
          "2024-03-26T00:00:00",
          "2024-03-27T00:00:00",
          "2024-03-28T00:00:00",
          "2024-03-29T00:00:00",
          "2024-03-30T00:00:00",
          "2024-03-31T00:00:00",
          "2024-04-01T00:00:00",
          "2024-04-02T00:00:00",
          "2024-04-03T00:00:00",
          "2024-04-04T00:00:00",
          "2024-04-05T00:00:00",
          "2024-04-06T00:00:00",
          "2024-04-07T00:00:00",
          "2024-04-08T00:00:00",
          "2024-04-09T00:00:00",
          "2024-04-10T00:00:00",
          "2024-04-11T00:00:00",
          "2024-04-12T00:00:00",
          "2024-04-13T00:00:00",
          "2024-04-14T00:00:00",
          "2024-04-15T00:00:00",
          "2024-04-16T00:00:00",
          "2024-04-17T00:00:00",
          "2024-04-18T00:00:00",
          "2024-04-19T00:00:00",
          "2024-04-20T00:00:00",
          "2024-04-21T00:00:00",
          "2024-04-22T00:00:00",
          "2024-04-23T00:00:00",
          "2024-04-24T00:00:00",
          "2024-04-25T00:00:00",
          "2024-04-26T00:00:00",
          "2024-04-27T00:00:00",
          "2024-04-28T00:00:00",
          "2024-04-29T00:00:00",
          "2024-04-30T00:00:00",
          "2024-05-01T00:00:00",
          "2024-05-02T00:00:00",
          "2024-05-03T00:00:00",
          "2024-05-04T00:00:00",
          "2024-05-05T00:00:00",
          "2024-05-06T00:00:00",
          "2024-05-07T00:00:00",
          "2024-05-08T00:00:00",
          "2024-05-09T00:00:00",
          "2024-05-10T00:00:00",
          "2024-05-11T00:00:00",
          "2024-05-12T00:00:00",
          "2024-05-13T00:00:00",
          "2024-05-14T00:00:00",
          "2024-05-15T00:00:00",
          "2024-05-16T00:00:00",
          "2024-05-17T00:00:00",
          "2024-05-18T00:00:00",
          "2024-05-19T00:00:00",
          "2024-05-20T00:00:00",
          "2024-05-21T00:00:00",
          "2024-05-22T00:00:00",
          "2024-05-23T00:00:00",
          "2024-05-24T00:00:00",
          "2024-05-25T00:00:00",
          "2024-05-26T00:00:00",
          "2024-05-27T00:00:00",
          "2024-05-28T00:00:00",
          "2024-05-29T00:00:00",
          "2024-05-30T00:00:00",
          "2024-05-31T00:00:00",
          "2024-06-01T00:00:00",
          "2024-06-02T00:00:00",
          "2024-06-03T00:00:00",
          "2024-06-04T00:00:00",
          "2024-06-05T00:00:00",
          "2024-06-06T00:00:00",
          "2024-06-07T00:00:00",
          "2024-06-08T00:00:00",
          "2024-06-09T00:00:00",
          "2024-06-10T00:00:00",
          "2024-06-11T00:00:00",
          "2024-06-12T00:00:00",
          "2024-06-13T00:00:00",
          "2024-06-14T00:00:00",
          "2024-06-15T00:00:00",
          "2024-06-16T00:00:00",
          "2024-06-17T00:00:00",
          "2024-06-18T00:00:00",
          "2024-06-19T00:00:00",
          "2024-06-20T00:00:00",
          "2024-06-21T00:00:00",
          "2024-06-22T00:00:00",
          "2024-06-23T00:00:00",
          "2024-06-24T00:00:00",
          "2024-06-25T00:00:00",
          "2024-06-26T00:00:00",
          "2024-06-27T00:00:00",
          "2024-06-28T00:00:00",
          "2024-06-29T00:00:00",
          "2024-06-30T00:00:00",
          "2024-07-01T00:00:00",
          "2024-07-02T00:00:00",
          "2024-07-03T00:00:00",
          "2024-07-04T00:00:00",
          "2024-07-05T00:00:00",
          "2024-07-06T00:00:00",
          "2024-07-07T00:00:00",
          "2024-07-08T00:00:00",
          "2024-07-09T00:00:00",
          "2024-07-10T00:00:00",
          "2024-07-11T00:00:00",
          "2024-07-12T00:00:00",
          "2024-07-13T00:00:00",
          "2024-07-14T00:00:00",
          "2024-07-15T00:00:00",
          "2024-07-16T00:00:00",
          "2024-07-17T00:00:00",
          "2024-07-18T00:00:00",
          "2024-07-19T00:00:00",
          "2024-07-20T00:00:00",
          "2024-07-21T00:00:00",
          "2024-07-22T00:00:00",
          "2024-07-23T00:00:00",
          "2024-07-24T00:00:00",
          "2024-07-25T00:00:00",
          "2024-07-26T00:00:00",
          "2024-07-27T00:00:00",
          "2024-07-28T00:00:00",
          "2024-07-29T00:00:00",
          "2024-07-30T00:00:00",
          "2024-07-31T00:00:00",
          "2024-08-01T00:00:00",
          "2024-08-02T00:00:00",
          "2024-08-03T00:00:00",
          "2024-08-04T00:00:00",
          "2024-08-05T00:00:00",
          "2024-08-06T00:00:00",
          "2024-08-07T00:00:00",
          "2024-08-08T00:00:00",
          "2024-08-09T00:00:00",
          "2024-08-10T00:00:00",
          "2024-08-11T00:00:00",
          "2024-08-12T00:00:00",
          "2024-08-13T00:00:00",
          "2024-08-14T00:00:00",
          "2024-08-15T00:00:00",
          "2024-08-16T00:00:00",
          "2024-08-17T00:00:00",
          "2024-08-18T00:00:00",
          "2024-08-19T00:00:00",
          "2024-08-20T00:00:00",
          "2024-08-21T00:00:00",
          "2024-08-22T00:00:00",
          "2024-08-23T00:00:00",
          "2024-08-24T00:00:00",
          "2024-08-25T00:00:00",
          "2024-08-26T00:00:00",
          "2024-08-27T00:00:00",
          "2024-08-28T00:00:00",
          "2024-08-29T00:00:00",
          "2024-08-30T00:00:00",
          "2024-08-31T00:00:00",
          "2024-09-01T00:00:00",
          "2024-09-02T00:00:00",
          "2024-09-03T00:00:00",
          "2024-09-04T00:00:00",
          "2024-09-05T00:00:00",
          "2024-09-06T00:00:00",
          "2024-09-07T00:00:00",
          "2024-09-08T00:00:00",
          "2024-09-09T00:00:00",
          "2024-09-10T00:00:00",
          "2024-09-11T00:00:00",
          "2024-09-12T00:00:00",
          "2024-09-13T00:00:00",
          "2024-09-14T00:00:00",
          "2024-09-15T00:00:00",
          "2024-09-16T00:00:00",
          "2024-09-17T00:00:00",
          "2024-09-18T00:00:00",
          "2024-09-19T00:00:00",
          "2024-09-20T00:00:00",
          "2024-09-21T00:00:00",
          "2024-09-22T00:00:00",
          "2024-09-23T00:00:00",
          "2024-09-24T00:00:00",
          "2024-09-25T00:00:00",
          "2024-09-26T00:00:00",
          "2024-09-27T00:00:00",
          "2024-09-28T00:00:00",
          "2024-09-29T00:00:00",
          "2024-09-30T00:00:00",
          "2024-10-01T00:00:00",
          "2024-10-02T00:00:00",
          "2024-10-03T00:00:00",
          "2024-10-04T00:00:00",
          "2024-10-05T00:00:00",
          "2024-10-06T00:00:00",
          "2024-10-07T00:00:00",
          "2024-10-08T00:00:00",
          "2024-10-09T00:00:00",
          "2024-10-10T00:00:00",
          "2024-10-11T00:00:00",
          "2024-10-12T00:00:00",
          "2024-10-13T00:00:00",
          "2024-10-14T00:00:00",
          "2024-10-15T00:00:00",
          "2024-10-16T00:00:00",
          "2024-10-17T00:00:00",
          "2024-10-18T00:00:00",
          "2024-10-19T00:00:00",
          "2024-10-20T00:00:00",
          "2024-10-21T00:00:00",
          "2024-10-22T00:00:00",
          "2024-10-23T00:00:00",
          "2024-10-24T00:00:00",
          "2024-10-25T00:00:00",
          "2024-10-26T00:00:00",
          "2024-10-27T00:00:00",
          "2024-10-28T00:00:00",
          "2024-10-29T00:00:00",
          "2024-10-30T00:00:00",
          "2024-10-31T00:00:00",
          "2024-11-01T00:00:00",
          "2024-11-02T00:00:00",
          "2024-11-03T00:00:00",
          "2024-11-04T00:00:00",
          "2024-11-05T00:00:00",
          "2024-11-06T00:00:00",
          "2024-11-07T00:00:00",
          "2024-11-08T00:00:00",
          "2024-11-09T00:00:00",
          "2024-11-10T00:00:00",
          "2024-11-11T00:00:00",
          "2024-11-12T00:00:00",
          "2024-11-13T00:00:00",
          "2024-11-14T00:00:00",
          "2024-11-15T00:00:00",
          "2024-11-16T00:00:00",
          "2024-11-17T00:00:00",
          "2024-11-18T00:00:00",
          "2024-11-19T00:00:00",
          "2024-11-20T00:00:00",
          "2024-11-21T00:00:00",
          "2024-11-22T00:00:00",
          "2024-11-23T00:00:00",
          "2024-11-24T00:00:00",
          "2024-11-25T00:00:00",
          "2024-11-26T00:00:00",
          "2024-11-27T00:00:00",
          "2024-11-28T00:00:00",
          "2024-11-29T00:00:00",
          "2024-11-30T00:00:00",
          "2024-12-01T00:00:00",
          "2024-12-02T00:00:00",
          "2024-12-03T00:00:00",
          "2024-12-04T00:00:00",
          "2024-12-05T00:00:00",
          "2024-12-06T00:00:00",
          "2024-12-07T00:00:00",
          "2024-12-08T00:00:00",
          "2024-12-09T00:00:00",
          "2024-12-10T00:00:00",
          "2024-12-11T00:00:00",
          "2024-12-12T00:00:00",
          "2024-12-13T00:00:00",
          "2024-12-14T00:00:00",
          "2024-12-15T00:00:00",
          "2024-12-16T00:00:00",
          "2024-12-17T00:00:00",
          "2024-12-18T00:00:00",
          "2024-12-19T00:00:00",
          "2024-12-20T00:00:00",
          "2024-12-21T00:00:00",
          "2024-12-22T00:00:00",
          "2024-12-23T00:00:00",
          "2024-12-24T00:00:00",
          "2024-12-25T00:00:00",
          "2024-12-26T00:00:00",
          "2024-12-27T00:00:00",
          "2024-12-28T00:00:00",
          "2024-12-29T00:00:00",
          "2024-12-30T00:00:00",
          "2024-12-31T00:00:00",
          "2025-01-01T00:00:00",
          "2025-01-02T00:00:00",
          "2025-01-03T00:00:00",
          "2025-01-04T00:00:00",
          "2025-01-05T00:00:00",
          "2025-01-06T00:00:00",
          "2025-01-07T00:00:00",
          "2025-01-08T00:00:00",
          "2025-01-09T00:00:00",
          "2025-01-10T00:00:00",
          "2025-01-11T00:00:00",
          "2025-01-12T00:00:00",
          "2025-01-13T00:00:00",
          "2025-01-14T00:00:00",
          "2025-01-15T00:00:00",
          "2025-01-16T00:00:00",
          "2025-01-17T00:00:00",
          "2025-01-18T00:00:00",
          "2025-01-19T00:00:00",
          "2025-01-20T00:00:00",
          "2025-01-21T00:00:00",
          "2025-01-22T00:00:00",
          "2025-01-23T00:00:00",
          "2025-01-24T00:00:00",
          "2025-01-25T00:00:00",
          "2025-01-26T00:00:00",
          "2025-01-27T00:00:00",
          "2025-01-28T00:00:00",
          "2025-01-29T00:00:00",
          "2025-01-30T00:00:00",
          "2025-01-31T00:00:00",
          "2025-02-01T00:00:00",
          "2025-02-02T00:00:00",
          "2025-02-03T00:00:00",
          "2025-02-04T00:00:00",
          "2025-02-05T00:00:00",
          "2025-02-06T00:00:00",
          "2025-02-07T00:00:00",
          "2025-02-08T00:00:00",
          "2025-02-09T00:00:00",
          "2025-02-10T00:00:00",
          "2025-02-11T00:00:00",
          "2025-02-12T00:00:00",
          "2025-02-13T00:00:00",
          "2025-02-14T00:00:00",
          "2025-02-15T00:00:00",
          "2025-02-16T00:00:00",
          "2025-02-17T00:00:00",
          "2025-02-18T00:00:00",
          "2025-02-19T00:00:00",
          "2025-02-20T00:00:00"
         ],
         "y": [
          26106.150390625,
          27727.392578125,
          27297.265625,
          25931.47265625,
          25800.724609375,
          25868.798828125,
          25969.56640625,
          25812.416015625,
          25779.982421875,
          25753.236328125,
          26240.1953125,
          25905.654296875,
          25895.677734375,
          25832.2265625,
          25162.654296875,
          25833.34375,
          26228.32421875,
          26539.673828125,
          26608.693359375,
          26568.28125,
          26534.1875,
          26754.28125,
          27211.1171875,
          27132.0078125,
          26567.6328125,
          26579.568359375,
          26579.390625,
          26256.826171875,
          26298.48046875,
          26217.25,
          26352.716796875,
          27021.546875,
          26911.720703125,
          26967.916015625,
          27983.75,
          27530.78515625,
          27429.978515625,
          27799.39453125,
          27415.912109375,
          27946.59765625,
          27968.83984375,
          27935.08984375,
          27583.677734375,
          27391.01953125,
          26873.3203125,
          26756.798828125,
          26862.375,
          26861.70703125,
          27159.65234375,
          28519.466796875,
          28415.748046875,
          28328.341796875,
          28719.806640625,
          29682.94921875,
          29918.412109375,
          29993.896484375,
          33086.234375,
          33901.52734375,
          34502.8203125,
          34156.6484375,
          33909.80078125,
          34089.57421875,
          34538.48046875,
          34502.36328125,
          34667.78125,
          35437.25390625,
          34938.2421875,
          34732.32421875,
          35082.1953125,
          35049.35546875,
          35037.37109375,
          35443.5625,
          35655.27734375,
          36693.125,
          37313.96875,
          37138.05078125,
          37054.51953125,
          36502.35546875,
          35537.640625,
          37880.58203125,
          36154.76953125,
          36596.68359375,
          36585.703125,
          37386.546875,
          37476.95703125,
          35813.8125,
          37432.33984375,
          37289.62109375,
          37720.28125,
          37796.79296875,
          37479.12109375,
          37254.16796875,
          37831.0859375,
          37858.4921875,
          37712.74609375,
          38688.75,
          39476.33203125,
          39978.390625,
          41980.09765625,
          44080.6484375,
          43746.4453125,
          43292.6640625,
          44166.6015625,
          43725.984375,
          43779.69921875,
          41243.83203125,
          41450.22265625,
          42890.7421875,
          43023.97265625,
          41929.7578125,
          42240.1171875,
          41364.6640625,
          42623.5390625,
          42270.52734375,
          43652.25,
          43869.15234375,
          43997.90234375,
          43739.54296875,
          43016.1171875,
          43613.140625,
          42520.40234375,
          43442.85546875,
          42627.85546875,
          42099.40234375,
          42156.90234375,
          42265.1875,
          44167.33203125,
          44957.96875,
          42848.17578125,
          44179.921875,
          44162.69140625,
          43989.1953125,
          43943.09765625,
          46970.50390625,
          46139.73046875,
          46627.77734375,
          46368.5859375,
          42853.16796875,
          42842.3828125,
          41796.26953125,
          42511.96875,
          43154.9453125,
          42742.65234375,
          41262.05859375,
          41618.40625,
          41665.5859375,
          41545.78515625,
          39507.3671875,
          39845.55078125,
          40077.07421875,
          39933.80859375,
          41816.87109375,
          42120.0546875,
          42035.59375,
          43288.24609375,
          42952.609375,
          42582.60546875,
          43075.7734375,
          43185.859375,
          42992.25,
          42583.58203125,
          42658.66796875,
          43084.671875,
          44318.22265625,
          45301.56640625,
          47147.19921875,
          47771.27734375,
          48293.91796875,
          49958.22265625,
          49742.44140625,
          51826.6953125,
          51938.5546875,
          52160.203125,
          51662.99609375,
          52122.546875,
          51779.14453125,
          52284.875,
          51839.1796875,
          51304.97265625,
          50731.94921875,
          51571.1015625,
          51733.23828125,
          54522.40234375,
          57085.37109375,
          62504.7890625,
          61198.3828125,
          62440.6328125,
          62029.84765625,
          63167.37109375,
          68330.4140625,
          63801.19921875,
          66106.8046875,
          66925.484375,
          68300.09375,
          68498.8828125,
          69019.7890625,
          72123.90625,
          71481.2890625,
          73083.5,
          71396.59375,
          69403.7734375,
          65315.1171875,
          68390.625,
          67548.59375,
          61912.7734375,
          67913.671875,
          65491.390625,
          63778.76171875,
          64062.203125,
          67234.171875,
          69958.8125,
          69987.8359375,
          69455.34375,
          70744.953125,
          69892.828125,
          69645.3046875,
          71333.6484375,
          69702.1484375,
          65446.97265625,
          65980.8125,
          68508.84375,
          67837.640625,
          68896.109375,
          69362.5546875,
          71631.359375,
          69139.015625,
          70587.8828125,
          70060.609375,
          67195.8671875,
          63821.47265625,
          65738.7265625,
          63426.2109375,
          63811.86328125,
          61276.69140625,
          63512.75390625,
          63843.5703125,
          64994.44140625,
          64926.64453125,
          66837.6796875,
          66407.2734375,
          64276.8984375,
          64481.70703125,
          63755.3203125,
          63419.140625,
          63113.23046875,
          63841.12109375,
          60636.85546875,
          58254.01171875,
          59123.43359375,
          62889.8359375,
          63891.47265625,
          64031.1328125,
          63161.94921875,
          62334.81640625,
          61187.94140625,
          63049.9609375,
          60792.77734375,
          60793.7109375,
          61448.39453125,
          62901.44921875,
          61552.7890625,
          66267.4921875,
          65231.58203125,
          67051.875,
          66940.8046875,
          66278.3671875,
          71448.1953125,
          70136.53125,
          69122.3359375,
          67929.5625,
          68526.1015625,
          69265.9453125,
          68518.09375,
          69394.5546875,
          68296.21875,
          67578.09375,
          68364.9921875,
          67491.4140625,
          67706.9375,
          67751.6015625,
          68804.78125,
          70567.765625,
          71082.8203125,
          70757.1640625,
          69342.5859375,
          69305.7734375,
          69647.9921875,
          69512.28125,
          67332.03125,
          68241.1875,
          66756.3984375,
          66011.09375,
          66191,
          66639.046875,
          66490.296875,
          65140.74609375,
          64960.296875,
          64828.65625,
          64096.19921875,
          64252.578125,
          63180.796875,
          60277.4140625,
          61804.640625,
          60811.27734375,
          61604.80078125,
          60320.13671875,
          60887.37890625,
          62678.29296875,
          62851.98046875,
          62029.015625,
          60173.921875,
          56977.703125,
          56662.375,
          58303.5390625,
          55849.109375,
          56705.09765625,
          58009.2265625,
          57742.49609375,
          57344.9140625,
          57899.46484375,
          59231.953125,
          60787.79296875,
          64870.15234375,
          65097.1484375,
          64118.79296875,
          63974.06640625,
          66710.15625,
          67163.6484375,
          68154.5234375,
          67585.25,
          65927.671875,
          65372.1328125,
          65777.2265625,
          67912.0625,
          67813.3359375,
          68255.8671875,
          66819.9140625,
          66201.015625,
          64619.25,
          65357.5,
          61415.06640625,
          60680.09375,
          58116.9765625,
          53991.45703125,
          56034.31640625,
          55027.4609375,
          61710.13671875,
          60880.11328125,
          60945.8125,
          58719.484375,
          59354.515625,
          60609.56640625,
          58737.26953125,
          57560.09765625,
          58894.10546875,
          59478.97265625,
          58483.96484375,
          59493.453125,
          59012.79296875,
          61175.19140625,
          60381.9140625,
          64094.35546875,
          64178.9921875,
          64333.54296875,
          62880.66015625,
          59504.1328125,
          59027.625,
          59388.1796875,
          59119.4765625,
          58969.8984375,
          57325.48828125,
          59112.48046875,
          57431.0234375,
          57971.5390625,
          56160.48828125,
          53948.75390625,
          54139.6875,
          54841.56640625,
          57019.53515625,
          57648.7109375,
          57343.171875,
          58127.01171875,
          60571.30078125,
          60005.12109375,
          59182.8359375,
          58192.5078125,
          60308.5390625,
          61649.6796875,
          62940.45703125,
          63192.9765625,
          63394.83984375,
          63648.7109375,
          63329.80078125,
          64301.96875,
          63143.14453125,
          65181.01953125,
          65790.6640625,
          65887.6484375,
          65635.3046875,
          63329.5,
          60837.0078125,
          60632.78515625,
          60759.40234375,
          62067.4765625,
          62089.94921875,
          62818.953125,
          62236.66015625,
          62131.96875,
          60582.1015625,
          60274.5,
          62445.08984375,
          63193.0234375,
          62851.375,
          66046.125,
          67041.109375,
          67612.71875,
          67399.8359375,
          68418.7890625,
          68362.734375,
          69001.703125,
          67367.8515625,
          67361.40625,
          66432.1953125,
          68161.0546875,
          66642.4140625,
          67014.6953125,
          67929.296875,
          69907.7578125,
          72720.4921875,
          72339.5390625,
          70215.1875,
          69482.46875,
          69289.2734375,
          68741.1171875,
          67811.5078125,
          69359.5625,
          75639.078125,
          75904.859375,
          76545.4765625,
          76778.8671875,
          80474.1875,
          88701.484375,
          87955.8125,
          90584.1640625,
          87250.4296875,
          91066.0078125,
          90558.4765625,
          89845.8515625,
          90542.640625,
          92343.7890625,
          94339.4921875,
          98504.7265625,
          98997.6640625,
          97777.28125,
          98013.8203125,
          93102.296875,
          91985.3203125,
          95962.53125,
          95652.46875,
          97461.5234375,
          96449.0546875,
          97279.7890625,
          95865.3046875,
          96002.1640625,
          98768.53125,
          96593.5703125,
          99920.7109375,
          99923.3359375,
          101236.015625,
          97432.71875,
          96675.4296875,
          101173.03125,
          100043,
          101459.2578125,
          101372.96875,
          104298.6953125,
          106029.71875,
          106140.6015625,
          100041.5390625,
          97490.953125,
          97755.9296875,
          97224.7265625,
          95104.9375,
          94686.2421875,
          98676.09375,
          99299.1953125,
          95795.515625,
          94164.859375,
          95163.9296875,
          93530.2265625,
          92643.2109375,
          93429.203125,
          94419.7578125,
          96886.875,
          98107.4296875,
          98236.2265625,
          98314.9609375,
          102078.0859375,
          96922.703125,
          95043.5234375,
          92484.0390625,
          94701.453125,
          94566.59375,
          94488.4375,
          94516.5234375,
          96534.046875,
          100504.4921875,
          99756.90625,
          104462.0390625,
          104408.0703125,
          101089.609375,
          102016.6640625,
          106146.265625,
          103653.0703125,
          103960.171875,
          104819.484375,
          104714.6484375,
          102682.5,
          102087.6875,
          101332.4765625,
          103703.2109375,
          104735.3046875,
          102405.0234375,
          100655.90625,
          97688.9765625,
          101405.421875,
          97871.8203125,
          96615.4453125,
          96593.296875,
          96529.0859375,
          96482.453125,
          96500.09375,
          97437.5546875,
          95747.4296875,
          97885.859375,
          96623.8671875,
          97508.96875,
          97580.3515625,
          96175.03125,
          95773.3828125,
          95539.546875,
          96635.609375,
          98333.9375,
          96125.546875
         ]
        },
        {
         "line": {
          "color": "gray",
          "width": 1
         },
         "mode": "lines",
         "showlegend": false,
         "type": "scatter",
         "x": [
          "2023-08-27T00:00:00",
          "2023-08-27T00:00:00"
         ],
         "y": [
          26089.693359375,
          26106.150390625
         ]
        },
        {
         "line": {
          "color": "gray",
          "width": 1
         },
         "mode": "lines",
         "showlegend": false,
         "type": "scatter",
         "x": [
          "2023-08-28T00:00:00",
          "2023-08-28T00:00:00"
         ],
         "y": [
          26106.150390625,
          27727.392578125
         ]
        },
        {
         "line": {
          "color": "gray",
          "width": 1
         },
         "mode": "lines",
         "showlegend": false,
         "type": "scatter",
         "x": [
          "2023-08-29T00:00:00",
          "2023-08-29T00:00:00"
         ],
         "y": [
          27727.392578125,
          27297.265625
         ]
        },
        {
         "line": {
          "color": "gray",
          "width": 1
         },
         "mode": "lines",
         "showlegend": false,
         "type": "scatter",
         "x": [
          "2023-08-30T00:00:00",
          "2023-08-30T00:00:00"
         ],
         "y": [
          27297.265625,
          25931.47265625
         ]
        },
        {
         "line": {
          "color": "gray",
          "width": 1
         },
         "mode": "lines",
         "showlegend": false,
         "type": "scatter",
         "x": [
          "2023-08-31T00:00:00",
          "2023-08-31T00:00:00"
         ],
         "y": [
          25931.47265625,
          25800.724609375
         ]
        },
        {
         "line": {
          "color": "gray",
          "width": 1
         },
         "mode": "lines",
         "showlegend": false,
         "type": "scatter",
         "x": [
          "2023-09-01T00:00:00",
          "2023-09-01T00:00:00"
         ],
         "y": [
          25800.724609375,
          25868.798828125
         ]
        },
        {
         "line": {
          "color": "gray",
          "width": 1
         },
         "mode": "lines",
         "showlegend": false,
         "type": "scatter",
         "x": [
          "2023-09-02T00:00:00",
          "2023-09-02T00:00:00"
         ],
         "y": [
          25868.798828125,
          25969.56640625
         ]
        },
        {
         "line": {
          "color": "gray",
          "width": 1
         },
         "mode": "lines",
         "showlegend": false,
         "type": "scatter",
         "x": [
          "2023-09-03T00:00:00",
          "2023-09-03T00:00:00"
         ],
         "y": [
          25969.56640625,
          25812.416015625
         ]
        },
        {
         "line": {
          "color": "gray",
          "width": 1
         },
         "mode": "lines",
         "showlegend": false,
         "type": "scatter",
         "x": [
          "2023-09-04T00:00:00",
          "2023-09-04T00:00:00"
         ],
         "y": [
          25812.416015625,
          25779.982421875
         ]
        },
        {
         "line": {
          "color": "gray",
          "width": 1
         },
         "mode": "lines",
         "showlegend": false,
         "type": "scatter",
         "x": [
          "2023-09-05T00:00:00",
          "2023-09-05T00:00:00"
         ],
         "y": [
          25779.982421875,
          25753.236328125
         ]
        },
        {
         "line": {
          "color": "gray",
          "width": 1
         },
         "mode": "lines",
         "showlegend": false,
         "type": "scatter",
         "x": [
          "2023-09-06T00:00:00",
          "2023-09-06T00:00:00"
         ],
         "y": [
          25753.236328125,
          26240.1953125
         ]
        },
        {
         "line": {
          "color": "gray",
          "width": 1
         },
         "mode": "lines",
         "showlegend": false,
         "type": "scatter",
         "x": [
          "2023-09-07T00:00:00",
          "2023-09-07T00:00:00"
         ],
         "y": [
          26240.1953125,
          25905.654296875
         ]
        },
        {
         "line": {
          "color": "gray",
          "width": 1
         },
         "mode": "lines",
         "showlegend": false,
         "type": "scatter",
         "x": [
          "2023-09-08T00:00:00",
          "2023-09-08T00:00:00"
         ],
         "y": [
          25905.654296875,
          25895.677734375
         ]
        },
        {
         "line": {
          "color": "gray",
          "width": 1
         },
         "mode": "lines",
         "showlegend": false,
         "type": "scatter",
         "x": [
          "2023-09-09T00:00:00",
          "2023-09-09T00:00:00"
         ],
         "y": [
          25895.677734375,
          25832.2265625
         ]
        },
        {
         "line": {
          "color": "gray",
          "width": 1
         },
         "mode": "lines",
         "showlegend": false,
         "type": "scatter",
         "x": [
          "2023-09-10T00:00:00",
          "2023-09-10T00:00:00"
         ],
         "y": [
          25832.2265625,
          25162.654296875
         ]
        },
        {
         "line": {
          "color": "gray",
          "width": 1
         },
         "mode": "lines",
         "showlegend": false,
         "type": "scatter",
         "x": [
          "2023-09-11T00:00:00",
          "2023-09-11T00:00:00"
         ],
         "y": [
          25162.654296875,
          25833.34375
         ]
        },
        {
         "line": {
          "color": "gray",
          "width": 1
         },
         "mode": "lines",
         "showlegend": false,
         "type": "scatter",
         "x": [
          "2023-09-12T00:00:00",
          "2023-09-12T00:00:00"
         ],
         "y": [
          25833.34375,
          26228.32421875
         ]
        },
        {
         "line": {
          "color": "gray",
          "width": 1
         },
         "mode": "lines",
         "showlegend": false,
         "type": "scatter",
         "x": [
          "2023-09-13T00:00:00",
          "2023-09-13T00:00:00"
         ],
         "y": [
          26228.32421875,
          26539.673828125
         ]
        },
        {
         "line": {
          "color": "gray",
          "width": 1
         },
         "mode": "lines",
         "showlegend": false,
         "type": "scatter",
         "x": [
          "2023-09-14T00:00:00",
          "2023-09-14T00:00:00"
         ],
         "y": [
          26539.673828125,
          26608.693359375
         ]
        },
        {
         "line": {
          "color": "gray",
          "width": 1
         },
         "mode": "lines",
         "showlegend": false,
         "type": "scatter",
         "x": [
          "2023-09-15T00:00:00",
          "2023-09-15T00:00:00"
         ],
         "y": [
          26608.693359375,
          26568.28125
         ]
        },
        {
         "line": {
          "color": "gray",
          "width": 1
         },
         "mode": "lines",
         "showlegend": false,
         "type": "scatter",
         "x": [
          "2023-09-16T00:00:00",
          "2023-09-16T00:00:00"
         ],
         "y": [
          26568.28125,
          26534.1875
         ]
        },
        {
         "line": {
          "color": "gray",
          "width": 1
         },
         "mode": "lines",
         "showlegend": false,
         "type": "scatter",
         "x": [
          "2023-09-17T00:00:00",
          "2023-09-17T00:00:00"
         ],
         "y": [
          26534.1875,
          26754.28125
         ]
        },
        {
         "line": {
          "color": "gray",
          "width": 1
         },
         "mode": "lines",
         "showlegend": false,
         "type": "scatter",
         "x": [
          "2023-09-18T00:00:00",
          "2023-09-18T00:00:00"
         ],
         "y": [
          26754.28125,
          27211.1171875
         ]
        },
        {
         "line": {
          "color": "gray",
          "width": 1
         },
         "mode": "lines",
         "showlegend": false,
         "type": "scatter",
         "x": [
          "2023-09-19T00:00:00",
          "2023-09-19T00:00:00"
         ],
         "y": [
          27211.1171875,
          27132.0078125
         ]
        },
        {
         "line": {
          "color": "gray",
          "width": 1
         },
         "mode": "lines",
         "showlegend": false,
         "type": "scatter",
         "x": [
          "2023-09-20T00:00:00",
          "2023-09-20T00:00:00"
         ],
         "y": [
          27132.0078125,
          26567.6328125
         ]
        },
        {
         "line": {
          "color": "gray",
          "width": 1
         },
         "mode": "lines",
         "showlegend": false,
         "type": "scatter",
         "x": [
          "2023-09-21T00:00:00",
          "2023-09-21T00:00:00"
         ],
         "y": [
          26567.6328125,
          26579.568359375
         ]
        },
        {
         "line": {
          "color": "gray",
          "width": 1
         },
         "mode": "lines",
         "showlegend": false,
         "type": "scatter",
         "x": [
          "2023-09-22T00:00:00",
          "2023-09-22T00:00:00"
         ],
         "y": [
          26579.568359375,
          26579.390625
         ]
        },
        {
         "line": {
          "color": "gray",
          "width": 1
         },
         "mode": "lines",
         "showlegend": false,
         "type": "scatter",
         "x": [
          "2023-09-23T00:00:00",
          "2023-09-23T00:00:00"
         ],
         "y": [
          26579.390625,
          26256.826171875
         ]
        },
        {
         "line": {
          "color": "gray",
          "width": 1
         },
         "mode": "lines",
         "showlegend": false,
         "type": "scatter",
         "x": [
          "2023-09-24T00:00:00",
          "2023-09-24T00:00:00"
         ],
         "y": [
          26256.826171875,
          26298.48046875
         ]
        },
        {
         "line": {
          "color": "gray",
          "width": 1
         },
         "mode": "lines",
         "showlegend": false,
         "type": "scatter",
         "x": [
          "2023-09-25T00:00:00",
          "2023-09-25T00:00:00"
         ],
         "y": [
          26298.48046875,
          26217.25
         ]
        },
        {
         "line": {
          "color": "gray",
          "width": 1
         },
         "mode": "lines",
         "showlegend": false,
         "type": "scatter",
         "x": [
          "2023-09-26T00:00:00",
          "2023-09-26T00:00:00"
         ],
         "y": [
          26217.25,
          26352.716796875
         ]
        },
        {
         "line": {
          "color": "gray",
          "width": 1
         },
         "mode": "lines",
         "showlegend": false,
         "type": "scatter",
         "x": [
          "2023-09-27T00:00:00",
          "2023-09-27T00:00:00"
         ],
         "y": [
          26352.716796875,
          27021.546875
         ]
        },
        {
         "line": {
          "color": "gray",
          "width": 1
         },
         "mode": "lines",
         "showlegend": false,
         "type": "scatter",
         "x": [
          "2023-09-28T00:00:00",
          "2023-09-28T00:00:00"
         ],
         "y": [
          27021.546875,
          26911.720703125
         ]
        },
        {
         "line": {
          "color": "gray",
          "width": 1
         },
         "mode": "lines",
         "showlegend": false,
         "type": "scatter",
         "x": [
          "2023-09-29T00:00:00",
          "2023-09-29T00:00:00"
         ],
         "y": [
          26911.720703125,
          26967.916015625
         ]
        },
        {
         "line": {
          "color": "gray",
          "width": 1
         },
         "mode": "lines",
         "showlegend": false,
         "type": "scatter",
         "x": [
          "2023-09-30T00:00:00",
          "2023-09-30T00:00:00"
         ],
         "y": [
          26967.916015625,
          27983.75
         ]
        },
        {
         "line": {
          "color": "gray",
          "width": 1
         },
         "mode": "lines",
         "showlegend": false,
         "type": "scatter",
         "x": [
          "2023-10-01T00:00:00",
          "2023-10-01T00:00:00"
         ],
         "y": [
          27983.75,
          27530.78515625
         ]
        },
        {
         "line": {
          "color": "gray",
          "width": 1
         },
         "mode": "lines",
         "showlegend": false,
         "type": "scatter",
         "x": [
          "2023-10-02T00:00:00",
          "2023-10-02T00:00:00"
         ],
         "y": [
          27530.78515625,
          27429.978515625
         ]
        },
        {
         "line": {
          "color": "gray",
          "width": 1
         },
         "mode": "lines",
         "showlegend": false,
         "type": "scatter",
         "x": [
          "2023-10-03T00:00:00",
          "2023-10-03T00:00:00"
         ],
         "y": [
          27429.978515625,
          27799.39453125
         ]
        },
        {
         "line": {
          "color": "gray",
          "width": 1
         },
         "mode": "lines",
         "showlegend": false,
         "type": "scatter",
         "x": [
          "2023-10-04T00:00:00",
          "2023-10-04T00:00:00"
         ],
         "y": [
          27799.39453125,
          27415.912109375
         ]
        },
        {
         "line": {
          "color": "gray",
          "width": 1
         },
         "mode": "lines",
         "showlegend": false,
         "type": "scatter",
         "x": [
          "2023-10-05T00:00:00",
          "2023-10-05T00:00:00"
         ],
         "y": [
          27415.912109375,
          27946.59765625
         ]
        },
        {
         "line": {
          "color": "gray",
          "width": 1
         },
         "mode": "lines",
         "showlegend": false,
         "type": "scatter",
         "x": [
          "2023-10-06T00:00:00",
          "2023-10-06T00:00:00"
         ],
         "y": [
          27946.59765625,
          27968.83984375
         ]
        },
        {
         "line": {
          "color": "gray",
          "width": 1
         },
         "mode": "lines",
         "showlegend": false,
         "type": "scatter",
         "x": [
          "2023-10-07T00:00:00",
          "2023-10-07T00:00:00"
         ],
         "y": [
          27968.83984375,
          27935.08984375
         ]
        },
        {
         "line": {
          "color": "gray",
          "width": 1
         },
         "mode": "lines",
         "showlegend": false,
         "type": "scatter",
         "x": [
          "2023-10-08T00:00:00",
          "2023-10-08T00:00:00"
         ],
         "y": [
          27935.08984375,
          27583.677734375
         ]
        },
        {
         "line": {
          "color": "gray",
          "width": 1
         },
         "mode": "lines",
         "showlegend": false,
         "type": "scatter",
         "x": [
          "2023-10-09T00:00:00",
          "2023-10-09T00:00:00"
         ],
         "y": [
          27583.677734375,
          27391.01953125
         ]
        },
        {
         "line": {
          "color": "gray",
          "width": 1
         },
         "mode": "lines",
         "showlegend": false,
         "type": "scatter",
         "x": [
          "2023-10-10T00:00:00",
          "2023-10-10T00:00:00"
         ],
         "y": [
          27391.01953125,
          26873.3203125
         ]
        },
        {
         "line": {
          "color": "gray",
          "width": 1
         },
         "mode": "lines",
         "showlegend": false,
         "type": "scatter",
         "x": [
          "2023-10-11T00:00:00",
          "2023-10-11T00:00:00"
         ],
         "y": [
          26873.3203125,
          26756.798828125
         ]
        },
        {
         "line": {
          "color": "gray",
          "width": 1
         },
         "mode": "lines",
         "showlegend": false,
         "type": "scatter",
         "x": [
          "2023-10-12T00:00:00",
          "2023-10-12T00:00:00"
         ],
         "y": [
          26756.798828125,
          26862.375
         ]
        },
        {
         "line": {
          "color": "gray",
          "width": 1
         },
         "mode": "lines",
         "showlegend": false,
         "type": "scatter",
         "x": [
          "2023-10-13T00:00:00",
          "2023-10-13T00:00:00"
         ],
         "y": [
          26862.375,
          26861.70703125
         ]
        },
        {
         "line": {
          "color": "gray",
          "width": 1
         },
         "mode": "lines",
         "showlegend": false,
         "type": "scatter",
         "x": [
          "2023-10-14T00:00:00",
          "2023-10-14T00:00:00"
         ],
         "y": [
          26861.70703125,
          27159.65234375
         ]
        },
        {
         "line": {
          "color": "gray",
          "width": 1
         },
         "mode": "lines",
         "showlegend": false,
         "type": "scatter",
         "x": [
          "2023-10-15T00:00:00",
          "2023-10-15T00:00:00"
         ],
         "y": [
          27159.65234375,
          28519.466796875
         ]
        },
        {
         "line": {
          "color": "gray",
          "width": 1
         },
         "mode": "lines",
         "showlegend": false,
         "type": "scatter",
         "x": [
          "2023-10-16T00:00:00",
          "2023-10-16T00:00:00"
         ],
         "y": [
          28519.466796875,
          28415.748046875
         ]
        },
        {
         "line": {
          "color": "gray",
          "width": 1
         },
         "mode": "lines",
         "showlegend": false,
         "type": "scatter",
         "x": [
          "2023-10-17T00:00:00",
          "2023-10-17T00:00:00"
         ],
         "y": [
          28415.748046875,
          28328.341796875
         ]
        },
        {
         "line": {
          "color": "gray",
          "width": 1
         },
         "mode": "lines",
         "showlegend": false,
         "type": "scatter",
         "x": [
          "2023-10-18T00:00:00",
          "2023-10-18T00:00:00"
         ],
         "y": [
          28328.341796875,
          28719.806640625
         ]
        },
        {
         "line": {
          "color": "gray",
          "width": 1
         },
         "mode": "lines",
         "showlegend": false,
         "type": "scatter",
         "x": [
          "2023-10-19T00:00:00",
          "2023-10-19T00:00:00"
         ],
         "y": [
          28719.806640625,
          29682.94921875
         ]
        },
        {
         "line": {
          "color": "gray",
          "width": 1
         },
         "mode": "lines",
         "showlegend": false,
         "type": "scatter",
         "x": [
          "2023-10-20T00:00:00",
          "2023-10-20T00:00:00"
         ],
         "y": [
          29682.94921875,
          29918.412109375
         ]
        },
        {
         "line": {
          "color": "gray",
          "width": 1
         },
         "mode": "lines",
         "showlegend": false,
         "type": "scatter",
         "x": [
          "2023-10-21T00:00:00",
          "2023-10-21T00:00:00"
         ],
         "y": [
          29918.412109375,
          29993.896484375
         ]
        },
        {
         "line": {
          "color": "gray",
          "width": 1
         },
         "mode": "lines",
         "showlegend": false,
         "type": "scatter",
         "x": [
          "2023-10-22T00:00:00",
          "2023-10-22T00:00:00"
         ],
         "y": [
          29993.896484375,
          33086.234375
         ]
        },
        {
         "line": {
          "color": "gray",
          "width": 1
         },
         "mode": "lines",
         "showlegend": false,
         "type": "scatter",
         "x": [
          "2023-10-23T00:00:00",
          "2023-10-23T00:00:00"
         ],
         "y": [
          33086.234375,
          33901.52734375
         ]
        },
        {
         "line": {
          "color": "gray",
          "width": 1
         },
         "mode": "lines",
         "showlegend": false,
         "type": "scatter",
         "x": [
          "2023-10-24T00:00:00",
          "2023-10-24T00:00:00"
         ],
         "y": [
          33901.52734375,
          34502.8203125
         ]
        },
        {
         "line": {
          "color": "gray",
          "width": 1
         },
         "mode": "lines",
         "showlegend": false,
         "type": "scatter",
         "x": [
          "2023-10-25T00:00:00",
          "2023-10-25T00:00:00"
         ],
         "y": [
          34502.8203125,
          34156.6484375
         ]
        },
        {
         "line": {
          "color": "gray",
          "width": 1
         },
         "mode": "lines",
         "showlegend": false,
         "type": "scatter",
         "x": [
          "2023-10-26T00:00:00",
          "2023-10-26T00:00:00"
         ],
         "y": [
          34156.6484375,
          33909.80078125
         ]
        },
        {
         "line": {
          "color": "gray",
          "width": 1
         },
         "mode": "lines",
         "showlegend": false,
         "type": "scatter",
         "x": [
          "2023-10-27T00:00:00",
          "2023-10-27T00:00:00"
         ],
         "y": [
          33909.80078125,
          34089.57421875
         ]
        },
        {
         "line": {
          "color": "gray",
          "width": 1
         },
         "mode": "lines",
         "showlegend": false,
         "type": "scatter",
         "x": [
          "2023-10-28T00:00:00",
          "2023-10-28T00:00:00"
         ],
         "y": [
          34089.57421875,
          34538.48046875
         ]
        },
        {
         "line": {
          "color": "gray",
          "width": 1
         },
         "mode": "lines",
         "showlegend": false,
         "type": "scatter",
         "x": [
          "2023-10-29T00:00:00",
          "2023-10-29T00:00:00"
         ],
         "y": [
          34538.48046875,
          34502.36328125
         ]
        },
        {
         "line": {
          "color": "gray",
          "width": 1
         },
         "mode": "lines",
         "showlegend": false,
         "type": "scatter",
         "x": [
          "2023-10-30T00:00:00",
          "2023-10-30T00:00:00"
         ],
         "y": [
          34502.36328125,
          34667.78125
         ]
        },
        {
         "line": {
          "color": "gray",
          "width": 1
         },
         "mode": "lines",
         "showlegend": false,
         "type": "scatter",
         "x": [
          "2023-10-31T00:00:00",
          "2023-10-31T00:00:00"
         ],
         "y": [
          34667.78125,
          35437.25390625
         ]
        },
        {
         "line": {
          "color": "gray",
          "width": 1
         },
         "mode": "lines",
         "showlegend": false,
         "type": "scatter",
         "x": [
          "2023-11-01T00:00:00",
          "2023-11-01T00:00:00"
         ],
         "y": [
          35437.25390625,
          34938.2421875
         ]
        },
        {
         "line": {
          "color": "gray",
          "width": 1
         },
         "mode": "lines",
         "showlegend": false,
         "type": "scatter",
         "x": [
          "2023-11-02T00:00:00",
          "2023-11-02T00:00:00"
         ],
         "y": [
          34938.2421875,
          34732.32421875
         ]
        },
        {
         "line": {
          "color": "gray",
          "width": 1
         },
         "mode": "lines",
         "showlegend": false,
         "type": "scatter",
         "x": [
          "2023-11-03T00:00:00",
          "2023-11-03T00:00:00"
         ],
         "y": [
          34732.32421875,
          35082.1953125
         ]
        },
        {
         "line": {
          "color": "gray",
          "width": 1
         },
         "mode": "lines",
         "showlegend": false,
         "type": "scatter",
         "x": [
          "2023-11-04T00:00:00",
          "2023-11-04T00:00:00"
         ],
         "y": [
          35082.1953125,
          35049.35546875
         ]
        },
        {
         "line": {
          "color": "gray",
          "width": 1
         },
         "mode": "lines",
         "showlegend": false,
         "type": "scatter",
         "x": [
          "2023-11-05T00:00:00",
          "2023-11-05T00:00:00"
         ],
         "y": [
          35049.35546875,
          35037.37109375
         ]
        },
        {
         "line": {
          "color": "gray",
          "width": 1
         },
         "mode": "lines",
         "showlegend": false,
         "type": "scatter",
         "x": [
          "2023-11-06T00:00:00",
          "2023-11-06T00:00:00"
         ],
         "y": [
          35037.37109375,
          35443.5625
         ]
        },
        {
         "line": {
          "color": "gray",
          "width": 1
         },
         "mode": "lines",
         "showlegend": false,
         "type": "scatter",
         "x": [
          "2023-11-07T00:00:00",
          "2023-11-07T00:00:00"
         ],
         "y": [
          35443.5625,
          35655.27734375
         ]
        },
        {
         "line": {
          "color": "gray",
          "width": 1
         },
         "mode": "lines",
         "showlegend": false,
         "type": "scatter",
         "x": [
          "2023-11-08T00:00:00",
          "2023-11-08T00:00:00"
         ],
         "y": [
          35655.27734375,
          36693.125
         ]
        },
        {
         "line": {
          "color": "gray",
          "width": 1
         },
         "mode": "lines",
         "showlegend": false,
         "type": "scatter",
         "x": [
          "2023-11-09T00:00:00",
          "2023-11-09T00:00:00"
         ],
         "y": [
          36693.125,
          37313.96875
         ]
        },
        {
         "line": {
          "color": "gray",
          "width": 1
         },
         "mode": "lines",
         "showlegend": false,
         "type": "scatter",
         "x": [
          "2023-11-10T00:00:00",
          "2023-11-10T00:00:00"
         ],
         "y": [
          37313.96875,
          37138.05078125
         ]
        },
        {
         "line": {
          "color": "gray",
          "width": 1
         },
         "mode": "lines",
         "showlegend": false,
         "type": "scatter",
         "x": [
          "2023-11-11T00:00:00",
          "2023-11-11T00:00:00"
         ],
         "y": [
          37138.05078125,
          37054.51953125
         ]
        },
        {
         "line": {
          "color": "gray",
          "width": 1
         },
         "mode": "lines",
         "showlegend": false,
         "type": "scatter",
         "x": [
          "2023-11-12T00:00:00",
          "2023-11-12T00:00:00"
         ],
         "y": [
          37054.51953125,
          36502.35546875
         ]
        },
        {
         "line": {
          "color": "gray",
          "width": 1
         },
         "mode": "lines",
         "showlegend": false,
         "type": "scatter",
         "x": [
          "2023-11-13T00:00:00",
          "2023-11-13T00:00:00"
         ],
         "y": [
          36502.35546875,
          35537.640625
         ]
        },
        {
         "line": {
          "color": "gray",
          "width": 1
         },
         "mode": "lines",
         "showlegend": false,
         "type": "scatter",
         "x": [
          "2023-11-14T00:00:00",
          "2023-11-14T00:00:00"
         ],
         "y": [
          35537.640625,
          37880.58203125
         ]
        },
        {
         "line": {
          "color": "gray",
          "width": 1
         },
         "mode": "lines",
         "showlegend": false,
         "type": "scatter",
         "x": [
          "2023-11-15T00:00:00",
          "2023-11-15T00:00:00"
         ],
         "y": [
          37880.58203125,
          36154.76953125
         ]
        },
        {
         "line": {
          "color": "gray",
          "width": 1
         },
         "mode": "lines",
         "showlegend": false,
         "type": "scatter",
         "x": [
          "2023-11-16T00:00:00",
          "2023-11-16T00:00:00"
         ],
         "y": [
          36154.76953125,
          36596.68359375
         ]
        },
        {
         "line": {
          "color": "gray",
          "width": 1
         },
         "mode": "lines",
         "showlegend": false,
         "type": "scatter",
         "x": [
          "2023-11-17T00:00:00",
          "2023-11-17T00:00:00"
         ],
         "y": [
          36596.68359375,
          36585.703125
         ]
        },
        {
         "line": {
          "color": "gray",
          "width": 1
         },
         "mode": "lines",
         "showlegend": false,
         "type": "scatter",
         "x": [
          "2023-11-18T00:00:00",
          "2023-11-18T00:00:00"
         ],
         "y": [
          36585.703125,
          37386.546875
         ]
        },
        {
         "line": {
          "color": "gray",
          "width": 1
         },
         "mode": "lines",
         "showlegend": false,
         "type": "scatter",
         "x": [
          "2023-11-19T00:00:00",
          "2023-11-19T00:00:00"
         ],
         "y": [
          37386.546875,
          37476.95703125
         ]
        },
        {
         "line": {
          "color": "gray",
          "width": 1
         },
         "mode": "lines",
         "showlegend": false,
         "type": "scatter",
         "x": [
          "2023-11-20T00:00:00",
          "2023-11-20T00:00:00"
         ],
         "y": [
          37476.95703125,
          35813.8125
         ]
        },
        {
         "line": {
          "color": "gray",
          "width": 1
         },
         "mode": "lines",
         "showlegend": false,
         "type": "scatter",
         "x": [
          "2023-11-21T00:00:00",
          "2023-11-21T00:00:00"
         ],
         "y": [
          35813.8125,
          37432.33984375
         ]
        },
        {
         "line": {
          "color": "gray",
          "width": 1
         },
         "mode": "lines",
         "showlegend": false,
         "type": "scatter",
         "x": [
          "2023-11-22T00:00:00",
          "2023-11-22T00:00:00"
         ],
         "y": [
          37432.33984375,
          37289.62109375
         ]
        },
        {
         "line": {
          "color": "gray",
          "width": 1
         },
         "mode": "lines",
         "showlegend": false,
         "type": "scatter",
         "x": [
          "2023-11-23T00:00:00",
          "2023-11-23T00:00:00"
         ],
         "y": [
          37289.62109375,
          37720.28125
         ]
        },
        {
         "line": {
          "color": "gray",
          "width": 1
         },
         "mode": "lines",
         "showlegend": false,
         "type": "scatter",
         "x": [
          "2023-11-24T00:00:00",
          "2023-11-24T00:00:00"
         ],
         "y": [
          37720.28125,
          37796.79296875
         ]
        },
        {
         "line": {
          "color": "gray",
          "width": 1
         },
         "mode": "lines",
         "showlegend": false,
         "type": "scatter",
         "x": [
          "2023-11-25T00:00:00",
          "2023-11-25T00:00:00"
         ],
         "y": [
          37796.79296875,
          37479.12109375
         ]
        },
        {
         "line": {
          "color": "gray",
          "width": 1
         },
         "mode": "lines",
         "showlegend": false,
         "type": "scatter",
         "x": [
          "2023-11-26T00:00:00",
          "2023-11-26T00:00:00"
         ],
         "y": [
          37479.12109375,
          37254.16796875
         ]
        },
        {
         "line": {
          "color": "gray",
          "width": 1
         },
         "mode": "lines",
         "showlegend": false,
         "type": "scatter",
         "x": [
          "2023-11-27T00:00:00",
          "2023-11-27T00:00:00"
         ],
         "y": [
          37254.16796875,
          37831.0859375
         ]
        },
        {
         "line": {
          "color": "gray",
          "width": 1
         },
         "mode": "lines",
         "showlegend": false,
         "type": "scatter",
         "x": [
          "2023-11-28T00:00:00",
          "2023-11-28T00:00:00"
         ],
         "y": [
          37831.0859375,
          37858.4921875
         ]
        },
        {
         "line": {
          "color": "gray",
          "width": 1
         },
         "mode": "lines",
         "showlegend": false,
         "type": "scatter",
         "x": [
          "2023-11-29T00:00:00",
          "2023-11-29T00:00:00"
         ],
         "y": [
          37858.4921875,
          37712.74609375
         ]
        },
        {
         "line": {
          "color": "gray",
          "width": 1
         },
         "mode": "lines",
         "showlegend": false,
         "type": "scatter",
         "x": [
          "2023-11-30T00:00:00",
          "2023-11-30T00:00:00"
         ],
         "y": [
          37712.74609375,
          38688.75
         ]
        },
        {
         "line": {
          "color": "gray",
          "width": 1
         },
         "mode": "lines",
         "showlegend": false,
         "type": "scatter",
         "x": [
          "2023-12-01T00:00:00",
          "2023-12-01T00:00:00"
         ],
         "y": [
          38688.75,
          39476.33203125
         ]
        },
        {
         "line": {
          "color": "gray",
          "width": 1
         },
         "mode": "lines",
         "showlegend": false,
         "type": "scatter",
         "x": [
          "2023-12-02T00:00:00",
          "2023-12-02T00:00:00"
         ],
         "y": [
          39476.33203125,
          39978.390625
         ]
        },
        {
         "line": {
          "color": "gray",
          "width": 1
         },
         "mode": "lines",
         "showlegend": false,
         "type": "scatter",
         "x": [
          "2023-12-03T00:00:00",
          "2023-12-03T00:00:00"
         ],
         "y": [
          39978.390625,
          41980.09765625
         ]
        },
        {
         "line": {
          "color": "gray",
          "width": 1
         },
         "mode": "lines",
         "showlegend": false,
         "type": "scatter",
         "x": [
          "2023-12-04T00:00:00",
          "2023-12-04T00:00:00"
         ],
         "y": [
          41980.09765625,
          44080.6484375
         ]
        },
        {
         "line": {
          "color": "gray",
          "width": 1
         },
         "mode": "lines",
         "showlegend": false,
         "type": "scatter",
         "x": [
          "2023-12-05T00:00:00",
          "2023-12-05T00:00:00"
         ],
         "y": [
          44080.6484375,
          43746.4453125
         ]
        },
        {
         "line": {
          "color": "gray",
          "width": 1
         },
         "mode": "lines",
         "showlegend": false,
         "type": "scatter",
         "x": [
          "2023-12-06T00:00:00",
          "2023-12-06T00:00:00"
         ],
         "y": [
          43746.4453125,
          43292.6640625
         ]
        },
        {
         "line": {
          "color": "gray",
          "width": 1
         },
         "mode": "lines",
         "showlegend": false,
         "type": "scatter",
         "x": [
          "2023-12-07T00:00:00",
          "2023-12-07T00:00:00"
         ],
         "y": [
          43292.6640625,
          44166.6015625
         ]
        },
        {
         "line": {
          "color": "gray",
          "width": 1
         },
         "mode": "lines",
         "showlegend": false,
         "type": "scatter",
         "x": [
          "2023-12-08T00:00:00",
          "2023-12-08T00:00:00"
         ],
         "y": [
          44166.6015625,
          43725.984375
         ]
        },
        {
         "line": {
          "color": "gray",
          "width": 1
         },
         "mode": "lines",
         "showlegend": false,
         "type": "scatter",
         "x": [
          "2023-12-09T00:00:00",
          "2023-12-09T00:00:00"
         ],
         "y": [
          43725.984375,
          43779.69921875
         ]
        },
        {
         "line": {
          "color": "gray",
          "width": 1
         },
         "mode": "lines",
         "showlegend": false,
         "type": "scatter",
         "x": [
          "2023-12-10T00:00:00",
          "2023-12-10T00:00:00"
         ],
         "y": [
          43779.69921875,
          41243.83203125
         ]
        },
        {
         "line": {
          "color": "gray",
          "width": 1
         },
         "mode": "lines",
         "showlegend": false,
         "type": "scatter",
         "x": [
          "2023-12-11T00:00:00",
          "2023-12-11T00:00:00"
         ],
         "y": [
          41243.83203125,
          41450.22265625
         ]
        },
        {
         "line": {
          "color": "gray",
          "width": 1
         },
         "mode": "lines",
         "showlegend": false,
         "type": "scatter",
         "x": [
          "2023-12-12T00:00:00",
          "2023-12-12T00:00:00"
         ],
         "y": [
          41450.22265625,
          42890.7421875
         ]
        },
        {
         "line": {
          "color": "gray",
          "width": 1
         },
         "mode": "lines",
         "showlegend": false,
         "type": "scatter",
         "x": [
          "2023-12-13T00:00:00",
          "2023-12-13T00:00:00"
         ],
         "y": [
          42890.7421875,
          43023.97265625
         ]
        },
        {
         "line": {
          "color": "gray",
          "width": 1
         },
         "mode": "lines",
         "showlegend": false,
         "type": "scatter",
         "x": [
          "2023-12-14T00:00:00",
          "2023-12-14T00:00:00"
         ],
         "y": [
          43023.97265625,
          41929.7578125
         ]
        },
        {
         "line": {
          "color": "gray",
          "width": 1
         },
         "mode": "lines",
         "showlegend": false,
         "type": "scatter",
         "x": [
          "2023-12-15T00:00:00",
          "2023-12-15T00:00:00"
         ],
         "y": [
          41929.7578125,
          42240.1171875
         ]
        },
        {
         "line": {
          "color": "gray",
          "width": 1
         },
         "mode": "lines",
         "showlegend": false,
         "type": "scatter",
         "x": [
          "2023-12-16T00:00:00",
          "2023-12-16T00:00:00"
         ],
         "y": [
          42240.1171875,
          41364.6640625
         ]
        },
        {
         "line": {
          "color": "gray",
          "width": 1
         },
         "mode": "lines",
         "showlegend": false,
         "type": "scatter",
         "x": [
          "2023-12-17T00:00:00",
          "2023-12-17T00:00:00"
         ],
         "y": [
          41364.6640625,
          42623.5390625
         ]
        },
        {
         "line": {
          "color": "gray",
          "width": 1
         },
         "mode": "lines",
         "showlegend": false,
         "type": "scatter",
         "x": [
          "2023-12-18T00:00:00",
          "2023-12-18T00:00:00"
         ],
         "y": [
          42623.5390625,
          42270.52734375
         ]
        },
        {
         "line": {
          "color": "gray",
          "width": 1
         },
         "mode": "lines",
         "showlegend": false,
         "type": "scatter",
         "x": [
          "2023-12-19T00:00:00",
          "2023-12-19T00:00:00"
         ],
         "y": [
          42270.52734375,
          43652.25
         ]
        },
        {
         "line": {
          "color": "gray",
          "width": 1
         },
         "mode": "lines",
         "showlegend": false,
         "type": "scatter",
         "x": [
          "2023-12-20T00:00:00",
          "2023-12-20T00:00:00"
         ],
         "y": [
          43652.25,
          43869.15234375
         ]
        },
        {
         "line": {
          "color": "gray",
          "width": 1
         },
         "mode": "lines",
         "showlegend": false,
         "type": "scatter",
         "x": [
          "2023-12-21T00:00:00",
          "2023-12-21T00:00:00"
         ],
         "y": [
          43869.15234375,
          43997.90234375
         ]
        },
        {
         "line": {
          "color": "gray",
          "width": 1
         },
         "mode": "lines",
         "showlegend": false,
         "type": "scatter",
         "x": [
          "2023-12-22T00:00:00",
          "2023-12-22T00:00:00"
         ],
         "y": [
          43997.90234375,
          43739.54296875
         ]
        },
        {
         "line": {
          "color": "gray",
          "width": 1
         },
         "mode": "lines",
         "showlegend": false,
         "type": "scatter",
         "x": [
          "2023-12-23T00:00:00",
          "2023-12-23T00:00:00"
         ],
         "y": [
          43739.54296875,
          43016.1171875
         ]
        },
        {
         "line": {
          "color": "gray",
          "width": 1
         },
         "mode": "lines",
         "showlegend": false,
         "type": "scatter",
         "x": [
          "2023-12-24T00:00:00",
          "2023-12-24T00:00:00"
         ],
         "y": [
          43016.1171875,
          43613.140625
         ]
        },
        {
         "line": {
          "color": "gray",
          "width": 1
         },
         "mode": "lines",
         "showlegend": false,
         "type": "scatter",
         "x": [
          "2023-12-25T00:00:00",
          "2023-12-25T00:00:00"
         ],
         "y": [
          43613.140625,
          42520.40234375
         ]
        },
        {
         "line": {
          "color": "gray",
          "width": 1
         },
         "mode": "lines",
         "showlegend": false,
         "type": "scatter",
         "x": [
          "2023-12-26T00:00:00",
          "2023-12-26T00:00:00"
         ],
         "y": [
          42520.40234375,
          43442.85546875
         ]
        },
        {
         "line": {
          "color": "gray",
          "width": 1
         },
         "mode": "lines",
         "showlegend": false,
         "type": "scatter",
         "x": [
          "2023-12-27T00:00:00",
          "2023-12-27T00:00:00"
         ],
         "y": [
          43442.85546875,
          42627.85546875
         ]
        },
        {
         "line": {
          "color": "gray",
          "width": 1
         },
         "mode": "lines",
         "showlegend": false,
         "type": "scatter",
         "x": [
          "2023-12-28T00:00:00",
          "2023-12-28T00:00:00"
         ],
         "y": [
          42627.85546875,
          42099.40234375
         ]
        },
        {
         "line": {
          "color": "gray",
          "width": 1
         },
         "mode": "lines",
         "showlegend": false,
         "type": "scatter",
         "x": [
          "2023-12-29T00:00:00",
          "2023-12-29T00:00:00"
         ],
         "y": [
          42099.40234375,
          42156.90234375
         ]
        },
        {
         "line": {
          "color": "gray",
          "width": 1
         },
         "mode": "lines",
         "showlegend": false,
         "type": "scatter",
         "x": [
          "2023-12-30T00:00:00",
          "2023-12-30T00:00:00"
         ],
         "y": [
          42156.90234375,
          42265.1875
         ]
        },
        {
         "line": {
          "color": "gray",
          "width": 1
         },
         "mode": "lines",
         "showlegend": false,
         "type": "scatter",
         "x": [
          "2023-12-31T00:00:00",
          "2023-12-31T00:00:00"
         ],
         "y": [
          42265.1875,
          44167.33203125
         ]
        },
        {
         "line": {
          "color": "gray",
          "width": 1
         },
         "mode": "lines",
         "showlegend": false,
         "type": "scatter",
         "x": [
          "2024-01-01T00:00:00",
          "2024-01-01T00:00:00"
         ],
         "y": [
          44167.33203125,
          44957.96875
         ]
        },
        {
         "line": {
          "color": "gray",
          "width": 1
         },
         "mode": "lines",
         "showlegend": false,
         "type": "scatter",
         "x": [
          "2024-01-02T00:00:00",
          "2024-01-02T00:00:00"
         ],
         "y": [
          44957.96875,
          42848.17578125
         ]
        },
        {
         "line": {
          "color": "gray",
          "width": 1
         },
         "mode": "lines",
         "showlegend": false,
         "type": "scatter",
         "x": [
          "2024-01-03T00:00:00",
          "2024-01-03T00:00:00"
         ],
         "y": [
          42848.17578125,
          44179.921875
         ]
        },
        {
         "line": {
          "color": "gray",
          "width": 1
         },
         "mode": "lines",
         "showlegend": false,
         "type": "scatter",
         "x": [
          "2024-01-04T00:00:00",
          "2024-01-04T00:00:00"
         ],
         "y": [
          44179.921875,
          44162.69140625
         ]
        },
        {
         "line": {
          "color": "gray",
          "width": 1
         },
         "mode": "lines",
         "showlegend": false,
         "type": "scatter",
         "x": [
          "2024-01-05T00:00:00",
          "2024-01-05T00:00:00"
         ],
         "y": [
          44162.69140625,
          43989.1953125
         ]
        },
        {
         "line": {
          "color": "gray",
          "width": 1
         },
         "mode": "lines",
         "showlegend": false,
         "type": "scatter",
         "x": [
          "2024-01-06T00:00:00",
          "2024-01-06T00:00:00"
         ],
         "y": [
          43989.1953125,
          43943.09765625
         ]
        },
        {
         "line": {
          "color": "gray",
          "width": 1
         },
         "mode": "lines",
         "showlegend": false,
         "type": "scatter",
         "x": [
          "2024-01-07T00:00:00",
          "2024-01-07T00:00:00"
         ],
         "y": [
          43943.09765625,
          46970.50390625
         ]
        },
        {
         "line": {
          "color": "gray",
          "width": 1
         },
         "mode": "lines",
         "showlegend": false,
         "type": "scatter",
         "x": [
          "2024-01-08T00:00:00",
          "2024-01-08T00:00:00"
         ],
         "y": [
          46970.50390625,
          46139.73046875
         ]
        },
        {
         "line": {
          "color": "gray",
          "width": 1
         },
         "mode": "lines",
         "showlegend": false,
         "type": "scatter",
         "x": [
          "2024-01-09T00:00:00",
          "2024-01-09T00:00:00"
         ],
         "y": [
          46139.73046875,
          46627.77734375
         ]
        },
        {
         "line": {
          "color": "gray",
          "width": 1
         },
         "mode": "lines",
         "showlegend": false,
         "type": "scatter",
         "x": [
          "2024-01-10T00:00:00",
          "2024-01-10T00:00:00"
         ],
         "y": [
          46627.77734375,
          46368.5859375
         ]
        },
        {
         "line": {
          "color": "gray",
          "width": 1
         },
         "mode": "lines",
         "showlegend": false,
         "type": "scatter",
         "x": [
          "2024-01-11T00:00:00",
          "2024-01-11T00:00:00"
         ],
         "y": [
          46368.5859375,
          42853.16796875
         ]
        },
        {
         "line": {
          "color": "gray",
          "width": 1
         },
         "mode": "lines",
         "showlegend": false,
         "type": "scatter",
         "x": [
          "2024-01-12T00:00:00",
          "2024-01-12T00:00:00"
         ],
         "y": [
          42853.16796875,
          42842.3828125
         ]
        },
        {
         "line": {
          "color": "gray",
          "width": 1
         },
         "mode": "lines",
         "showlegend": false,
         "type": "scatter",
         "x": [
          "2024-01-13T00:00:00",
          "2024-01-13T00:00:00"
         ],
         "y": [
          42842.3828125,
          41796.26953125
         ]
        },
        {
         "line": {
          "color": "gray",
          "width": 1
         },
         "mode": "lines",
         "showlegend": false,
         "type": "scatter",
         "x": [
          "2024-01-14T00:00:00",
          "2024-01-14T00:00:00"
         ],
         "y": [
          41796.26953125,
          42511.96875
         ]
        },
        {
         "line": {
          "color": "gray",
          "width": 1
         },
         "mode": "lines",
         "showlegend": false,
         "type": "scatter",
         "x": [
          "2024-01-15T00:00:00",
          "2024-01-15T00:00:00"
         ],
         "y": [
          42511.96875,
          43154.9453125
         ]
        },
        {
         "line": {
          "color": "gray",
          "width": 1
         },
         "mode": "lines",
         "showlegend": false,
         "type": "scatter",
         "x": [
          "2024-01-16T00:00:00",
          "2024-01-16T00:00:00"
         ],
         "y": [
          43154.9453125,
          42742.65234375
         ]
        },
        {
         "line": {
          "color": "gray",
          "width": 1
         },
         "mode": "lines",
         "showlegend": false,
         "type": "scatter",
         "x": [
          "2024-01-17T00:00:00",
          "2024-01-17T00:00:00"
         ],
         "y": [
          42742.65234375,
          41262.05859375
         ]
        },
        {
         "line": {
          "color": "gray",
          "width": 1
         },
         "mode": "lines",
         "showlegend": false,
         "type": "scatter",
         "x": [
          "2024-01-18T00:00:00",
          "2024-01-18T00:00:00"
         ],
         "y": [
          41262.05859375,
          41618.40625
         ]
        },
        {
         "line": {
          "color": "gray",
          "width": 1
         },
         "mode": "lines",
         "showlegend": false,
         "type": "scatter",
         "x": [
          "2024-01-19T00:00:00",
          "2024-01-19T00:00:00"
         ],
         "y": [
          41618.40625,
          41665.5859375
         ]
        },
        {
         "line": {
          "color": "gray",
          "width": 1
         },
         "mode": "lines",
         "showlegend": false,
         "type": "scatter",
         "x": [
          "2024-01-20T00:00:00",
          "2024-01-20T00:00:00"
         ],
         "y": [
          41665.5859375,
          41545.78515625
         ]
        },
        {
         "line": {
          "color": "gray",
          "width": 1
         },
         "mode": "lines",
         "showlegend": false,
         "type": "scatter",
         "x": [
          "2024-01-21T00:00:00",
          "2024-01-21T00:00:00"
         ],
         "y": [
          41545.78515625,
          39507.3671875
         ]
        },
        {
         "line": {
          "color": "gray",
          "width": 1
         },
         "mode": "lines",
         "showlegend": false,
         "type": "scatter",
         "x": [
          "2024-01-22T00:00:00",
          "2024-01-22T00:00:00"
         ],
         "y": [
          39507.3671875,
          39845.55078125
         ]
        },
        {
         "line": {
          "color": "gray",
          "width": 1
         },
         "mode": "lines",
         "showlegend": false,
         "type": "scatter",
         "x": [
          "2024-01-23T00:00:00",
          "2024-01-23T00:00:00"
         ],
         "y": [
          39845.55078125,
          40077.07421875
         ]
        },
        {
         "line": {
          "color": "gray",
          "width": 1
         },
         "mode": "lines",
         "showlegend": false,
         "type": "scatter",
         "x": [
          "2024-01-24T00:00:00",
          "2024-01-24T00:00:00"
         ],
         "y": [
          40077.07421875,
          39933.80859375
         ]
        },
        {
         "line": {
          "color": "gray",
          "width": 1
         },
         "mode": "lines",
         "showlegend": false,
         "type": "scatter",
         "x": [
          "2024-01-25T00:00:00",
          "2024-01-25T00:00:00"
         ],
         "y": [
          39933.80859375,
          41816.87109375
         ]
        },
        {
         "line": {
          "color": "gray",
          "width": 1
         },
         "mode": "lines",
         "showlegend": false,
         "type": "scatter",
         "x": [
          "2024-01-26T00:00:00",
          "2024-01-26T00:00:00"
         ],
         "y": [
          41816.87109375,
          42120.0546875
         ]
        },
        {
         "line": {
          "color": "gray",
          "width": 1
         },
         "mode": "lines",
         "showlegend": false,
         "type": "scatter",
         "x": [
          "2024-01-27T00:00:00",
          "2024-01-27T00:00:00"
         ],
         "y": [
          42120.0546875,
          42035.59375
         ]
        },
        {
         "line": {
          "color": "gray",
          "width": 1
         },
         "mode": "lines",
         "showlegend": false,
         "type": "scatter",
         "x": [
          "2024-01-28T00:00:00",
          "2024-01-28T00:00:00"
         ],
         "y": [
          42035.59375,
          43288.24609375
         ]
        },
        {
         "line": {
          "color": "gray",
          "width": 1
         },
         "mode": "lines",
         "showlegend": false,
         "type": "scatter",
         "x": [
          "2024-01-29T00:00:00",
          "2024-01-29T00:00:00"
         ],
         "y": [
          43288.24609375,
          42952.609375
         ]
        },
        {
         "line": {
          "color": "gray",
          "width": 1
         },
         "mode": "lines",
         "showlegend": false,
         "type": "scatter",
         "x": [
          "2024-01-30T00:00:00",
          "2024-01-30T00:00:00"
         ],
         "y": [
          42952.609375,
          42582.60546875
         ]
        },
        {
         "line": {
          "color": "gray",
          "width": 1
         },
         "mode": "lines",
         "showlegend": false,
         "type": "scatter",
         "x": [
          "2024-01-31T00:00:00",
          "2024-01-31T00:00:00"
         ],
         "y": [
          42582.60546875,
          43075.7734375
         ]
        },
        {
         "line": {
          "color": "gray",
          "width": 1
         },
         "mode": "lines",
         "showlegend": false,
         "type": "scatter",
         "x": [
          "2024-02-01T00:00:00",
          "2024-02-01T00:00:00"
         ],
         "y": [
          43075.7734375,
          43185.859375
         ]
        },
        {
         "line": {
          "color": "gray",
          "width": 1
         },
         "mode": "lines",
         "showlegend": false,
         "type": "scatter",
         "x": [
          "2024-02-02T00:00:00",
          "2024-02-02T00:00:00"
         ],
         "y": [
          43185.859375,
          42992.25
         ]
        },
        {
         "line": {
          "color": "gray",
          "width": 1
         },
         "mode": "lines",
         "showlegend": false,
         "type": "scatter",
         "x": [
          "2024-02-03T00:00:00",
          "2024-02-03T00:00:00"
         ],
         "y": [
          42992.25,
          42583.58203125
         ]
        },
        {
         "line": {
          "color": "gray",
          "width": 1
         },
         "mode": "lines",
         "showlegend": false,
         "type": "scatter",
         "x": [
          "2024-02-04T00:00:00",
          "2024-02-04T00:00:00"
         ],
         "y": [
          42583.58203125,
          42658.66796875
         ]
        },
        {
         "line": {
          "color": "gray",
          "width": 1
         },
         "mode": "lines",
         "showlegend": false,
         "type": "scatter",
         "x": [
          "2024-02-05T00:00:00",
          "2024-02-05T00:00:00"
         ],
         "y": [
          42658.66796875,
          43084.671875
         ]
        },
        {
         "line": {
          "color": "gray",
          "width": 1
         },
         "mode": "lines",
         "showlegend": false,
         "type": "scatter",
         "x": [
          "2024-02-06T00:00:00",
          "2024-02-06T00:00:00"
         ],
         "y": [
          43084.671875,
          44318.22265625
         ]
        },
        {
         "line": {
          "color": "gray",
          "width": 1
         },
         "mode": "lines",
         "showlegend": false,
         "type": "scatter",
         "x": [
          "2024-02-07T00:00:00",
          "2024-02-07T00:00:00"
         ],
         "y": [
          44318.22265625,
          45301.56640625
         ]
        },
        {
         "line": {
          "color": "gray",
          "width": 1
         },
         "mode": "lines",
         "showlegend": false,
         "type": "scatter",
         "x": [
          "2024-02-08T00:00:00",
          "2024-02-08T00:00:00"
         ],
         "y": [
          45301.56640625,
          47147.19921875
         ]
        },
        {
         "line": {
          "color": "gray",
          "width": 1
         },
         "mode": "lines",
         "showlegend": false,
         "type": "scatter",
         "x": [
          "2024-02-09T00:00:00",
          "2024-02-09T00:00:00"
         ],
         "y": [
          47147.19921875,
          47771.27734375
         ]
        },
        {
         "line": {
          "color": "gray",
          "width": 1
         },
         "mode": "lines",
         "showlegend": false,
         "type": "scatter",
         "x": [
          "2024-02-10T00:00:00",
          "2024-02-10T00:00:00"
         ],
         "y": [
          47771.27734375,
          48293.91796875
         ]
        },
        {
         "line": {
          "color": "gray",
          "width": 1
         },
         "mode": "lines",
         "showlegend": false,
         "type": "scatter",
         "x": [
          "2024-02-11T00:00:00",
          "2024-02-11T00:00:00"
         ],
         "y": [
          48293.91796875,
          49958.22265625
         ]
        },
        {
         "line": {
          "color": "gray",
          "width": 1
         },
         "mode": "lines",
         "showlegend": false,
         "type": "scatter",
         "x": [
          "2024-02-12T00:00:00",
          "2024-02-12T00:00:00"
         ],
         "y": [
          49958.22265625,
          49742.44140625
         ]
        },
        {
         "line": {
          "color": "gray",
          "width": 1
         },
         "mode": "lines",
         "showlegend": false,
         "type": "scatter",
         "x": [
          "2024-02-13T00:00:00",
          "2024-02-13T00:00:00"
         ],
         "y": [
          49742.44140625,
          51826.6953125
         ]
        },
        {
         "line": {
          "color": "gray",
          "width": 1
         },
         "mode": "lines",
         "showlegend": false,
         "type": "scatter",
         "x": [
          "2024-02-14T00:00:00",
          "2024-02-14T00:00:00"
         ],
         "y": [
          51826.6953125,
          51938.5546875
         ]
        },
        {
         "line": {
          "color": "gray",
          "width": 1
         },
         "mode": "lines",
         "showlegend": false,
         "type": "scatter",
         "x": [
          "2024-02-15T00:00:00",
          "2024-02-15T00:00:00"
         ],
         "y": [
          51938.5546875,
          52160.203125
         ]
        },
        {
         "line": {
          "color": "gray",
          "width": 1
         },
         "mode": "lines",
         "showlegend": false,
         "type": "scatter",
         "x": [
          "2024-02-16T00:00:00",
          "2024-02-16T00:00:00"
         ],
         "y": [
          52160.203125,
          51662.99609375
         ]
        },
        {
         "line": {
          "color": "gray",
          "width": 1
         },
         "mode": "lines",
         "showlegend": false,
         "type": "scatter",
         "x": [
          "2024-02-17T00:00:00",
          "2024-02-17T00:00:00"
         ],
         "y": [
          51662.99609375,
          52122.546875
         ]
        },
        {
         "line": {
          "color": "gray",
          "width": 1
         },
         "mode": "lines",
         "showlegend": false,
         "type": "scatter",
         "x": [
          "2024-02-18T00:00:00",
          "2024-02-18T00:00:00"
         ],
         "y": [
          52122.546875,
          51779.14453125
         ]
        },
        {
         "line": {
          "color": "gray",
          "width": 1
         },
         "mode": "lines",
         "showlegend": false,
         "type": "scatter",
         "x": [
          "2024-02-19T00:00:00",
          "2024-02-19T00:00:00"
         ],
         "y": [
          51779.14453125,
          52284.875
         ]
        },
        {
         "line": {
          "color": "gray",
          "width": 1
         },
         "mode": "lines",
         "showlegend": false,
         "type": "scatter",
         "x": [
          "2024-02-20T00:00:00",
          "2024-02-20T00:00:00"
         ],
         "y": [
          52284.875,
          51839.1796875
         ]
        },
        {
         "line": {
          "color": "gray",
          "width": 1
         },
         "mode": "lines",
         "showlegend": false,
         "type": "scatter",
         "x": [
          "2024-02-21T00:00:00",
          "2024-02-21T00:00:00"
         ],
         "y": [
          51839.1796875,
          51304.97265625
         ]
        },
        {
         "line": {
          "color": "gray",
          "width": 1
         },
         "mode": "lines",
         "showlegend": false,
         "type": "scatter",
         "x": [
          "2024-02-22T00:00:00",
          "2024-02-22T00:00:00"
         ],
         "y": [
          51304.97265625,
          50731.94921875
         ]
        },
        {
         "line": {
          "color": "gray",
          "width": 1
         },
         "mode": "lines",
         "showlegend": false,
         "type": "scatter",
         "x": [
          "2024-02-23T00:00:00",
          "2024-02-23T00:00:00"
         ],
         "y": [
          50731.94921875,
          51571.1015625
         ]
        },
        {
         "line": {
          "color": "gray",
          "width": 1
         },
         "mode": "lines",
         "showlegend": false,
         "type": "scatter",
         "x": [
          "2024-02-24T00:00:00",
          "2024-02-24T00:00:00"
         ],
         "y": [
          51571.1015625,
          51733.23828125
         ]
        },
        {
         "line": {
          "color": "gray",
          "width": 1
         },
         "mode": "lines",
         "showlegend": false,
         "type": "scatter",
         "x": [
          "2024-02-25T00:00:00",
          "2024-02-25T00:00:00"
         ],
         "y": [
          51733.23828125,
          54522.40234375
         ]
        },
        {
         "line": {
          "color": "gray",
          "width": 1
         },
         "mode": "lines",
         "showlegend": false,
         "type": "scatter",
         "x": [
          "2024-02-26T00:00:00",
          "2024-02-26T00:00:00"
         ],
         "y": [
          54522.40234375,
          57085.37109375
         ]
        },
        {
         "line": {
          "color": "gray",
          "width": 1
         },
         "mode": "lines",
         "showlegend": false,
         "type": "scatter",
         "x": [
          "2024-02-27T00:00:00",
          "2024-02-27T00:00:00"
         ],
         "y": [
          57085.37109375,
          62504.7890625
         ]
        },
        {
         "line": {
          "color": "gray",
          "width": 1
         },
         "mode": "lines",
         "showlegend": false,
         "type": "scatter",
         "x": [
          "2024-02-28T00:00:00",
          "2024-02-28T00:00:00"
         ],
         "y": [
          62504.7890625,
          61198.3828125
         ]
        },
        {
         "line": {
          "color": "gray",
          "width": 1
         },
         "mode": "lines",
         "showlegend": false,
         "type": "scatter",
         "x": [
          "2024-02-29T00:00:00",
          "2024-02-29T00:00:00"
         ],
         "y": [
          61198.3828125,
          62440.6328125
         ]
        },
        {
         "line": {
          "color": "gray",
          "width": 1
         },
         "mode": "lines",
         "showlegend": false,
         "type": "scatter",
         "x": [
          "2024-03-01T00:00:00",
          "2024-03-01T00:00:00"
         ],
         "y": [
          62440.6328125,
          62029.84765625
         ]
        },
        {
         "line": {
          "color": "gray",
          "width": 1
         },
         "mode": "lines",
         "showlegend": false,
         "type": "scatter",
         "x": [
          "2024-03-02T00:00:00",
          "2024-03-02T00:00:00"
         ],
         "y": [
          62029.84765625,
          63167.37109375
         ]
        },
        {
         "line": {
          "color": "gray",
          "width": 1
         },
         "mode": "lines",
         "showlegend": false,
         "type": "scatter",
         "x": [
          "2024-03-03T00:00:00",
          "2024-03-03T00:00:00"
         ],
         "y": [
          63167.37109375,
          68330.4140625
         ]
        },
        {
         "line": {
          "color": "gray",
          "width": 1
         },
         "mode": "lines",
         "showlegend": false,
         "type": "scatter",
         "x": [
          "2024-03-04T00:00:00",
          "2024-03-04T00:00:00"
         ],
         "y": [
          68330.4140625,
          63801.19921875
         ]
        },
        {
         "line": {
          "color": "gray",
          "width": 1
         },
         "mode": "lines",
         "showlegend": false,
         "type": "scatter",
         "x": [
          "2024-03-05T00:00:00",
          "2024-03-05T00:00:00"
         ],
         "y": [
          63801.19921875,
          66106.8046875
         ]
        },
        {
         "line": {
          "color": "gray",
          "width": 1
         },
         "mode": "lines",
         "showlegend": false,
         "type": "scatter",
         "x": [
          "2024-03-06T00:00:00",
          "2024-03-06T00:00:00"
         ],
         "y": [
          66106.8046875,
          66925.484375
         ]
        },
        {
         "line": {
          "color": "gray",
          "width": 1
         },
         "mode": "lines",
         "showlegend": false,
         "type": "scatter",
         "x": [
          "2024-03-07T00:00:00",
          "2024-03-07T00:00:00"
         ],
         "y": [
          66925.484375,
          68300.09375
         ]
        },
        {
         "line": {
          "color": "gray",
          "width": 1
         },
         "mode": "lines",
         "showlegend": false,
         "type": "scatter",
         "x": [
          "2024-03-08T00:00:00",
          "2024-03-08T00:00:00"
         ],
         "y": [
          68300.09375,
          68498.8828125
         ]
        },
        {
         "line": {
          "color": "gray",
          "width": 1
         },
         "mode": "lines",
         "showlegend": false,
         "type": "scatter",
         "x": [
          "2024-03-09T00:00:00",
          "2024-03-09T00:00:00"
         ],
         "y": [
          68498.8828125,
          69019.7890625
         ]
        },
        {
         "line": {
          "color": "gray",
          "width": 1
         },
         "mode": "lines",
         "showlegend": false,
         "type": "scatter",
         "x": [
          "2024-03-10T00:00:00",
          "2024-03-10T00:00:00"
         ],
         "y": [
          69019.7890625,
          72123.90625
         ]
        },
        {
         "line": {
          "color": "gray",
          "width": 1
         },
         "mode": "lines",
         "showlegend": false,
         "type": "scatter",
         "x": [
          "2024-03-11T00:00:00",
          "2024-03-11T00:00:00"
         ],
         "y": [
          72123.90625,
          71481.2890625
         ]
        },
        {
         "line": {
          "color": "gray",
          "width": 1
         },
         "mode": "lines",
         "showlegend": false,
         "type": "scatter",
         "x": [
          "2024-03-12T00:00:00",
          "2024-03-12T00:00:00"
         ],
         "y": [
          71481.2890625,
          73083.5
         ]
        },
        {
         "line": {
          "color": "gray",
          "width": 1
         },
         "mode": "lines",
         "showlegend": false,
         "type": "scatter",
         "x": [
          "2024-03-13T00:00:00",
          "2024-03-13T00:00:00"
         ],
         "y": [
          73083.5,
          71396.59375
         ]
        },
        {
         "line": {
          "color": "gray",
          "width": 1
         },
         "mode": "lines",
         "showlegend": false,
         "type": "scatter",
         "x": [
          "2024-03-14T00:00:00",
          "2024-03-14T00:00:00"
         ],
         "y": [
          71396.59375,
          69403.7734375
         ]
        },
        {
         "line": {
          "color": "gray",
          "width": 1
         },
         "mode": "lines",
         "showlegend": false,
         "type": "scatter",
         "x": [
          "2024-03-15T00:00:00",
          "2024-03-15T00:00:00"
         ],
         "y": [
          69403.7734375,
          65315.1171875
         ]
        },
        {
         "line": {
          "color": "gray",
          "width": 1
         },
         "mode": "lines",
         "showlegend": false,
         "type": "scatter",
         "x": [
          "2024-03-16T00:00:00",
          "2024-03-16T00:00:00"
         ],
         "y": [
          65315.1171875,
          68390.625
         ]
        },
        {
         "line": {
          "color": "gray",
          "width": 1
         },
         "mode": "lines",
         "showlegend": false,
         "type": "scatter",
         "x": [
          "2024-03-17T00:00:00",
          "2024-03-17T00:00:00"
         ],
         "y": [
          68390.625,
          67548.59375
         ]
        },
        {
         "line": {
          "color": "gray",
          "width": 1
         },
         "mode": "lines",
         "showlegend": false,
         "type": "scatter",
         "x": [
          "2024-03-18T00:00:00",
          "2024-03-18T00:00:00"
         ],
         "y": [
          67548.59375,
          61912.7734375
         ]
        },
        {
         "line": {
          "color": "gray",
          "width": 1
         },
         "mode": "lines",
         "showlegend": false,
         "type": "scatter",
         "x": [
          "2024-03-19T00:00:00",
          "2024-03-19T00:00:00"
         ],
         "y": [
          61912.7734375,
          67913.671875
         ]
        },
        {
         "line": {
          "color": "gray",
          "width": 1
         },
         "mode": "lines",
         "showlegend": false,
         "type": "scatter",
         "x": [
          "2024-03-20T00:00:00",
          "2024-03-20T00:00:00"
         ],
         "y": [
          67913.671875,
          65491.390625
         ]
        },
        {
         "line": {
          "color": "gray",
          "width": 1
         },
         "mode": "lines",
         "showlegend": false,
         "type": "scatter",
         "x": [
          "2024-03-21T00:00:00",
          "2024-03-21T00:00:00"
         ],
         "y": [
          65491.390625,
          63778.76171875
         ]
        },
        {
         "line": {
          "color": "gray",
          "width": 1
         },
         "mode": "lines",
         "showlegend": false,
         "type": "scatter",
         "x": [
          "2024-03-22T00:00:00",
          "2024-03-22T00:00:00"
         ],
         "y": [
          63778.76171875,
          64062.203125
         ]
        },
        {
         "line": {
          "color": "gray",
          "width": 1
         },
         "mode": "lines",
         "showlegend": false,
         "type": "scatter",
         "x": [
          "2024-03-23T00:00:00",
          "2024-03-23T00:00:00"
         ],
         "y": [
          64062.203125,
          67234.171875
         ]
        },
        {
         "line": {
          "color": "gray",
          "width": 1
         },
         "mode": "lines",
         "showlegend": false,
         "type": "scatter",
         "x": [
          "2024-03-24T00:00:00",
          "2024-03-24T00:00:00"
         ],
         "y": [
          67234.171875,
          69958.8125
         ]
        },
        {
         "line": {
          "color": "gray",
          "width": 1
         },
         "mode": "lines",
         "showlegend": false,
         "type": "scatter",
         "x": [
          "2024-03-25T00:00:00",
          "2024-03-25T00:00:00"
         ],
         "y": [
          69958.8125,
          69987.8359375
         ]
        },
        {
         "line": {
          "color": "gray",
          "width": 1
         },
         "mode": "lines",
         "showlegend": false,
         "type": "scatter",
         "x": [
          "2024-03-26T00:00:00",
          "2024-03-26T00:00:00"
         ],
         "y": [
          69987.8359375,
          69455.34375
         ]
        },
        {
         "line": {
          "color": "gray",
          "width": 1
         },
         "mode": "lines",
         "showlegend": false,
         "type": "scatter",
         "x": [
          "2024-03-27T00:00:00",
          "2024-03-27T00:00:00"
         ],
         "y": [
          69455.34375,
          70744.953125
         ]
        },
        {
         "line": {
          "color": "gray",
          "width": 1
         },
         "mode": "lines",
         "showlegend": false,
         "type": "scatter",
         "x": [
          "2024-03-28T00:00:00",
          "2024-03-28T00:00:00"
         ],
         "y": [
          70744.953125,
          69892.828125
         ]
        },
        {
         "line": {
          "color": "gray",
          "width": 1
         },
         "mode": "lines",
         "showlegend": false,
         "type": "scatter",
         "x": [
          "2024-03-29T00:00:00",
          "2024-03-29T00:00:00"
         ],
         "y": [
          69892.828125,
          69645.3046875
         ]
        },
        {
         "line": {
          "color": "gray",
          "width": 1
         },
         "mode": "lines",
         "showlegend": false,
         "type": "scatter",
         "x": [
          "2024-03-30T00:00:00",
          "2024-03-30T00:00:00"
         ],
         "y": [
          69645.3046875,
          71333.6484375
         ]
        },
        {
         "line": {
          "color": "gray",
          "width": 1
         },
         "mode": "lines",
         "showlegend": false,
         "type": "scatter",
         "x": [
          "2024-03-31T00:00:00",
          "2024-03-31T00:00:00"
         ],
         "y": [
          71333.6484375,
          69702.1484375
         ]
        },
        {
         "line": {
          "color": "gray",
          "width": 1
         },
         "mode": "lines",
         "showlegend": false,
         "type": "scatter",
         "x": [
          "2024-04-01T00:00:00",
          "2024-04-01T00:00:00"
         ],
         "y": [
          69702.1484375,
          65446.97265625
         ]
        },
        {
         "line": {
          "color": "gray",
          "width": 1
         },
         "mode": "lines",
         "showlegend": false,
         "type": "scatter",
         "x": [
          "2024-04-02T00:00:00",
          "2024-04-02T00:00:00"
         ],
         "y": [
          65446.97265625,
          65980.8125
         ]
        },
        {
         "line": {
          "color": "gray",
          "width": 1
         },
         "mode": "lines",
         "showlegend": false,
         "type": "scatter",
         "x": [
          "2024-04-03T00:00:00",
          "2024-04-03T00:00:00"
         ],
         "y": [
          65980.8125,
          68508.84375
         ]
        },
        {
         "line": {
          "color": "gray",
          "width": 1
         },
         "mode": "lines",
         "showlegend": false,
         "type": "scatter",
         "x": [
          "2024-04-04T00:00:00",
          "2024-04-04T00:00:00"
         ],
         "y": [
          68508.84375,
          67837.640625
         ]
        },
        {
         "line": {
          "color": "gray",
          "width": 1
         },
         "mode": "lines",
         "showlegend": false,
         "type": "scatter",
         "x": [
          "2024-04-05T00:00:00",
          "2024-04-05T00:00:00"
         ],
         "y": [
          67837.640625,
          68896.109375
         ]
        },
        {
         "line": {
          "color": "gray",
          "width": 1
         },
         "mode": "lines",
         "showlegend": false,
         "type": "scatter",
         "x": [
          "2024-04-06T00:00:00",
          "2024-04-06T00:00:00"
         ],
         "y": [
          68896.109375,
          69362.5546875
         ]
        },
        {
         "line": {
          "color": "gray",
          "width": 1
         },
         "mode": "lines",
         "showlegend": false,
         "type": "scatter",
         "x": [
          "2024-04-07T00:00:00",
          "2024-04-07T00:00:00"
         ],
         "y": [
          69362.5546875,
          71631.359375
         ]
        },
        {
         "line": {
          "color": "gray",
          "width": 1
         },
         "mode": "lines",
         "showlegend": false,
         "type": "scatter",
         "x": [
          "2024-04-08T00:00:00",
          "2024-04-08T00:00:00"
         ],
         "y": [
          71631.359375,
          69139.015625
         ]
        },
        {
         "line": {
          "color": "gray",
          "width": 1
         },
         "mode": "lines",
         "showlegend": false,
         "type": "scatter",
         "x": [
          "2024-04-09T00:00:00",
          "2024-04-09T00:00:00"
         ],
         "y": [
          69139.015625,
          70587.8828125
         ]
        },
        {
         "line": {
          "color": "gray",
          "width": 1
         },
         "mode": "lines",
         "showlegend": false,
         "type": "scatter",
         "x": [
          "2024-04-10T00:00:00",
          "2024-04-10T00:00:00"
         ],
         "y": [
          70587.8828125,
          70060.609375
         ]
        },
        {
         "line": {
          "color": "gray",
          "width": 1
         },
         "mode": "lines",
         "showlegend": false,
         "type": "scatter",
         "x": [
          "2024-04-11T00:00:00",
          "2024-04-11T00:00:00"
         ],
         "y": [
          70060.609375,
          67195.8671875
         ]
        },
        {
         "line": {
          "color": "gray",
          "width": 1
         },
         "mode": "lines",
         "showlegend": false,
         "type": "scatter",
         "x": [
          "2024-04-12T00:00:00",
          "2024-04-12T00:00:00"
         ],
         "y": [
          67195.8671875,
          63821.47265625
         ]
        },
        {
         "line": {
          "color": "gray",
          "width": 1
         },
         "mode": "lines",
         "showlegend": false,
         "type": "scatter",
         "x": [
          "2024-04-13T00:00:00",
          "2024-04-13T00:00:00"
         ],
         "y": [
          63821.47265625,
          65738.7265625
         ]
        },
        {
         "line": {
          "color": "gray",
          "width": 1
         },
         "mode": "lines",
         "showlegend": false,
         "type": "scatter",
         "x": [
          "2024-04-14T00:00:00",
          "2024-04-14T00:00:00"
         ],
         "y": [
          65738.7265625,
          63426.2109375
         ]
        },
        {
         "line": {
          "color": "gray",
          "width": 1
         },
         "mode": "lines",
         "showlegend": false,
         "type": "scatter",
         "x": [
          "2024-04-15T00:00:00",
          "2024-04-15T00:00:00"
         ],
         "y": [
          63426.2109375,
          63811.86328125
         ]
        },
        {
         "line": {
          "color": "gray",
          "width": 1
         },
         "mode": "lines",
         "showlegend": false,
         "type": "scatter",
         "x": [
          "2024-04-16T00:00:00",
          "2024-04-16T00:00:00"
         ],
         "y": [
          63811.86328125,
          61276.69140625
         ]
        },
        {
         "line": {
          "color": "gray",
          "width": 1
         },
         "mode": "lines",
         "showlegend": false,
         "type": "scatter",
         "x": [
          "2024-04-17T00:00:00",
          "2024-04-17T00:00:00"
         ],
         "y": [
          61276.69140625,
          63512.75390625
         ]
        },
        {
         "line": {
          "color": "gray",
          "width": 1
         },
         "mode": "lines",
         "showlegend": false,
         "type": "scatter",
         "x": [
          "2024-04-18T00:00:00",
          "2024-04-18T00:00:00"
         ],
         "y": [
          63512.75390625,
          63843.5703125
         ]
        },
        {
         "line": {
          "color": "gray",
          "width": 1
         },
         "mode": "lines",
         "showlegend": false,
         "type": "scatter",
         "x": [
          "2024-04-19T00:00:00",
          "2024-04-19T00:00:00"
         ],
         "y": [
          63843.5703125,
          64994.44140625
         ]
        },
        {
         "line": {
          "color": "gray",
          "width": 1
         },
         "mode": "lines",
         "showlegend": false,
         "type": "scatter",
         "x": [
          "2024-04-20T00:00:00",
          "2024-04-20T00:00:00"
         ],
         "y": [
          64994.44140625,
          64926.64453125
         ]
        },
        {
         "line": {
          "color": "gray",
          "width": 1
         },
         "mode": "lines",
         "showlegend": false,
         "type": "scatter",
         "x": [
          "2024-04-21T00:00:00",
          "2024-04-21T00:00:00"
         ],
         "y": [
          64926.64453125,
          66837.6796875
         ]
        },
        {
         "line": {
          "color": "gray",
          "width": 1
         },
         "mode": "lines",
         "showlegend": false,
         "type": "scatter",
         "x": [
          "2024-04-22T00:00:00",
          "2024-04-22T00:00:00"
         ],
         "y": [
          66837.6796875,
          66407.2734375
         ]
        },
        {
         "line": {
          "color": "gray",
          "width": 1
         },
         "mode": "lines",
         "showlegend": false,
         "type": "scatter",
         "x": [
          "2024-04-23T00:00:00",
          "2024-04-23T00:00:00"
         ],
         "y": [
          66407.2734375,
          64276.8984375
         ]
        },
        {
         "line": {
          "color": "gray",
          "width": 1
         },
         "mode": "lines",
         "showlegend": false,
         "type": "scatter",
         "x": [
          "2024-04-24T00:00:00",
          "2024-04-24T00:00:00"
         ],
         "y": [
          64276.8984375,
          64481.70703125
         ]
        },
        {
         "line": {
          "color": "gray",
          "width": 1
         },
         "mode": "lines",
         "showlegend": false,
         "type": "scatter",
         "x": [
          "2024-04-25T00:00:00",
          "2024-04-25T00:00:00"
         ],
         "y": [
          64481.70703125,
          63755.3203125
         ]
        },
        {
         "line": {
          "color": "gray",
          "width": 1
         },
         "mode": "lines",
         "showlegend": false,
         "type": "scatter",
         "x": [
          "2024-04-26T00:00:00",
          "2024-04-26T00:00:00"
         ],
         "y": [
          63755.3203125,
          63419.140625
         ]
        },
        {
         "line": {
          "color": "gray",
          "width": 1
         },
         "mode": "lines",
         "showlegend": false,
         "type": "scatter",
         "x": [
          "2024-04-27T00:00:00",
          "2024-04-27T00:00:00"
         ],
         "y": [
          63419.140625,
          63113.23046875
         ]
        },
        {
         "line": {
          "color": "gray",
          "width": 1
         },
         "mode": "lines",
         "showlegend": false,
         "type": "scatter",
         "x": [
          "2024-04-28T00:00:00",
          "2024-04-28T00:00:00"
         ],
         "y": [
          63113.23046875,
          63841.12109375
         ]
        },
        {
         "line": {
          "color": "gray",
          "width": 1
         },
         "mode": "lines",
         "showlegend": false,
         "type": "scatter",
         "x": [
          "2024-04-29T00:00:00",
          "2024-04-29T00:00:00"
         ],
         "y": [
          63841.12109375,
          60636.85546875
         ]
        },
        {
         "line": {
          "color": "gray",
          "width": 1
         },
         "mode": "lines",
         "showlegend": false,
         "type": "scatter",
         "x": [
          "2024-04-30T00:00:00",
          "2024-04-30T00:00:00"
         ],
         "y": [
          60636.85546875,
          58254.01171875
         ]
        },
        {
         "line": {
          "color": "gray",
          "width": 1
         },
         "mode": "lines",
         "showlegend": false,
         "type": "scatter",
         "x": [
          "2024-05-01T00:00:00",
          "2024-05-01T00:00:00"
         ],
         "y": [
          58254.01171875,
          59123.43359375
         ]
        },
        {
         "line": {
          "color": "gray",
          "width": 1
         },
         "mode": "lines",
         "showlegend": false,
         "type": "scatter",
         "x": [
          "2024-05-02T00:00:00",
          "2024-05-02T00:00:00"
         ],
         "y": [
          59123.43359375,
          62889.8359375
         ]
        },
        {
         "line": {
          "color": "gray",
          "width": 1
         },
         "mode": "lines",
         "showlegend": false,
         "type": "scatter",
         "x": [
          "2024-05-03T00:00:00",
          "2024-05-03T00:00:00"
         ],
         "y": [
          62889.8359375,
          63891.47265625
         ]
        },
        {
         "line": {
          "color": "gray",
          "width": 1
         },
         "mode": "lines",
         "showlegend": false,
         "type": "scatter",
         "x": [
          "2024-05-04T00:00:00",
          "2024-05-04T00:00:00"
         ],
         "y": [
          63891.47265625,
          64031.1328125
         ]
        },
        {
         "line": {
          "color": "gray",
          "width": 1
         },
         "mode": "lines",
         "showlegend": false,
         "type": "scatter",
         "x": [
          "2024-05-05T00:00:00",
          "2024-05-05T00:00:00"
         ],
         "y": [
          64031.1328125,
          63161.94921875
         ]
        },
        {
         "line": {
          "color": "gray",
          "width": 1
         },
         "mode": "lines",
         "showlegend": false,
         "type": "scatter",
         "x": [
          "2024-05-06T00:00:00",
          "2024-05-06T00:00:00"
         ],
         "y": [
          63161.94921875,
          62334.81640625
         ]
        },
        {
         "line": {
          "color": "gray",
          "width": 1
         },
         "mode": "lines",
         "showlegend": false,
         "type": "scatter",
         "x": [
          "2024-05-07T00:00:00",
          "2024-05-07T00:00:00"
         ],
         "y": [
          62334.81640625,
          61187.94140625
         ]
        },
        {
         "line": {
          "color": "gray",
          "width": 1
         },
         "mode": "lines",
         "showlegend": false,
         "type": "scatter",
         "x": [
          "2024-05-08T00:00:00",
          "2024-05-08T00:00:00"
         ],
         "y": [
          61187.94140625,
          63049.9609375
         ]
        },
        {
         "line": {
          "color": "gray",
          "width": 1
         },
         "mode": "lines",
         "showlegend": false,
         "type": "scatter",
         "x": [
          "2024-05-09T00:00:00",
          "2024-05-09T00:00:00"
         ],
         "y": [
          63049.9609375,
          60792.77734375
         ]
        },
        {
         "line": {
          "color": "gray",
          "width": 1
         },
         "mode": "lines",
         "showlegend": false,
         "type": "scatter",
         "x": [
          "2024-05-10T00:00:00",
          "2024-05-10T00:00:00"
         ],
         "y": [
          60792.77734375,
          60793.7109375
         ]
        },
        {
         "line": {
          "color": "gray",
          "width": 1
         },
         "mode": "lines",
         "showlegend": false,
         "type": "scatter",
         "x": [
          "2024-05-11T00:00:00",
          "2024-05-11T00:00:00"
         ],
         "y": [
          60793.7109375,
          61448.39453125
         ]
        },
        {
         "line": {
          "color": "gray",
          "width": 1
         },
         "mode": "lines",
         "showlegend": false,
         "type": "scatter",
         "x": [
          "2024-05-12T00:00:00",
          "2024-05-12T00:00:00"
         ],
         "y": [
          61448.39453125,
          62901.44921875
         ]
        },
        {
         "line": {
          "color": "gray",
          "width": 1
         },
         "mode": "lines",
         "showlegend": false,
         "type": "scatter",
         "x": [
          "2024-05-13T00:00:00",
          "2024-05-13T00:00:00"
         ],
         "y": [
          62901.44921875,
          61552.7890625
         ]
        },
        {
         "line": {
          "color": "gray",
          "width": 1
         },
         "mode": "lines",
         "showlegend": false,
         "type": "scatter",
         "x": [
          "2024-05-14T00:00:00",
          "2024-05-14T00:00:00"
         ],
         "y": [
          61552.7890625,
          66267.4921875
         ]
        },
        {
         "line": {
          "color": "gray",
          "width": 1
         },
         "mode": "lines",
         "showlegend": false,
         "type": "scatter",
         "x": [
          "2024-05-15T00:00:00",
          "2024-05-15T00:00:00"
         ],
         "y": [
          66267.4921875,
          65231.58203125
         ]
        },
        {
         "line": {
          "color": "gray",
          "width": 1
         },
         "mode": "lines",
         "showlegend": false,
         "type": "scatter",
         "x": [
          "2024-05-16T00:00:00",
          "2024-05-16T00:00:00"
         ],
         "y": [
          65231.58203125,
          67051.875
         ]
        },
        {
         "line": {
          "color": "gray",
          "width": 1
         },
         "mode": "lines",
         "showlegend": false,
         "type": "scatter",
         "x": [
          "2024-05-17T00:00:00",
          "2024-05-17T00:00:00"
         ],
         "y": [
          67051.875,
          66940.8046875
         ]
        },
        {
         "line": {
          "color": "gray",
          "width": 1
         },
         "mode": "lines",
         "showlegend": false,
         "type": "scatter",
         "x": [
          "2024-05-18T00:00:00",
          "2024-05-18T00:00:00"
         ],
         "y": [
          66940.8046875,
          66278.3671875
         ]
        },
        {
         "line": {
          "color": "gray",
          "width": 1
         },
         "mode": "lines",
         "showlegend": false,
         "type": "scatter",
         "x": [
          "2024-05-19T00:00:00",
          "2024-05-19T00:00:00"
         ],
         "y": [
          66278.3671875,
          71448.1953125
         ]
        },
        {
         "line": {
          "color": "gray",
          "width": 1
         },
         "mode": "lines",
         "showlegend": false,
         "type": "scatter",
         "x": [
          "2024-05-20T00:00:00",
          "2024-05-20T00:00:00"
         ],
         "y": [
          71448.1953125,
          70136.53125
         ]
        },
        {
         "line": {
          "color": "gray",
          "width": 1
         },
         "mode": "lines",
         "showlegend": false,
         "type": "scatter",
         "x": [
          "2024-05-21T00:00:00",
          "2024-05-21T00:00:00"
         ],
         "y": [
          70136.53125,
          69122.3359375
         ]
        },
        {
         "line": {
          "color": "gray",
          "width": 1
         },
         "mode": "lines",
         "showlegend": false,
         "type": "scatter",
         "x": [
          "2024-05-22T00:00:00",
          "2024-05-22T00:00:00"
         ],
         "y": [
          69122.3359375,
          67929.5625
         ]
        },
        {
         "line": {
          "color": "gray",
          "width": 1
         },
         "mode": "lines",
         "showlegend": false,
         "type": "scatter",
         "x": [
          "2024-05-23T00:00:00",
          "2024-05-23T00:00:00"
         ],
         "y": [
          67929.5625,
          68526.1015625
         ]
        },
        {
         "line": {
          "color": "gray",
          "width": 1
         },
         "mode": "lines",
         "showlegend": false,
         "type": "scatter",
         "x": [
          "2024-05-24T00:00:00",
          "2024-05-24T00:00:00"
         ],
         "y": [
          68526.1015625,
          69265.9453125
         ]
        },
        {
         "line": {
          "color": "gray",
          "width": 1
         },
         "mode": "lines",
         "showlegend": false,
         "type": "scatter",
         "x": [
          "2024-05-25T00:00:00",
          "2024-05-25T00:00:00"
         ],
         "y": [
          69265.9453125,
          68518.09375
         ]
        },
        {
         "line": {
          "color": "gray",
          "width": 1
         },
         "mode": "lines",
         "showlegend": false,
         "type": "scatter",
         "x": [
          "2024-05-26T00:00:00",
          "2024-05-26T00:00:00"
         ],
         "y": [
          68518.09375,
          69394.5546875
         ]
        },
        {
         "line": {
          "color": "gray",
          "width": 1
         },
         "mode": "lines",
         "showlegend": false,
         "type": "scatter",
         "x": [
          "2024-05-27T00:00:00",
          "2024-05-27T00:00:00"
         ],
         "y": [
          69394.5546875,
          68296.21875
         ]
        },
        {
         "line": {
          "color": "gray",
          "width": 1
         },
         "mode": "lines",
         "showlegend": false,
         "type": "scatter",
         "x": [
          "2024-05-28T00:00:00",
          "2024-05-28T00:00:00"
         ],
         "y": [
          68296.21875,
          67578.09375
         ]
        },
        {
         "line": {
          "color": "gray",
          "width": 1
         },
         "mode": "lines",
         "showlegend": false,
         "type": "scatter",
         "x": [
          "2024-05-29T00:00:00",
          "2024-05-29T00:00:00"
         ],
         "y": [
          67578.09375,
          68364.9921875
         ]
        },
        {
         "line": {
          "color": "gray",
          "width": 1
         },
         "mode": "lines",
         "showlegend": false,
         "type": "scatter",
         "x": [
          "2024-05-30T00:00:00",
          "2024-05-30T00:00:00"
         ],
         "y": [
          68364.9921875,
          67491.4140625
         ]
        },
        {
         "line": {
          "color": "gray",
          "width": 1
         },
         "mode": "lines",
         "showlegend": false,
         "type": "scatter",
         "x": [
          "2024-05-31T00:00:00",
          "2024-05-31T00:00:00"
         ],
         "y": [
          67491.4140625,
          67706.9375
         ]
        },
        {
         "line": {
          "color": "gray",
          "width": 1
         },
         "mode": "lines",
         "showlegend": false,
         "type": "scatter",
         "x": [
          "2024-06-01T00:00:00",
          "2024-06-01T00:00:00"
         ],
         "y": [
          67706.9375,
          67751.6015625
         ]
        },
        {
         "line": {
          "color": "gray",
          "width": 1
         },
         "mode": "lines",
         "showlegend": false,
         "type": "scatter",
         "x": [
          "2024-06-02T00:00:00",
          "2024-06-02T00:00:00"
         ],
         "y": [
          67751.6015625,
          68804.78125
         ]
        },
        {
         "line": {
          "color": "gray",
          "width": 1
         },
         "mode": "lines",
         "showlegend": false,
         "type": "scatter",
         "x": [
          "2024-06-03T00:00:00",
          "2024-06-03T00:00:00"
         ],
         "y": [
          68804.78125,
          70567.765625
         ]
        },
        {
         "line": {
          "color": "gray",
          "width": 1
         },
         "mode": "lines",
         "showlegend": false,
         "type": "scatter",
         "x": [
          "2024-06-04T00:00:00",
          "2024-06-04T00:00:00"
         ],
         "y": [
          70567.765625,
          71082.8203125
         ]
        },
        {
         "line": {
          "color": "gray",
          "width": 1
         },
         "mode": "lines",
         "showlegend": false,
         "type": "scatter",
         "x": [
          "2024-06-05T00:00:00",
          "2024-06-05T00:00:00"
         ],
         "y": [
          71082.8203125,
          70757.1640625
         ]
        },
        {
         "line": {
          "color": "gray",
          "width": 1
         },
         "mode": "lines",
         "showlegend": false,
         "type": "scatter",
         "x": [
          "2024-06-06T00:00:00",
          "2024-06-06T00:00:00"
         ],
         "y": [
          70757.1640625,
          69342.5859375
         ]
        },
        {
         "line": {
          "color": "gray",
          "width": 1
         },
         "mode": "lines",
         "showlegend": false,
         "type": "scatter",
         "x": [
          "2024-06-07T00:00:00",
          "2024-06-07T00:00:00"
         ],
         "y": [
          69342.5859375,
          69305.7734375
         ]
        },
        {
         "line": {
          "color": "gray",
          "width": 1
         },
         "mode": "lines",
         "showlegend": false,
         "type": "scatter",
         "x": [
          "2024-06-08T00:00:00",
          "2024-06-08T00:00:00"
         ],
         "y": [
          69305.7734375,
          69647.9921875
         ]
        },
        {
         "line": {
          "color": "gray",
          "width": 1
         },
         "mode": "lines",
         "showlegend": false,
         "type": "scatter",
         "x": [
          "2024-06-09T00:00:00",
          "2024-06-09T00:00:00"
         ],
         "y": [
          69647.9921875,
          69512.28125
         ]
        },
        {
         "line": {
          "color": "gray",
          "width": 1
         },
         "mode": "lines",
         "showlegend": false,
         "type": "scatter",
         "x": [
          "2024-06-10T00:00:00",
          "2024-06-10T00:00:00"
         ],
         "y": [
          69512.28125,
          67332.03125
         ]
        },
        {
         "line": {
          "color": "gray",
          "width": 1
         },
         "mode": "lines",
         "showlegend": false,
         "type": "scatter",
         "x": [
          "2024-06-11T00:00:00",
          "2024-06-11T00:00:00"
         ],
         "y": [
          67332.03125,
          68241.1875
         ]
        },
        {
         "line": {
          "color": "gray",
          "width": 1
         },
         "mode": "lines",
         "showlegend": false,
         "type": "scatter",
         "x": [
          "2024-06-12T00:00:00",
          "2024-06-12T00:00:00"
         ],
         "y": [
          68241.1875,
          66756.3984375
         ]
        },
        {
         "line": {
          "color": "gray",
          "width": 1
         },
         "mode": "lines",
         "showlegend": false,
         "type": "scatter",
         "x": [
          "2024-06-13T00:00:00",
          "2024-06-13T00:00:00"
         ],
         "y": [
          66756.3984375,
          66011.09375
         ]
        },
        {
         "line": {
          "color": "gray",
          "width": 1
         },
         "mode": "lines",
         "showlegend": false,
         "type": "scatter",
         "x": [
          "2024-06-14T00:00:00",
          "2024-06-14T00:00:00"
         ],
         "y": [
          66011.09375,
          66191
         ]
        },
        {
         "line": {
          "color": "gray",
          "width": 1
         },
         "mode": "lines",
         "showlegend": false,
         "type": "scatter",
         "x": [
          "2024-06-15T00:00:00",
          "2024-06-15T00:00:00"
         ],
         "y": [
          66191,
          66639.046875
         ]
        },
        {
         "line": {
          "color": "gray",
          "width": 1
         },
         "mode": "lines",
         "showlegend": false,
         "type": "scatter",
         "x": [
          "2024-06-16T00:00:00",
          "2024-06-16T00:00:00"
         ],
         "y": [
          66639.046875,
          66490.296875
         ]
        },
        {
         "line": {
          "color": "gray",
          "width": 1
         },
         "mode": "lines",
         "showlegend": false,
         "type": "scatter",
         "x": [
          "2024-06-17T00:00:00",
          "2024-06-17T00:00:00"
         ],
         "y": [
          66490.296875,
          65140.74609375
         ]
        },
        {
         "line": {
          "color": "gray",
          "width": 1
         },
         "mode": "lines",
         "showlegend": false,
         "type": "scatter",
         "x": [
          "2024-06-18T00:00:00",
          "2024-06-18T00:00:00"
         ],
         "y": [
          65140.74609375,
          64960.296875
         ]
        },
        {
         "line": {
          "color": "gray",
          "width": 1
         },
         "mode": "lines",
         "showlegend": false,
         "type": "scatter",
         "x": [
          "2024-06-19T00:00:00",
          "2024-06-19T00:00:00"
         ],
         "y": [
          64960.296875,
          64828.65625
         ]
        },
        {
         "line": {
          "color": "gray",
          "width": 1
         },
         "mode": "lines",
         "showlegend": false,
         "type": "scatter",
         "x": [
          "2024-06-20T00:00:00",
          "2024-06-20T00:00:00"
         ],
         "y": [
          64828.65625,
          64096.19921875
         ]
        },
        {
         "line": {
          "color": "gray",
          "width": 1
         },
         "mode": "lines",
         "showlegend": false,
         "type": "scatter",
         "x": [
          "2024-06-21T00:00:00",
          "2024-06-21T00:00:00"
         ],
         "y": [
          64096.19921875,
          64252.578125
         ]
        },
        {
         "line": {
          "color": "gray",
          "width": 1
         },
         "mode": "lines",
         "showlegend": false,
         "type": "scatter",
         "x": [
          "2024-06-22T00:00:00",
          "2024-06-22T00:00:00"
         ],
         "y": [
          64252.578125,
          63180.796875
         ]
        },
        {
         "line": {
          "color": "gray",
          "width": 1
         },
         "mode": "lines",
         "showlegend": false,
         "type": "scatter",
         "x": [
          "2024-06-23T00:00:00",
          "2024-06-23T00:00:00"
         ],
         "y": [
          63180.796875,
          60277.4140625
         ]
        },
        {
         "line": {
          "color": "gray",
          "width": 1
         },
         "mode": "lines",
         "showlegend": false,
         "type": "scatter",
         "x": [
          "2024-06-24T00:00:00",
          "2024-06-24T00:00:00"
         ],
         "y": [
          60277.4140625,
          61804.640625
         ]
        },
        {
         "line": {
          "color": "gray",
          "width": 1
         },
         "mode": "lines",
         "showlegend": false,
         "type": "scatter",
         "x": [
          "2024-06-25T00:00:00",
          "2024-06-25T00:00:00"
         ],
         "y": [
          61804.640625,
          60811.27734375
         ]
        },
        {
         "line": {
          "color": "gray",
          "width": 1
         },
         "mode": "lines",
         "showlegend": false,
         "type": "scatter",
         "x": [
          "2024-06-26T00:00:00",
          "2024-06-26T00:00:00"
         ],
         "y": [
          60811.27734375,
          61604.80078125
         ]
        },
        {
         "line": {
          "color": "gray",
          "width": 1
         },
         "mode": "lines",
         "showlegend": false,
         "type": "scatter",
         "x": [
          "2024-06-27T00:00:00",
          "2024-06-27T00:00:00"
         ],
         "y": [
          61604.80078125,
          60320.13671875
         ]
        },
        {
         "line": {
          "color": "gray",
          "width": 1
         },
         "mode": "lines",
         "showlegend": false,
         "type": "scatter",
         "x": [
          "2024-06-28T00:00:00",
          "2024-06-28T00:00:00"
         ],
         "y": [
          60320.13671875,
          60887.37890625
         ]
        },
        {
         "line": {
          "color": "gray",
          "width": 1
         },
         "mode": "lines",
         "showlegend": false,
         "type": "scatter",
         "x": [
          "2024-06-29T00:00:00",
          "2024-06-29T00:00:00"
         ],
         "y": [
          60887.37890625,
          62678.29296875
         ]
        },
        {
         "line": {
          "color": "gray",
          "width": 1
         },
         "mode": "lines",
         "showlegend": false,
         "type": "scatter",
         "x": [
          "2024-06-30T00:00:00",
          "2024-06-30T00:00:00"
         ],
         "y": [
          62678.29296875,
          62851.98046875
         ]
        },
        {
         "line": {
          "color": "gray",
          "width": 1
         },
         "mode": "lines",
         "showlegend": false,
         "type": "scatter",
         "x": [
          "2024-07-01T00:00:00",
          "2024-07-01T00:00:00"
         ],
         "y": [
          62851.98046875,
          62029.015625
         ]
        },
        {
         "line": {
          "color": "gray",
          "width": 1
         },
         "mode": "lines",
         "showlegend": false,
         "type": "scatter",
         "x": [
          "2024-07-02T00:00:00",
          "2024-07-02T00:00:00"
         ],
         "y": [
          62029.015625,
          60173.921875
         ]
        },
        {
         "line": {
          "color": "gray",
          "width": 1
         },
         "mode": "lines",
         "showlegend": false,
         "type": "scatter",
         "x": [
          "2024-07-03T00:00:00",
          "2024-07-03T00:00:00"
         ],
         "y": [
          60173.921875,
          56977.703125
         ]
        },
        {
         "line": {
          "color": "gray",
          "width": 1
         },
         "mode": "lines",
         "showlegend": false,
         "type": "scatter",
         "x": [
          "2024-07-04T00:00:00",
          "2024-07-04T00:00:00"
         ],
         "y": [
          56977.703125,
          56662.375
         ]
        },
        {
         "line": {
          "color": "gray",
          "width": 1
         },
         "mode": "lines",
         "showlegend": false,
         "type": "scatter",
         "x": [
          "2024-07-05T00:00:00",
          "2024-07-05T00:00:00"
         ],
         "y": [
          56662.375,
          58303.5390625
         ]
        },
        {
         "line": {
          "color": "gray",
          "width": 1
         },
         "mode": "lines",
         "showlegend": false,
         "type": "scatter",
         "x": [
          "2024-07-06T00:00:00",
          "2024-07-06T00:00:00"
         ],
         "y": [
          58303.5390625,
          55849.109375
         ]
        },
        {
         "line": {
          "color": "gray",
          "width": 1
         },
         "mode": "lines",
         "showlegend": false,
         "type": "scatter",
         "x": [
          "2024-07-07T00:00:00",
          "2024-07-07T00:00:00"
         ],
         "y": [
          55849.109375,
          56705.09765625
         ]
        },
        {
         "line": {
          "color": "gray",
          "width": 1
         },
         "mode": "lines",
         "showlegend": false,
         "type": "scatter",
         "x": [
          "2024-07-08T00:00:00",
          "2024-07-08T00:00:00"
         ],
         "y": [
          56705.09765625,
          58009.2265625
         ]
        },
        {
         "line": {
          "color": "gray",
          "width": 1
         },
         "mode": "lines",
         "showlegend": false,
         "type": "scatter",
         "x": [
          "2024-07-09T00:00:00",
          "2024-07-09T00:00:00"
         ],
         "y": [
          58009.2265625,
          57742.49609375
         ]
        },
        {
         "line": {
          "color": "gray",
          "width": 1
         },
         "mode": "lines",
         "showlegend": false,
         "type": "scatter",
         "x": [
          "2024-07-10T00:00:00",
          "2024-07-10T00:00:00"
         ],
         "y": [
          57742.49609375,
          57344.9140625
         ]
        },
        {
         "line": {
          "color": "gray",
          "width": 1
         },
         "mode": "lines",
         "showlegend": false,
         "type": "scatter",
         "x": [
          "2024-07-11T00:00:00",
          "2024-07-11T00:00:00"
         ],
         "y": [
          57344.9140625,
          57899.46484375
         ]
        },
        {
         "line": {
          "color": "gray",
          "width": 1
         },
         "mode": "lines",
         "showlegend": false,
         "type": "scatter",
         "x": [
          "2024-07-12T00:00:00",
          "2024-07-12T00:00:00"
         ],
         "y": [
          57899.46484375,
          59231.953125
         ]
        },
        {
         "line": {
          "color": "gray",
          "width": 1
         },
         "mode": "lines",
         "showlegend": false,
         "type": "scatter",
         "x": [
          "2024-07-13T00:00:00",
          "2024-07-13T00:00:00"
         ],
         "y": [
          59231.953125,
          60787.79296875
         ]
        },
        {
         "line": {
          "color": "gray",
          "width": 1
         },
         "mode": "lines",
         "showlegend": false,
         "type": "scatter",
         "x": [
          "2024-07-14T00:00:00",
          "2024-07-14T00:00:00"
         ],
         "y": [
          60787.79296875,
          64870.15234375
         ]
        },
        {
         "line": {
          "color": "gray",
          "width": 1
         },
         "mode": "lines",
         "showlegend": false,
         "type": "scatter",
         "x": [
          "2024-07-15T00:00:00",
          "2024-07-15T00:00:00"
         ],
         "y": [
          64870.15234375,
          65097.1484375
         ]
        },
        {
         "line": {
          "color": "gray",
          "width": 1
         },
         "mode": "lines",
         "showlegend": false,
         "type": "scatter",
         "x": [
          "2024-07-16T00:00:00",
          "2024-07-16T00:00:00"
         ],
         "y": [
          65097.1484375,
          64118.79296875
         ]
        },
        {
         "line": {
          "color": "gray",
          "width": 1
         },
         "mode": "lines",
         "showlegend": false,
         "type": "scatter",
         "x": [
          "2024-07-17T00:00:00",
          "2024-07-17T00:00:00"
         ],
         "y": [
          64118.79296875,
          63974.06640625
         ]
        },
        {
         "line": {
          "color": "gray",
          "width": 1
         },
         "mode": "lines",
         "showlegend": false,
         "type": "scatter",
         "x": [
          "2024-07-18T00:00:00",
          "2024-07-18T00:00:00"
         ],
         "y": [
          63974.06640625,
          66710.15625
         ]
        },
        {
         "line": {
          "color": "gray",
          "width": 1
         },
         "mode": "lines",
         "showlegend": false,
         "type": "scatter",
         "x": [
          "2024-07-19T00:00:00",
          "2024-07-19T00:00:00"
         ],
         "y": [
          66710.15625,
          67163.6484375
         ]
        },
        {
         "line": {
          "color": "gray",
          "width": 1
         },
         "mode": "lines",
         "showlegend": false,
         "type": "scatter",
         "x": [
          "2024-07-20T00:00:00",
          "2024-07-20T00:00:00"
         ],
         "y": [
          67163.6484375,
          68154.5234375
         ]
        },
        {
         "line": {
          "color": "gray",
          "width": 1
         },
         "mode": "lines",
         "showlegend": false,
         "type": "scatter",
         "x": [
          "2024-07-21T00:00:00",
          "2024-07-21T00:00:00"
         ],
         "y": [
          68154.5234375,
          67585.25
         ]
        },
        {
         "line": {
          "color": "gray",
          "width": 1
         },
         "mode": "lines",
         "showlegend": false,
         "type": "scatter",
         "x": [
          "2024-07-22T00:00:00",
          "2024-07-22T00:00:00"
         ],
         "y": [
          67585.25,
          65927.671875
         ]
        },
        {
         "line": {
          "color": "gray",
          "width": 1
         },
         "mode": "lines",
         "showlegend": false,
         "type": "scatter",
         "x": [
          "2024-07-23T00:00:00",
          "2024-07-23T00:00:00"
         ],
         "y": [
          65927.671875,
          65372.1328125
         ]
        },
        {
         "line": {
          "color": "gray",
          "width": 1
         },
         "mode": "lines",
         "showlegend": false,
         "type": "scatter",
         "x": [
          "2024-07-24T00:00:00",
          "2024-07-24T00:00:00"
         ],
         "y": [
          65372.1328125,
          65777.2265625
         ]
        },
        {
         "line": {
          "color": "gray",
          "width": 1
         },
         "mode": "lines",
         "showlegend": false,
         "type": "scatter",
         "x": [
          "2024-07-25T00:00:00",
          "2024-07-25T00:00:00"
         ],
         "y": [
          65777.2265625,
          67912.0625
         ]
        },
        {
         "line": {
          "color": "gray",
          "width": 1
         },
         "mode": "lines",
         "showlegend": false,
         "type": "scatter",
         "x": [
          "2024-07-26T00:00:00",
          "2024-07-26T00:00:00"
         ],
         "y": [
          67912.0625,
          67813.3359375
         ]
        },
        {
         "line": {
          "color": "gray",
          "width": 1
         },
         "mode": "lines",
         "showlegend": false,
         "type": "scatter",
         "x": [
          "2024-07-27T00:00:00",
          "2024-07-27T00:00:00"
         ],
         "y": [
          67813.3359375,
          68255.8671875
         ]
        },
        {
         "line": {
          "color": "gray",
          "width": 1
         },
         "mode": "lines",
         "showlegend": false,
         "type": "scatter",
         "x": [
          "2024-07-28T00:00:00",
          "2024-07-28T00:00:00"
         ],
         "y": [
          68255.8671875,
          66819.9140625
         ]
        },
        {
         "line": {
          "color": "gray",
          "width": 1
         },
         "mode": "lines",
         "showlegend": false,
         "type": "scatter",
         "x": [
          "2024-07-29T00:00:00",
          "2024-07-29T00:00:00"
         ],
         "y": [
          66819.9140625,
          66201.015625
         ]
        },
        {
         "line": {
          "color": "gray",
          "width": 1
         },
         "mode": "lines",
         "showlegend": false,
         "type": "scatter",
         "x": [
          "2024-07-30T00:00:00",
          "2024-07-30T00:00:00"
         ],
         "y": [
          66201.015625,
          64619.25
         ]
        },
        {
         "line": {
          "color": "gray",
          "width": 1
         },
         "mode": "lines",
         "showlegend": false,
         "type": "scatter",
         "x": [
          "2024-07-31T00:00:00",
          "2024-07-31T00:00:00"
         ],
         "y": [
          64619.25,
          65357.5
         ]
        },
        {
         "line": {
          "color": "gray",
          "width": 1
         },
         "mode": "lines",
         "showlegend": false,
         "type": "scatter",
         "x": [
          "2024-08-01T00:00:00",
          "2024-08-01T00:00:00"
         ],
         "y": [
          65357.5,
          61415.06640625
         ]
        },
        {
         "line": {
          "color": "gray",
          "width": 1
         },
         "mode": "lines",
         "showlegend": false,
         "type": "scatter",
         "x": [
          "2024-08-02T00:00:00",
          "2024-08-02T00:00:00"
         ],
         "y": [
          61415.06640625,
          60680.09375
         ]
        },
        {
         "line": {
          "color": "gray",
          "width": 1
         },
         "mode": "lines",
         "showlegend": false,
         "type": "scatter",
         "x": [
          "2024-08-03T00:00:00",
          "2024-08-03T00:00:00"
         ],
         "y": [
          60680.09375,
          58116.9765625
         ]
        },
        {
         "line": {
          "color": "gray",
          "width": 1
         },
         "mode": "lines",
         "showlegend": false,
         "type": "scatter",
         "x": [
          "2024-08-04T00:00:00",
          "2024-08-04T00:00:00"
         ],
         "y": [
          58116.9765625,
          53991.45703125
         ]
        },
        {
         "line": {
          "color": "gray",
          "width": 1
         },
         "mode": "lines",
         "showlegend": false,
         "type": "scatter",
         "x": [
          "2024-08-05T00:00:00",
          "2024-08-05T00:00:00"
         ],
         "y": [
          53991.45703125,
          56034.31640625
         ]
        },
        {
         "line": {
          "color": "gray",
          "width": 1
         },
         "mode": "lines",
         "showlegend": false,
         "type": "scatter",
         "x": [
          "2024-08-06T00:00:00",
          "2024-08-06T00:00:00"
         ],
         "y": [
          56034.31640625,
          55027.4609375
         ]
        },
        {
         "line": {
          "color": "gray",
          "width": 1
         },
         "mode": "lines",
         "showlegend": false,
         "type": "scatter",
         "x": [
          "2024-08-07T00:00:00",
          "2024-08-07T00:00:00"
         ],
         "y": [
          55027.4609375,
          61710.13671875
         ]
        },
        {
         "line": {
          "color": "gray",
          "width": 1
         },
         "mode": "lines",
         "showlegend": false,
         "type": "scatter",
         "x": [
          "2024-08-08T00:00:00",
          "2024-08-08T00:00:00"
         ],
         "y": [
          61710.13671875,
          60880.11328125
         ]
        },
        {
         "line": {
          "color": "gray",
          "width": 1
         },
         "mode": "lines",
         "showlegend": false,
         "type": "scatter",
         "x": [
          "2024-08-09T00:00:00",
          "2024-08-09T00:00:00"
         ],
         "y": [
          60880.11328125,
          60945.8125
         ]
        },
        {
         "line": {
          "color": "gray",
          "width": 1
         },
         "mode": "lines",
         "showlegend": false,
         "type": "scatter",
         "x": [
          "2024-08-10T00:00:00",
          "2024-08-10T00:00:00"
         ],
         "y": [
          60945.8125,
          58719.484375
         ]
        },
        {
         "line": {
          "color": "gray",
          "width": 1
         },
         "mode": "lines",
         "showlegend": false,
         "type": "scatter",
         "x": [
          "2024-08-11T00:00:00",
          "2024-08-11T00:00:00"
         ],
         "y": [
          58719.484375,
          59354.515625
         ]
        },
        {
         "line": {
          "color": "gray",
          "width": 1
         },
         "mode": "lines",
         "showlegend": false,
         "type": "scatter",
         "x": [
          "2024-08-12T00:00:00",
          "2024-08-12T00:00:00"
         ],
         "y": [
          59354.515625,
          60609.56640625
         ]
        },
        {
         "line": {
          "color": "gray",
          "width": 1
         },
         "mode": "lines",
         "showlegend": false,
         "type": "scatter",
         "x": [
          "2024-08-13T00:00:00",
          "2024-08-13T00:00:00"
         ],
         "y": [
          60609.56640625,
          58737.26953125
         ]
        },
        {
         "line": {
          "color": "gray",
          "width": 1
         },
         "mode": "lines",
         "showlegend": false,
         "type": "scatter",
         "x": [
          "2024-08-14T00:00:00",
          "2024-08-14T00:00:00"
         ],
         "y": [
          58737.26953125,
          57560.09765625
         ]
        },
        {
         "line": {
          "color": "gray",
          "width": 1
         },
         "mode": "lines",
         "showlegend": false,
         "type": "scatter",
         "x": [
          "2024-08-15T00:00:00",
          "2024-08-15T00:00:00"
         ],
         "y": [
          57560.09765625,
          58894.10546875
         ]
        },
        {
         "line": {
          "color": "gray",
          "width": 1
         },
         "mode": "lines",
         "showlegend": false,
         "type": "scatter",
         "x": [
          "2024-08-16T00:00:00",
          "2024-08-16T00:00:00"
         ],
         "y": [
          58894.10546875,
          59478.97265625
         ]
        },
        {
         "line": {
          "color": "gray",
          "width": 1
         },
         "mode": "lines",
         "showlegend": false,
         "type": "scatter",
         "x": [
          "2024-08-17T00:00:00",
          "2024-08-17T00:00:00"
         ],
         "y": [
          59478.97265625,
          58483.96484375
         ]
        },
        {
         "line": {
          "color": "gray",
          "width": 1
         },
         "mode": "lines",
         "showlegend": false,
         "type": "scatter",
         "x": [
          "2024-08-18T00:00:00",
          "2024-08-18T00:00:00"
         ],
         "y": [
          58483.96484375,
          59493.453125
         ]
        },
        {
         "line": {
          "color": "gray",
          "width": 1
         },
         "mode": "lines",
         "showlegend": false,
         "type": "scatter",
         "x": [
          "2024-08-19T00:00:00",
          "2024-08-19T00:00:00"
         ],
         "y": [
          59493.453125,
          59012.79296875
         ]
        },
        {
         "line": {
          "color": "gray",
          "width": 1
         },
         "mode": "lines",
         "showlegend": false,
         "type": "scatter",
         "x": [
          "2024-08-20T00:00:00",
          "2024-08-20T00:00:00"
         ],
         "y": [
          59012.79296875,
          61175.19140625
         ]
        },
        {
         "line": {
          "color": "gray",
          "width": 1
         },
         "mode": "lines",
         "showlegend": false,
         "type": "scatter",
         "x": [
          "2024-08-21T00:00:00",
          "2024-08-21T00:00:00"
         ],
         "y": [
          61175.19140625,
          60381.9140625
         ]
        },
        {
         "line": {
          "color": "gray",
          "width": 1
         },
         "mode": "lines",
         "showlegend": false,
         "type": "scatter",
         "x": [
          "2024-08-22T00:00:00",
          "2024-08-22T00:00:00"
         ],
         "y": [
          60381.9140625,
          64094.35546875
         ]
        },
        {
         "line": {
          "color": "gray",
          "width": 1
         },
         "mode": "lines",
         "showlegend": false,
         "type": "scatter",
         "x": [
          "2024-08-23T00:00:00",
          "2024-08-23T00:00:00"
         ],
         "y": [
          64094.35546875,
          64178.9921875
         ]
        },
        {
         "line": {
          "color": "gray",
          "width": 1
         },
         "mode": "lines",
         "showlegend": false,
         "type": "scatter",
         "x": [
          "2024-08-24T00:00:00",
          "2024-08-24T00:00:00"
         ],
         "y": [
          64178.9921875,
          64333.54296875
         ]
        },
        {
         "line": {
          "color": "gray",
          "width": 1
         },
         "mode": "lines",
         "showlegend": false,
         "type": "scatter",
         "x": [
          "2024-08-25T00:00:00",
          "2024-08-25T00:00:00"
         ],
         "y": [
          64333.54296875,
          62880.66015625
         ]
        },
        {
         "line": {
          "color": "gray",
          "width": 1
         },
         "mode": "lines",
         "showlegend": false,
         "type": "scatter",
         "x": [
          "2024-08-26T00:00:00",
          "2024-08-26T00:00:00"
         ],
         "y": [
          62880.66015625,
          59504.1328125
         ]
        },
        {
         "line": {
          "color": "gray",
          "width": 1
         },
         "mode": "lines",
         "showlegend": false,
         "type": "scatter",
         "x": [
          "2024-08-27T00:00:00",
          "2024-08-27T00:00:00"
         ],
         "y": [
          59504.1328125,
          59027.625
         ]
        },
        {
         "line": {
          "color": "gray",
          "width": 1
         },
         "mode": "lines",
         "showlegend": false,
         "type": "scatter",
         "x": [
          "2024-08-28T00:00:00",
          "2024-08-28T00:00:00"
         ],
         "y": [
          59027.625,
          59388.1796875
         ]
        },
        {
         "line": {
          "color": "gray",
          "width": 1
         },
         "mode": "lines",
         "showlegend": false,
         "type": "scatter",
         "x": [
          "2024-08-29T00:00:00",
          "2024-08-29T00:00:00"
         ],
         "y": [
          59388.1796875,
          59119.4765625
         ]
        },
        {
         "line": {
          "color": "gray",
          "width": 1
         },
         "mode": "lines",
         "showlegend": false,
         "type": "scatter",
         "x": [
          "2024-08-30T00:00:00",
          "2024-08-30T00:00:00"
         ],
         "y": [
          59119.4765625,
          58969.8984375
         ]
        },
        {
         "line": {
          "color": "gray",
          "width": 1
         },
         "mode": "lines",
         "showlegend": false,
         "type": "scatter",
         "x": [
          "2024-08-31T00:00:00",
          "2024-08-31T00:00:00"
         ],
         "y": [
          58969.8984375,
          57325.48828125
         ]
        },
        {
         "line": {
          "color": "gray",
          "width": 1
         },
         "mode": "lines",
         "showlegend": false,
         "type": "scatter",
         "x": [
          "2024-09-01T00:00:00",
          "2024-09-01T00:00:00"
         ],
         "y": [
          57325.48828125,
          59112.48046875
         ]
        },
        {
         "line": {
          "color": "gray",
          "width": 1
         },
         "mode": "lines",
         "showlegend": false,
         "type": "scatter",
         "x": [
          "2024-09-02T00:00:00",
          "2024-09-02T00:00:00"
         ],
         "y": [
          59112.48046875,
          57431.0234375
         ]
        },
        {
         "line": {
          "color": "gray",
          "width": 1
         },
         "mode": "lines",
         "showlegend": false,
         "type": "scatter",
         "x": [
          "2024-09-03T00:00:00",
          "2024-09-03T00:00:00"
         ],
         "y": [
          57431.0234375,
          57971.5390625
         ]
        },
        {
         "line": {
          "color": "gray",
          "width": 1
         },
         "mode": "lines",
         "showlegend": false,
         "type": "scatter",
         "x": [
          "2024-09-04T00:00:00",
          "2024-09-04T00:00:00"
         ],
         "y": [
          57971.5390625,
          56160.48828125
         ]
        },
        {
         "line": {
          "color": "gray",
          "width": 1
         },
         "mode": "lines",
         "showlegend": false,
         "type": "scatter",
         "x": [
          "2024-09-05T00:00:00",
          "2024-09-05T00:00:00"
         ],
         "y": [
          56160.48828125,
          53948.75390625
         ]
        },
        {
         "line": {
          "color": "gray",
          "width": 1
         },
         "mode": "lines",
         "showlegend": false,
         "type": "scatter",
         "x": [
          "2024-09-06T00:00:00",
          "2024-09-06T00:00:00"
         ],
         "y": [
          53948.75390625,
          54139.6875
         ]
        },
        {
         "line": {
          "color": "gray",
          "width": 1
         },
         "mode": "lines",
         "showlegend": false,
         "type": "scatter",
         "x": [
          "2024-09-07T00:00:00",
          "2024-09-07T00:00:00"
         ],
         "y": [
          54139.6875,
          54841.56640625
         ]
        },
        {
         "line": {
          "color": "gray",
          "width": 1
         },
         "mode": "lines",
         "showlegend": false,
         "type": "scatter",
         "x": [
          "2024-09-08T00:00:00",
          "2024-09-08T00:00:00"
         ],
         "y": [
          54841.56640625,
          57019.53515625
         ]
        },
        {
         "line": {
          "color": "gray",
          "width": 1
         },
         "mode": "lines",
         "showlegend": false,
         "type": "scatter",
         "x": [
          "2024-09-09T00:00:00",
          "2024-09-09T00:00:00"
         ],
         "y": [
          57019.53515625,
          57648.7109375
         ]
        },
        {
         "line": {
          "color": "gray",
          "width": 1
         },
         "mode": "lines",
         "showlegend": false,
         "type": "scatter",
         "x": [
          "2024-09-10T00:00:00",
          "2024-09-10T00:00:00"
         ],
         "y": [
          57648.7109375,
          57343.171875
         ]
        },
        {
         "line": {
          "color": "gray",
          "width": 1
         },
         "mode": "lines",
         "showlegend": false,
         "type": "scatter",
         "x": [
          "2024-09-11T00:00:00",
          "2024-09-11T00:00:00"
         ],
         "y": [
          57343.171875,
          58127.01171875
         ]
        },
        {
         "line": {
          "color": "gray",
          "width": 1
         },
         "mode": "lines",
         "showlegend": false,
         "type": "scatter",
         "x": [
          "2024-09-12T00:00:00",
          "2024-09-12T00:00:00"
         ],
         "y": [
          58127.01171875,
          60571.30078125
         ]
        },
        {
         "line": {
          "color": "gray",
          "width": 1
         },
         "mode": "lines",
         "showlegend": false,
         "type": "scatter",
         "x": [
          "2024-09-13T00:00:00",
          "2024-09-13T00:00:00"
         ],
         "y": [
          60571.30078125,
          60005.12109375
         ]
        },
        {
         "line": {
          "color": "gray",
          "width": 1
         },
         "mode": "lines",
         "showlegend": false,
         "type": "scatter",
         "x": [
          "2024-09-14T00:00:00",
          "2024-09-14T00:00:00"
         ],
         "y": [
          60005.12109375,
          59182.8359375
         ]
        },
        {
         "line": {
          "color": "gray",
          "width": 1
         },
         "mode": "lines",
         "showlegend": false,
         "type": "scatter",
         "x": [
          "2024-09-15T00:00:00",
          "2024-09-15T00:00:00"
         ],
         "y": [
          59182.8359375,
          58192.5078125
         ]
        },
        {
         "line": {
          "color": "gray",
          "width": 1
         },
         "mode": "lines",
         "showlegend": false,
         "type": "scatter",
         "x": [
          "2024-09-16T00:00:00",
          "2024-09-16T00:00:00"
         ],
         "y": [
          58192.5078125,
          60308.5390625
         ]
        },
        {
         "line": {
          "color": "gray",
          "width": 1
         },
         "mode": "lines",
         "showlegend": false,
         "type": "scatter",
         "x": [
          "2024-09-17T00:00:00",
          "2024-09-17T00:00:00"
         ],
         "y": [
          60308.5390625,
          61649.6796875
         ]
        },
        {
         "line": {
          "color": "gray",
          "width": 1
         },
         "mode": "lines",
         "showlegend": false,
         "type": "scatter",
         "x": [
          "2024-09-18T00:00:00",
          "2024-09-18T00:00:00"
         ],
         "y": [
          61649.6796875,
          62940.45703125
         ]
        },
        {
         "line": {
          "color": "gray",
          "width": 1
         },
         "mode": "lines",
         "showlegend": false,
         "type": "scatter",
         "x": [
          "2024-09-19T00:00:00",
          "2024-09-19T00:00:00"
         ],
         "y": [
          62940.45703125,
          63192.9765625
         ]
        },
        {
         "line": {
          "color": "gray",
          "width": 1
         },
         "mode": "lines",
         "showlegend": false,
         "type": "scatter",
         "x": [
          "2024-09-20T00:00:00",
          "2024-09-20T00:00:00"
         ],
         "y": [
          63192.9765625,
          63394.83984375
         ]
        },
        {
         "line": {
          "color": "gray",
          "width": 1
         },
         "mode": "lines",
         "showlegend": false,
         "type": "scatter",
         "x": [
          "2024-09-21T00:00:00",
          "2024-09-21T00:00:00"
         ],
         "y": [
          63394.83984375,
          63648.7109375
         ]
        },
        {
         "line": {
          "color": "gray",
          "width": 1
         },
         "mode": "lines",
         "showlegend": false,
         "type": "scatter",
         "x": [
          "2024-09-22T00:00:00",
          "2024-09-22T00:00:00"
         ],
         "y": [
          63648.7109375,
          63329.80078125
         ]
        },
        {
         "line": {
          "color": "gray",
          "width": 1
         },
         "mode": "lines",
         "showlegend": false,
         "type": "scatter",
         "x": [
          "2024-09-23T00:00:00",
          "2024-09-23T00:00:00"
         ],
         "y": [
          63329.80078125,
          64301.96875
         ]
        },
        {
         "line": {
          "color": "gray",
          "width": 1
         },
         "mode": "lines",
         "showlegend": false,
         "type": "scatter",
         "x": [
          "2024-09-24T00:00:00",
          "2024-09-24T00:00:00"
         ],
         "y": [
          64301.96875,
          63143.14453125
         ]
        },
        {
         "line": {
          "color": "gray",
          "width": 1
         },
         "mode": "lines",
         "showlegend": false,
         "type": "scatter",
         "x": [
          "2024-09-25T00:00:00",
          "2024-09-25T00:00:00"
         ],
         "y": [
          63143.14453125,
          65181.01953125
         ]
        },
        {
         "line": {
          "color": "gray",
          "width": 1
         },
         "mode": "lines",
         "showlegend": false,
         "type": "scatter",
         "x": [
          "2024-09-26T00:00:00",
          "2024-09-26T00:00:00"
         ],
         "y": [
          65181.01953125,
          65790.6640625
         ]
        },
        {
         "line": {
          "color": "gray",
          "width": 1
         },
         "mode": "lines",
         "showlegend": false,
         "type": "scatter",
         "x": [
          "2024-09-27T00:00:00",
          "2024-09-27T00:00:00"
         ],
         "y": [
          65790.6640625,
          65887.6484375
         ]
        },
        {
         "line": {
          "color": "gray",
          "width": 1
         },
         "mode": "lines",
         "showlegend": false,
         "type": "scatter",
         "x": [
          "2024-09-28T00:00:00",
          "2024-09-28T00:00:00"
         ],
         "y": [
          65887.6484375,
          65635.3046875
         ]
        },
        {
         "line": {
          "color": "gray",
          "width": 1
         },
         "mode": "lines",
         "showlegend": false,
         "type": "scatter",
         "x": [
          "2024-09-29T00:00:00",
          "2024-09-29T00:00:00"
         ],
         "y": [
          65635.3046875,
          63329.5
         ]
        },
        {
         "line": {
          "color": "gray",
          "width": 1
         },
         "mode": "lines",
         "showlegend": false,
         "type": "scatter",
         "x": [
          "2024-09-30T00:00:00",
          "2024-09-30T00:00:00"
         ],
         "y": [
          63329.5,
          60837.0078125
         ]
        },
        {
         "line": {
          "color": "gray",
          "width": 1
         },
         "mode": "lines",
         "showlegend": false,
         "type": "scatter",
         "x": [
          "2024-10-01T00:00:00",
          "2024-10-01T00:00:00"
         ],
         "y": [
          60837.0078125,
          60632.78515625
         ]
        },
        {
         "line": {
          "color": "gray",
          "width": 1
         },
         "mode": "lines",
         "showlegend": false,
         "type": "scatter",
         "x": [
          "2024-10-02T00:00:00",
          "2024-10-02T00:00:00"
         ],
         "y": [
          60632.78515625,
          60759.40234375
         ]
        },
        {
         "line": {
          "color": "gray",
          "width": 1
         },
         "mode": "lines",
         "showlegend": false,
         "type": "scatter",
         "x": [
          "2024-10-03T00:00:00",
          "2024-10-03T00:00:00"
         ],
         "y": [
          60759.40234375,
          62067.4765625
         ]
        },
        {
         "line": {
          "color": "gray",
          "width": 1
         },
         "mode": "lines",
         "showlegend": false,
         "type": "scatter",
         "x": [
          "2024-10-04T00:00:00",
          "2024-10-04T00:00:00"
         ],
         "y": [
          62067.4765625,
          62089.94921875
         ]
        },
        {
         "line": {
          "color": "gray",
          "width": 1
         },
         "mode": "lines",
         "showlegend": false,
         "type": "scatter",
         "x": [
          "2024-10-05T00:00:00",
          "2024-10-05T00:00:00"
         ],
         "y": [
          62089.94921875,
          62818.953125
         ]
        },
        {
         "line": {
          "color": "gray",
          "width": 1
         },
         "mode": "lines",
         "showlegend": false,
         "type": "scatter",
         "x": [
          "2024-10-06T00:00:00",
          "2024-10-06T00:00:00"
         ],
         "y": [
          62818.953125,
          62236.66015625
         ]
        },
        {
         "line": {
          "color": "gray",
          "width": 1
         },
         "mode": "lines",
         "showlegend": false,
         "type": "scatter",
         "x": [
          "2024-10-07T00:00:00",
          "2024-10-07T00:00:00"
         ],
         "y": [
          62236.66015625,
          62131.96875
         ]
        },
        {
         "line": {
          "color": "gray",
          "width": 1
         },
         "mode": "lines",
         "showlegend": false,
         "type": "scatter",
         "x": [
          "2024-10-08T00:00:00",
          "2024-10-08T00:00:00"
         ],
         "y": [
          62131.96875,
          60582.1015625
         ]
        },
        {
         "line": {
          "color": "gray",
          "width": 1
         },
         "mode": "lines",
         "showlegend": false,
         "type": "scatter",
         "x": [
          "2024-10-09T00:00:00",
          "2024-10-09T00:00:00"
         ],
         "y": [
          60582.1015625,
          60274.5
         ]
        },
        {
         "line": {
          "color": "gray",
          "width": 1
         },
         "mode": "lines",
         "showlegend": false,
         "type": "scatter",
         "x": [
          "2024-10-10T00:00:00",
          "2024-10-10T00:00:00"
         ],
         "y": [
          60274.5,
          62445.08984375
         ]
        },
        {
         "line": {
          "color": "gray",
          "width": 1
         },
         "mode": "lines",
         "showlegend": false,
         "type": "scatter",
         "x": [
          "2024-10-11T00:00:00",
          "2024-10-11T00:00:00"
         ],
         "y": [
          62445.08984375,
          63193.0234375
         ]
        },
        {
         "line": {
          "color": "gray",
          "width": 1
         },
         "mode": "lines",
         "showlegend": false,
         "type": "scatter",
         "x": [
          "2024-10-12T00:00:00",
          "2024-10-12T00:00:00"
         ],
         "y": [
          63193.0234375,
          62851.375
         ]
        },
        {
         "line": {
          "color": "gray",
          "width": 1
         },
         "mode": "lines",
         "showlegend": false,
         "type": "scatter",
         "x": [
          "2024-10-13T00:00:00",
          "2024-10-13T00:00:00"
         ],
         "y": [
          62851.375,
          66046.125
         ]
        },
        {
         "line": {
          "color": "gray",
          "width": 1
         },
         "mode": "lines",
         "showlegend": false,
         "type": "scatter",
         "x": [
          "2024-10-14T00:00:00",
          "2024-10-14T00:00:00"
         ],
         "y": [
          66046.125,
          67041.109375
         ]
        },
        {
         "line": {
          "color": "gray",
          "width": 1
         },
         "mode": "lines",
         "showlegend": false,
         "type": "scatter",
         "x": [
          "2024-10-15T00:00:00",
          "2024-10-15T00:00:00"
         ],
         "y": [
          67041.109375,
          67612.71875
         ]
        },
        {
         "line": {
          "color": "gray",
          "width": 1
         },
         "mode": "lines",
         "showlegend": false,
         "type": "scatter",
         "x": [
          "2024-10-16T00:00:00",
          "2024-10-16T00:00:00"
         ],
         "y": [
          67612.71875,
          67399.8359375
         ]
        },
        {
         "line": {
          "color": "gray",
          "width": 1
         },
         "mode": "lines",
         "showlegend": false,
         "type": "scatter",
         "x": [
          "2024-10-17T00:00:00",
          "2024-10-17T00:00:00"
         ],
         "y": [
          67399.8359375,
          68418.7890625
         ]
        },
        {
         "line": {
          "color": "gray",
          "width": 1
         },
         "mode": "lines",
         "showlegend": false,
         "type": "scatter",
         "x": [
          "2024-10-18T00:00:00",
          "2024-10-18T00:00:00"
         ],
         "y": [
          68418.7890625,
          68362.734375
         ]
        },
        {
         "line": {
          "color": "gray",
          "width": 1
         },
         "mode": "lines",
         "showlegend": false,
         "type": "scatter",
         "x": [
          "2024-10-19T00:00:00",
          "2024-10-19T00:00:00"
         ],
         "y": [
          68362.734375,
          69001.703125
         ]
        },
        {
         "line": {
          "color": "gray",
          "width": 1
         },
         "mode": "lines",
         "showlegend": false,
         "type": "scatter",
         "x": [
          "2024-10-20T00:00:00",
          "2024-10-20T00:00:00"
         ],
         "y": [
          69001.703125,
          67367.8515625
         ]
        },
        {
         "line": {
          "color": "gray",
          "width": 1
         },
         "mode": "lines",
         "showlegend": false,
         "type": "scatter",
         "x": [
          "2024-10-21T00:00:00",
          "2024-10-21T00:00:00"
         ],
         "y": [
          67367.8515625,
          67361.40625
         ]
        },
        {
         "line": {
          "color": "gray",
          "width": 1
         },
         "mode": "lines",
         "showlegend": false,
         "type": "scatter",
         "x": [
          "2024-10-22T00:00:00",
          "2024-10-22T00:00:00"
         ],
         "y": [
          67361.40625,
          66432.1953125
         ]
        },
        {
         "line": {
          "color": "gray",
          "width": 1
         },
         "mode": "lines",
         "showlegend": false,
         "type": "scatter",
         "x": [
          "2024-10-23T00:00:00",
          "2024-10-23T00:00:00"
         ],
         "y": [
          66432.1953125,
          68161.0546875
         ]
        },
        {
         "line": {
          "color": "gray",
          "width": 1
         },
         "mode": "lines",
         "showlegend": false,
         "type": "scatter",
         "x": [
          "2024-10-24T00:00:00",
          "2024-10-24T00:00:00"
         ],
         "y": [
          68161.0546875,
          66642.4140625
         ]
        },
        {
         "line": {
          "color": "gray",
          "width": 1
         },
         "mode": "lines",
         "showlegend": false,
         "type": "scatter",
         "x": [
          "2024-10-25T00:00:00",
          "2024-10-25T00:00:00"
         ],
         "y": [
          66642.4140625,
          67014.6953125
         ]
        },
        {
         "line": {
          "color": "gray",
          "width": 1
         },
         "mode": "lines",
         "showlegend": false,
         "type": "scatter",
         "x": [
          "2024-10-26T00:00:00",
          "2024-10-26T00:00:00"
         ],
         "y": [
          67014.6953125,
          67929.296875
         ]
        },
        {
         "line": {
          "color": "gray",
          "width": 1
         },
         "mode": "lines",
         "showlegend": false,
         "type": "scatter",
         "x": [
          "2024-10-27T00:00:00",
          "2024-10-27T00:00:00"
         ],
         "y": [
          67929.296875,
          69907.7578125
         ]
        },
        {
         "line": {
          "color": "gray",
          "width": 1
         },
         "mode": "lines",
         "showlegend": false,
         "type": "scatter",
         "x": [
          "2024-10-28T00:00:00",
          "2024-10-28T00:00:00"
         ],
         "y": [
          69907.7578125,
          72720.4921875
         ]
        },
        {
         "line": {
          "color": "gray",
          "width": 1
         },
         "mode": "lines",
         "showlegend": false,
         "type": "scatter",
         "x": [
          "2024-10-29T00:00:00",
          "2024-10-29T00:00:00"
         ],
         "y": [
          72720.4921875,
          72339.5390625
         ]
        },
        {
         "line": {
          "color": "gray",
          "width": 1
         },
         "mode": "lines",
         "showlegend": false,
         "type": "scatter",
         "x": [
          "2024-10-30T00:00:00",
          "2024-10-30T00:00:00"
         ],
         "y": [
          72339.5390625,
          70215.1875
         ]
        },
        {
         "line": {
          "color": "gray",
          "width": 1
         },
         "mode": "lines",
         "showlegend": false,
         "type": "scatter",
         "x": [
          "2024-10-31T00:00:00",
          "2024-10-31T00:00:00"
         ],
         "y": [
          70215.1875,
          69482.46875
         ]
        },
        {
         "line": {
          "color": "gray",
          "width": 1
         },
         "mode": "lines",
         "showlegend": false,
         "type": "scatter",
         "x": [
          "2024-11-01T00:00:00",
          "2024-11-01T00:00:00"
         ],
         "y": [
          69482.46875,
          69289.2734375
         ]
        },
        {
         "line": {
          "color": "gray",
          "width": 1
         },
         "mode": "lines",
         "showlegend": false,
         "type": "scatter",
         "x": [
          "2024-11-02T00:00:00",
          "2024-11-02T00:00:00"
         ],
         "y": [
          69289.2734375,
          68741.1171875
         ]
        },
        {
         "line": {
          "color": "gray",
          "width": 1
         },
         "mode": "lines",
         "showlegend": false,
         "type": "scatter",
         "x": [
          "2024-11-03T00:00:00",
          "2024-11-03T00:00:00"
         ],
         "y": [
          68741.1171875,
          67811.5078125
         ]
        },
        {
         "line": {
          "color": "gray",
          "width": 1
         },
         "mode": "lines",
         "showlegend": false,
         "type": "scatter",
         "x": [
          "2024-11-04T00:00:00",
          "2024-11-04T00:00:00"
         ],
         "y": [
          67811.5078125,
          69359.5625
         ]
        },
        {
         "line": {
          "color": "gray",
          "width": 1
         },
         "mode": "lines",
         "showlegend": false,
         "type": "scatter",
         "x": [
          "2024-11-05T00:00:00",
          "2024-11-05T00:00:00"
         ],
         "y": [
          69359.5625,
          75639.078125
         ]
        },
        {
         "line": {
          "color": "gray",
          "width": 1
         },
         "mode": "lines",
         "showlegend": false,
         "type": "scatter",
         "x": [
          "2024-11-06T00:00:00",
          "2024-11-06T00:00:00"
         ],
         "y": [
          75639.078125,
          75904.859375
         ]
        },
        {
         "line": {
          "color": "gray",
          "width": 1
         },
         "mode": "lines",
         "showlegend": false,
         "type": "scatter",
         "x": [
          "2024-11-07T00:00:00",
          "2024-11-07T00:00:00"
         ],
         "y": [
          75904.859375,
          76545.4765625
         ]
        },
        {
         "line": {
          "color": "gray",
          "width": 1
         },
         "mode": "lines",
         "showlegend": false,
         "type": "scatter",
         "x": [
          "2024-11-08T00:00:00",
          "2024-11-08T00:00:00"
         ],
         "y": [
          76545.4765625,
          76778.8671875
         ]
        },
        {
         "line": {
          "color": "gray",
          "width": 1
         },
         "mode": "lines",
         "showlegend": false,
         "type": "scatter",
         "x": [
          "2024-11-09T00:00:00",
          "2024-11-09T00:00:00"
         ],
         "y": [
          76778.8671875,
          80474.1875
         ]
        },
        {
         "line": {
          "color": "gray",
          "width": 1
         },
         "mode": "lines",
         "showlegend": false,
         "type": "scatter",
         "x": [
          "2024-11-10T00:00:00",
          "2024-11-10T00:00:00"
         ],
         "y": [
          80474.1875,
          88701.484375
         ]
        },
        {
         "line": {
          "color": "gray",
          "width": 1
         },
         "mode": "lines",
         "showlegend": false,
         "type": "scatter",
         "x": [
          "2024-11-11T00:00:00",
          "2024-11-11T00:00:00"
         ],
         "y": [
          88701.484375,
          87955.8125
         ]
        },
        {
         "line": {
          "color": "gray",
          "width": 1
         },
         "mode": "lines",
         "showlegend": false,
         "type": "scatter",
         "x": [
          "2024-11-12T00:00:00",
          "2024-11-12T00:00:00"
         ],
         "y": [
          87955.8125,
          90584.1640625
         ]
        },
        {
         "line": {
          "color": "gray",
          "width": 1
         },
         "mode": "lines",
         "showlegend": false,
         "type": "scatter",
         "x": [
          "2024-11-13T00:00:00",
          "2024-11-13T00:00:00"
         ],
         "y": [
          90584.1640625,
          87250.4296875
         ]
        },
        {
         "line": {
          "color": "gray",
          "width": 1
         },
         "mode": "lines",
         "showlegend": false,
         "type": "scatter",
         "x": [
          "2024-11-14T00:00:00",
          "2024-11-14T00:00:00"
         ],
         "y": [
          87250.4296875,
          91066.0078125
         ]
        },
        {
         "line": {
          "color": "gray",
          "width": 1
         },
         "mode": "lines",
         "showlegend": false,
         "type": "scatter",
         "x": [
          "2024-11-15T00:00:00",
          "2024-11-15T00:00:00"
         ],
         "y": [
          91066.0078125,
          90558.4765625
         ]
        },
        {
         "line": {
          "color": "gray",
          "width": 1
         },
         "mode": "lines",
         "showlegend": false,
         "type": "scatter",
         "x": [
          "2024-11-16T00:00:00",
          "2024-11-16T00:00:00"
         ],
         "y": [
          90558.4765625,
          89845.8515625
         ]
        },
        {
         "line": {
          "color": "gray",
          "width": 1
         },
         "mode": "lines",
         "showlegend": false,
         "type": "scatter",
         "x": [
          "2024-11-17T00:00:00",
          "2024-11-17T00:00:00"
         ],
         "y": [
          89845.8515625,
          90542.640625
         ]
        },
        {
         "line": {
          "color": "gray",
          "width": 1
         },
         "mode": "lines",
         "showlegend": false,
         "type": "scatter",
         "x": [
          "2024-11-18T00:00:00",
          "2024-11-18T00:00:00"
         ],
         "y": [
          90542.640625,
          92343.7890625
         ]
        },
        {
         "line": {
          "color": "gray",
          "width": 1
         },
         "mode": "lines",
         "showlegend": false,
         "type": "scatter",
         "x": [
          "2024-11-19T00:00:00",
          "2024-11-19T00:00:00"
         ],
         "y": [
          92343.7890625,
          94339.4921875
         ]
        },
        {
         "line": {
          "color": "gray",
          "width": 1
         },
         "mode": "lines",
         "showlegend": false,
         "type": "scatter",
         "x": [
          "2024-11-20T00:00:00",
          "2024-11-20T00:00:00"
         ],
         "y": [
          94339.4921875,
          98504.7265625
         ]
        },
        {
         "line": {
          "color": "gray",
          "width": 1
         },
         "mode": "lines",
         "showlegend": false,
         "type": "scatter",
         "x": [
          "2024-11-21T00:00:00",
          "2024-11-21T00:00:00"
         ],
         "y": [
          98504.7265625,
          98997.6640625
         ]
        },
        {
         "line": {
          "color": "gray",
          "width": 1
         },
         "mode": "lines",
         "showlegend": false,
         "type": "scatter",
         "x": [
          "2024-11-22T00:00:00",
          "2024-11-22T00:00:00"
         ],
         "y": [
          98997.6640625,
          97777.28125
         ]
        },
        {
         "line": {
          "color": "gray",
          "width": 1
         },
         "mode": "lines",
         "showlegend": false,
         "type": "scatter",
         "x": [
          "2024-11-23T00:00:00",
          "2024-11-23T00:00:00"
         ],
         "y": [
          97777.28125,
          98013.8203125
         ]
        },
        {
         "line": {
          "color": "gray",
          "width": 1
         },
         "mode": "lines",
         "showlegend": false,
         "type": "scatter",
         "x": [
          "2024-11-24T00:00:00",
          "2024-11-24T00:00:00"
         ],
         "y": [
          98013.8203125,
          93102.296875
         ]
        },
        {
         "line": {
          "color": "gray",
          "width": 1
         },
         "mode": "lines",
         "showlegend": false,
         "type": "scatter",
         "x": [
          "2024-11-25T00:00:00",
          "2024-11-25T00:00:00"
         ],
         "y": [
          93102.296875,
          91985.3203125
         ]
        },
        {
         "line": {
          "color": "gray",
          "width": 1
         },
         "mode": "lines",
         "showlegend": false,
         "type": "scatter",
         "x": [
          "2024-11-26T00:00:00",
          "2024-11-26T00:00:00"
         ],
         "y": [
          91985.3203125,
          95962.53125
         ]
        },
        {
         "line": {
          "color": "gray",
          "width": 1
         },
         "mode": "lines",
         "showlegend": false,
         "type": "scatter",
         "x": [
          "2024-11-27T00:00:00",
          "2024-11-27T00:00:00"
         ],
         "y": [
          95962.53125,
          95652.46875
         ]
        },
        {
         "line": {
          "color": "gray",
          "width": 1
         },
         "mode": "lines",
         "showlegend": false,
         "type": "scatter",
         "x": [
          "2024-11-28T00:00:00",
          "2024-11-28T00:00:00"
         ],
         "y": [
          95652.46875,
          97461.5234375
         ]
        },
        {
         "line": {
          "color": "gray",
          "width": 1
         },
         "mode": "lines",
         "showlegend": false,
         "type": "scatter",
         "x": [
          "2024-11-29T00:00:00",
          "2024-11-29T00:00:00"
         ],
         "y": [
          97461.5234375,
          96449.0546875
         ]
        },
        {
         "line": {
          "color": "gray",
          "width": 1
         },
         "mode": "lines",
         "showlegend": false,
         "type": "scatter",
         "x": [
          "2024-11-30T00:00:00",
          "2024-11-30T00:00:00"
         ],
         "y": [
          96449.0546875,
          97279.7890625
         ]
        },
        {
         "line": {
          "color": "gray",
          "width": 1
         },
         "mode": "lines",
         "showlegend": false,
         "type": "scatter",
         "x": [
          "2024-12-01T00:00:00",
          "2024-12-01T00:00:00"
         ],
         "y": [
          97279.7890625,
          95865.3046875
         ]
        },
        {
         "line": {
          "color": "gray",
          "width": 1
         },
         "mode": "lines",
         "showlegend": false,
         "type": "scatter",
         "x": [
          "2024-12-02T00:00:00",
          "2024-12-02T00:00:00"
         ],
         "y": [
          95865.3046875,
          96002.1640625
         ]
        },
        {
         "line": {
          "color": "gray",
          "width": 1
         },
         "mode": "lines",
         "showlegend": false,
         "type": "scatter",
         "x": [
          "2024-12-03T00:00:00",
          "2024-12-03T00:00:00"
         ],
         "y": [
          96002.1640625,
          98768.53125
         ]
        },
        {
         "line": {
          "color": "gray",
          "width": 1
         },
         "mode": "lines",
         "showlegend": false,
         "type": "scatter",
         "x": [
          "2024-12-04T00:00:00",
          "2024-12-04T00:00:00"
         ],
         "y": [
          98768.53125,
          96593.5703125
         ]
        },
        {
         "line": {
          "color": "gray",
          "width": 1
         },
         "mode": "lines",
         "showlegend": false,
         "type": "scatter",
         "x": [
          "2024-12-05T00:00:00",
          "2024-12-05T00:00:00"
         ],
         "y": [
          96593.5703125,
          99920.7109375
         ]
        },
        {
         "line": {
          "color": "gray",
          "width": 1
         },
         "mode": "lines",
         "showlegend": false,
         "type": "scatter",
         "x": [
          "2024-12-06T00:00:00",
          "2024-12-06T00:00:00"
         ],
         "y": [
          99920.7109375,
          99923.3359375
         ]
        },
        {
         "line": {
          "color": "gray",
          "width": 1
         },
         "mode": "lines",
         "showlegend": false,
         "type": "scatter",
         "x": [
          "2024-12-07T00:00:00",
          "2024-12-07T00:00:00"
         ],
         "y": [
          99923.3359375,
          101236.015625
         ]
        },
        {
         "line": {
          "color": "gray",
          "width": 1
         },
         "mode": "lines",
         "showlegend": false,
         "type": "scatter",
         "x": [
          "2024-12-08T00:00:00",
          "2024-12-08T00:00:00"
         ],
         "y": [
          101236.015625,
          97432.71875
         ]
        },
        {
         "line": {
          "color": "gray",
          "width": 1
         },
         "mode": "lines",
         "showlegend": false,
         "type": "scatter",
         "x": [
          "2024-12-09T00:00:00",
          "2024-12-09T00:00:00"
         ],
         "y": [
          97432.71875,
          96675.4296875
         ]
        },
        {
         "line": {
          "color": "gray",
          "width": 1
         },
         "mode": "lines",
         "showlegend": false,
         "type": "scatter",
         "x": [
          "2024-12-10T00:00:00",
          "2024-12-10T00:00:00"
         ],
         "y": [
          96675.4296875,
          101173.03125
         ]
        },
        {
         "line": {
          "color": "gray",
          "width": 1
         },
         "mode": "lines",
         "showlegend": false,
         "type": "scatter",
         "x": [
          "2024-12-11T00:00:00",
          "2024-12-11T00:00:00"
         ],
         "y": [
          101173.03125,
          100043
         ]
        },
        {
         "line": {
          "color": "gray",
          "width": 1
         },
         "mode": "lines",
         "showlegend": false,
         "type": "scatter",
         "x": [
          "2024-12-12T00:00:00",
          "2024-12-12T00:00:00"
         ],
         "y": [
          100043,
          101459.2578125
         ]
        },
        {
         "line": {
          "color": "gray",
          "width": 1
         },
         "mode": "lines",
         "showlegend": false,
         "type": "scatter",
         "x": [
          "2024-12-13T00:00:00",
          "2024-12-13T00:00:00"
         ],
         "y": [
          101459.2578125,
          101372.96875
         ]
        },
        {
         "line": {
          "color": "gray",
          "width": 1
         },
         "mode": "lines",
         "showlegend": false,
         "type": "scatter",
         "x": [
          "2024-12-14T00:00:00",
          "2024-12-14T00:00:00"
         ],
         "y": [
          101372.96875,
          104298.6953125
         ]
        },
        {
         "line": {
          "color": "gray",
          "width": 1
         },
         "mode": "lines",
         "showlegend": false,
         "type": "scatter",
         "x": [
          "2024-12-15T00:00:00",
          "2024-12-15T00:00:00"
         ],
         "y": [
          104298.6953125,
          106029.71875
         ]
        },
        {
         "line": {
          "color": "gray",
          "width": 1
         },
         "mode": "lines",
         "showlegend": false,
         "type": "scatter",
         "x": [
          "2024-12-16T00:00:00",
          "2024-12-16T00:00:00"
         ],
         "y": [
          106029.71875,
          106140.6015625
         ]
        },
        {
         "line": {
          "color": "gray",
          "width": 1
         },
         "mode": "lines",
         "showlegend": false,
         "type": "scatter",
         "x": [
          "2024-12-17T00:00:00",
          "2024-12-17T00:00:00"
         ],
         "y": [
          106140.6015625,
          100041.5390625
         ]
        },
        {
         "line": {
          "color": "gray",
          "width": 1
         },
         "mode": "lines",
         "showlegend": false,
         "type": "scatter",
         "x": [
          "2024-12-18T00:00:00",
          "2024-12-18T00:00:00"
         ],
         "y": [
          100041.5390625,
          97490.953125
         ]
        },
        {
         "line": {
          "color": "gray",
          "width": 1
         },
         "mode": "lines",
         "showlegend": false,
         "type": "scatter",
         "x": [
          "2024-12-19T00:00:00",
          "2024-12-19T00:00:00"
         ],
         "y": [
          97490.953125,
          97755.9296875
         ]
        },
        {
         "line": {
          "color": "gray",
          "width": 1
         },
         "mode": "lines",
         "showlegend": false,
         "type": "scatter",
         "x": [
          "2024-12-20T00:00:00",
          "2024-12-20T00:00:00"
         ],
         "y": [
          97755.9296875,
          97224.7265625
         ]
        },
        {
         "line": {
          "color": "gray",
          "width": 1
         },
         "mode": "lines",
         "showlegend": false,
         "type": "scatter",
         "x": [
          "2024-12-21T00:00:00",
          "2024-12-21T00:00:00"
         ],
         "y": [
          97224.7265625,
          95104.9375
         ]
        },
        {
         "line": {
          "color": "gray",
          "width": 1
         },
         "mode": "lines",
         "showlegend": false,
         "type": "scatter",
         "x": [
          "2024-12-22T00:00:00",
          "2024-12-22T00:00:00"
         ],
         "y": [
          95104.9375,
          94686.2421875
         ]
        },
        {
         "line": {
          "color": "gray",
          "width": 1
         },
         "mode": "lines",
         "showlegend": false,
         "type": "scatter",
         "x": [
          "2024-12-23T00:00:00",
          "2024-12-23T00:00:00"
         ],
         "y": [
          94686.2421875,
          98676.09375
         ]
        },
        {
         "line": {
          "color": "gray",
          "width": 1
         },
         "mode": "lines",
         "showlegend": false,
         "type": "scatter",
         "x": [
          "2024-12-24T00:00:00",
          "2024-12-24T00:00:00"
         ],
         "y": [
          98676.09375,
          99299.1953125
         ]
        },
        {
         "line": {
          "color": "gray",
          "width": 1
         },
         "mode": "lines",
         "showlegend": false,
         "type": "scatter",
         "x": [
          "2024-12-25T00:00:00",
          "2024-12-25T00:00:00"
         ],
         "y": [
          99299.1953125,
          95795.515625
         ]
        },
        {
         "line": {
          "color": "gray",
          "width": 1
         },
         "mode": "lines",
         "showlegend": false,
         "type": "scatter",
         "x": [
          "2024-12-26T00:00:00",
          "2024-12-26T00:00:00"
         ],
         "y": [
          95795.515625,
          94164.859375
         ]
        },
        {
         "line": {
          "color": "gray",
          "width": 1
         },
         "mode": "lines",
         "showlegend": false,
         "type": "scatter",
         "x": [
          "2024-12-27T00:00:00",
          "2024-12-27T00:00:00"
         ],
         "y": [
          94164.859375,
          95163.9296875
         ]
        },
        {
         "line": {
          "color": "gray",
          "width": 1
         },
         "mode": "lines",
         "showlegend": false,
         "type": "scatter",
         "x": [
          "2024-12-28T00:00:00",
          "2024-12-28T00:00:00"
         ],
         "y": [
          95163.9296875,
          93530.2265625
         ]
        },
        {
         "line": {
          "color": "gray",
          "width": 1
         },
         "mode": "lines",
         "showlegend": false,
         "type": "scatter",
         "x": [
          "2024-12-29T00:00:00",
          "2024-12-29T00:00:00"
         ],
         "y": [
          93530.2265625,
          92643.2109375
         ]
        },
        {
         "line": {
          "color": "gray",
          "width": 1
         },
         "mode": "lines",
         "showlegend": false,
         "type": "scatter",
         "x": [
          "2024-12-30T00:00:00",
          "2024-12-30T00:00:00"
         ],
         "y": [
          92643.2109375,
          93429.203125
         ]
        },
        {
         "line": {
          "color": "gray",
          "width": 1
         },
         "mode": "lines",
         "showlegend": false,
         "type": "scatter",
         "x": [
          "2024-12-31T00:00:00",
          "2024-12-31T00:00:00"
         ],
         "y": [
          93429.203125,
          94419.7578125
         ]
        },
        {
         "line": {
          "color": "gray",
          "width": 1
         },
         "mode": "lines",
         "showlegend": false,
         "type": "scatter",
         "x": [
          "2025-01-01T00:00:00",
          "2025-01-01T00:00:00"
         ],
         "y": [
          94419.7578125,
          96886.875
         ]
        },
        {
         "line": {
          "color": "gray",
          "width": 1
         },
         "mode": "lines",
         "showlegend": false,
         "type": "scatter",
         "x": [
          "2025-01-02T00:00:00",
          "2025-01-02T00:00:00"
         ],
         "y": [
          96886.875,
          98107.4296875
         ]
        },
        {
         "line": {
          "color": "gray",
          "width": 1
         },
         "mode": "lines",
         "showlegend": false,
         "type": "scatter",
         "x": [
          "2025-01-03T00:00:00",
          "2025-01-03T00:00:00"
         ],
         "y": [
          98107.4296875,
          98236.2265625
         ]
        },
        {
         "line": {
          "color": "gray",
          "width": 1
         },
         "mode": "lines",
         "showlegend": false,
         "type": "scatter",
         "x": [
          "2025-01-04T00:00:00",
          "2025-01-04T00:00:00"
         ],
         "y": [
          98236.2265625,
          98314.9609375
         ]
        },
        {
         "line": {
          "color": "gray",
          "width": 1
         },
         "mode": "lines",
         "showlegend": false,
         "type": "scatter",
         "x": [
          "2025-01-05T00:00:00",
          "2025-01-05T00:00:00"
         ],
         "y": [
          98314.9609375,
          102078.0859375
         ]
        },
        {
         "line": {
          "color": "gray",
          "width": 1
         },
         "mode": "lines",
         "showlegend": false,
         "type": "scatter",
         "x": [
          "2025-01-06T00:00:00",
          "2025-01-06T00:00:00"
         ],
         "y": [
          102078.0859375,
          96922.703125
         ]
        },
        {
         "line": {
          "color": "gray",
          "width": 1
         },
         "mode": "lines",
         "showlegend": false,
         "type": "scatter",
         "x": [
          "2025-01-07T00:00:00",
          "2025-01-07T00:00:00"
         ],
         "y": [
          96922.703125,
          95043.5234375
         ]
        },
        {
         "line": {
          "color": "gray",
          "width": 1
         },
         "mode": "lines",
         "showlegend": false,
         "type": "scatter",
         "x": [
          "2025-01-08T00:00:00",
          "2025-01-08T00:00:00"
         ],
         "y": [
          95043.5234375,
          92484.0390625
         ]
        },
        {
         "line": {
          "color": "gray",
          "width": 1
         },
         "mode": "lines",
         "showlegend": false,
         "type": "scatter",
         "x": [
          "2025-01-09T00:00:00",
          "2025-01-09T00:00:00"
         ],
         "y": [
          92484.0390625,
          94701.453125
         ]
        },
        {
         "line": {
          "color": "gray",
          "width": 1
         },
         "mode": "lines",
         "showlegend": false,
         "type": "scatter",
         "x": [
          "2025-01-10T00:00:00",
          "2025-01-10T00:00:00"
         ],
         "y": [
          94701.453125,
          94566.59375
         ]
        },
        {
         "line": {
          "color": "gray",
          "width": 1
         },
         "mode": "lines",
         "showlegend": false,
         "type": "scatter",
         "x": [
          "2025-01-11T00:00:00",
          "2025-01-11T00:00:00"
         ],
         "y": [
          94566.59375,
          94488.4375
         ]
        },
        {
         "line": {
          "color": "gray",
          "width": 1
         },
         "mode": "lines",
         "showlegend": false,
         "type": "scatter",
         "x": [
          "2025-01-12T00:00:00",
          "2025-01-12T00:00:00"
         ],
         "y": [
          94488.4375,
          94516.5234375
         ]
        },
        {
         "line": {
          "color": "gray",
          "width": 1
         },
         "mode": "lines",
         "showlegend": false,
         "type": "scatter",
         "x": [
          "2025-01-13T00:00:00",
          "2025-01-13T00:00:00"
         ],
         "y": [
          94516.5234375,
          96534.046875
         ]
        },
        {
         "line": {
          "color": "gray",
          "width": 1
         },
         "mode": "lines",
         "showlegend": false,
         "type": "scatter",
         "x": [
          "2025-01-14T00:00:00",
          "2025-01-14T00:00:00"
         ],
         "y": [
          96534.046875,
          100504.4921875
         ]
        },
        {
         "line": {
          "color": "gray",
          "width": 1
         },
         "mode": "lines",
         "showlegend": false,
         "type": "scatter",
         "x": [
          "2025-01-15T00:00:00",
          "2025-01-15T00:00:00"
         ],
         "y": [
          100504.4921875,
          99756.90625
         ]
        },
        {
         "line": {
          "color": "gray",
          "width": 1
         },
         "mode": "lines",
         "showlegend": false,
         "type": "scatter",
         "x": [
          "2025-01-16T00:00:00",
          "2025-01-16T00:00:00"
         ],
         "y": [
          99756.90625,
          104462.0390625
         ]
        },
        {
         "line": {
          "color": "gray",
          "width": 1
         },
         "mode": "lines",
         "showlegend": false,
         "type": "scatter",
         "x": [
          "2025-01-17T00:00:00",
          "2025-01-17T00:00:00"
         ],
         "y": [
          104462.0390625,
          104408.0703125
         ]
        },
        {
         "line": {
          "color": "gray",
          "width": 1
         },
         "mode": "lines",
         "showlegend": false,
         "type": "scatter",
         "x": [
          "2025-01-18T00:00:00",
          "2025-01-18T00:00:00"
         ],
         "y": [
          104408.0703125,
          101089.609375
         ]
        },
        {
         "line": {
          "color": "gray",
          "width": 1
         },
         "mode": "lines",
         "showlegend": false,
         "type": "scatter",
         "x": [
          "2025-01-19T00:00:00",
          "2025-01-19T00:00:00"
         ],
         "y": [
          101089.609375,
          102016.6640625
         ]
        },
        {
         "line": {
          "color": "gray",
          "width": 1
         },
         "mode": "lines",
         "showlegend": false,
         "type": "scatter",
         "x": [
          "2025-01-20T00:00:00",
          "2025-01-20T00:00:00"
         ],
         "y": [
          102016.6640625,
          106146.265625
         ]
        },
        {
         "line": {
          "color": "gray",
          "width": 1
         },
         "mode": "lines",
         "showlegend": false,
         "type": "scatter",
         "x": [
          "2025-01-21T00:00:00",
          "2025-01-21T00:00:00"
         ],
         "y": [
          106146.265625,
          103653.0703125
         ]
        },
        {
         "line": {
          "color": "gray",
          "width": 1
         },
         "mode": "lines",
         "showlegend": false,
         "type": "scatter",
         "x": [
          "2025-01-22T00:00:00",
          "2025-01-22T00:00:00"
         ],
         "y": [
          103653.0703125,
          103960.171875
         ]
        },
        {
         "line": {
          "color": "gray",
          "width": 1
         },
         "mode": "lines",
         "showlegend": false,
         "type": "scatter",
         "x": [
          "2025-01-23T00:00:00",
          "2025-01-23T00:00:00"
         ],
         "y": [
          103960.171875,
          104819.484375
         ]
        },
        {
         "line": {
          "color": "gray",
          "width": 1
         },
         "mode": "lines",
         "showlegend": false,
         "type": "scatter",
         "x": [
          "2025-01-24T00:00:00",
          "2025-01-24T00:00:00"
         ],
         "y": [
          104819.484375,
          104714.6484375
         ]
        },
        {
         "line": {
          "color": "gray",
          "width": 1
         },
         "mode": "lines",
         "showlegend": false,
         "type": "scatter",
         "x": [
          "2025-01-25T00:00:00",
          "2025-01-25T00:00:00"
         ],
         "y": [
          104714.6484375,
          102682.5
         ]
        },
        {
         "line": {
          "color": "gray",
          "width": 1
         },
         "mode": "lines",
         "showlegend": false,
         "type": "scatter",
         "x": [
          "2025-01-26T00:00:00",
          "2025-01-26T00:00:00"
         ],
         "y": [
          102682.5,
          102087.6875
         ]
        },
        {
         "line": {
          "color": "gray",
          "width": 1
         },
         "mode": "lines",
         "showlegend": false,
         "type": "scatter",
         "x": [
          "2025-01-27T00:00:00",
          "2025-01-27T00:00:00"
         ],
         "y": [
          102087.6875,
          101332.4765625
         ]
        },
        {
         "line": {
          "color": "gray",
          "width": 1
         },
         "mode": "lines",
         "showlegend": false,
         "type": "scatter",
         "x": [
          "2025-01-28T00:00:00",
          "2025-01-28T00:00:00"
         ],
         "y": [
          101332.4765625,
          103703.2109375
         ]
        },
        {
         "line": {
          "color": "gray",
          "width": 1
         },
         "mode": "lines",
         "showlegend": false,
         "type": "scatter",
         "x": [
          "2025-01-29T00:00:00",
          "2025-01-29T00:00:00"
         ],
         "y": [
          103703.2109375,
          104735.3046875
         ]
        },
        {
         "line": {
          "color": "gray",
          "width": 1
         },
         "mode": "lines",
         "showlegend": false,
         "type": "scatter",
         "x": [
          "2025-01-30T00:00:00",
          "2025-01-30T00:00:00"
         ],
         "y": [
          104735.3046875,
          102405.0234375
         ]
        },
        {
         "line": {
          "color": "gray",
          "width": 1
         },
         "mode": "lines",
         "showlegend": false,
         "type": "scatter",
         "x": [
          "2025-01-31T00:00:00",
          "2025-01-31T00:00:00"
         ],
         "y": [
          102405.0234375,
          100655.90625
         ]
        },
        {
         "line": {
          "color": "gray",
          "width": 1
         },
         "mode": "lines",
         "showlegend": false,
         "type": "scatter",
         "x": [
          "2025-02-01T00:00:00",
          "2025-02-01T00:00:00"
         ],
         "y": [
          100655.90625,
          97688.9765625
         ]
        },
        {
         "line": {
          "color": "gray",
          "width": 1
         },
         "mode": "lines",
         "showlegend": false,
         "type": "scatter",
         "x": [
          "2025-02-02T00:00:00",
          "2025-02-02T00:00:00"
         ],
         "y": [
          97688.9765625,
          101405.421875
         ]
        },
        {
         "line": {
          "color": "gray",
          "width": 1
         },
         "mode": "lines",
         "showlegend": false,
         "type": "scatter",
         "x": [
          "2025-02-03T00:00:00",
          "2025-02-03T00:00:00"
         ],
         "y": [
          101405.421875,
          97871.8203125
         ]
        },
        {
         "line": {
          "color": "gray",
          "width": 1
         },
         "mode": "lines",
         "showlegend": false,
         "type": "scatter",
         "x": [
          "2025-02-04T00:00:00",
          "2025-02-04T00:00:00"
         ],
         "y": [
          97871.8203125,
          96615.4453125
         ]
        },
        {
         "line": {
          "color": "gray",
          "width": 1
         },
         "mode": "lines",
         "showlegend": false,
         "type": "scatter",
         "x": [
          "2025-02-05T00:00:00",
          "2025-02-05T00:00:00"
         ],
         "y": [
          96615.4453125,
          96593.296875
         ]
        },
        {
         "line": {
          "color": "gray",
          "width": 1
         },
         "mode": "lines",
         "showlegend": false,
         "type": "scatter",
         "x": [
          "2025-02-06T00:00:00",
          "2025-02-06T00:00:00"
         ],
         "y": [
          96593.296875,
          96529.0859375
         ]
        },
        {
         "line": {
          "color": "gray",
          "width": 1
         },
         "mode": "lines",
         "showlegend": false,
         "type": "scatter",
         "x": [
          "2025-02-07T00:00:00",
          "2025-02-07T00:00:00"
         ],
         "y": [
          96529.0859375,
          96482.453125
         ]
        },
        {
         "line": {
          "color": "gray",
          "width": 1
         },
         "mode": "lines",
         "showlegend": false,
         "type": "scatter",
         "x": [
          "2025-02-08T00:00:00",
          "2025-02-08T00:00:00"
         ],
         "y": [
          96482.453125,
          96500.09375
         ]
        },
        {
         "line": {
          "color": "gray",
          "width": 1
         },
         "mode": "lines",
         "showlegend": false,
         "type": "scatter",
         "x": [
          "2025-02-09T00:00:00",
          "2025-02-09T00:00:00"
         ],
         "y": [
          96500.09375,
          97437.5546875
         ]
        },
        {
         "line": {
          "color": "gray",
          "width": 1
         },
         "mode": "lines",
         "showlegend": false,
         "type": "scatter",
         "x": [
          "2025-02-10T00:00:00",
          "2025-02-10T00:00:00"
         ],
         "y": [
          97437.5546875,
          95747.4296875
         ]
        },
        {
         "line": {
          "color": "gray",
          "width": 1
         },
         "mode": "lines",
         "showlegend": false,
         "type": "scatter",
         "x": [
          "2025-02-11T00:00:00",
          "2025-02-11T00:00:00"
         ],
         "y": [
          95747.4296875,
          97885.859375
         ]
        },
        {
         "line": {
          "color": "gray",
          "width": 1
         },
         "mode": "lines",
         "showlegend": false,
         "type": "scatter",
         "x": [
          "2025-02-12T00:00:00",
          "2025-02-12T00:00:00"
         ],
         "y": [
          97885.859375,
          96623.8671875
         ]
        },
        {
         "line": {
          "color": "gray",
          "width": 1
         },
         "mode": "lines",
         "showlegend": false,
         "type": "scatter",
         "x": [
          "2025-02-13T00:00:00",
          "2025-02-13T00:00:00"
         ],
         "y": [
          96623.8671875,
          97508.96875
         ]
        },
        {
         "line": {
          "color": "gray",
          "width": 1
         },
         "mode": "lines",
         "showlegend": false,
         "type": "scatter",
         "x": [
          "2025-02-14T00:00:00",
          "2025-02-14T00:00:00"
         ],
         "y": [
          97508.96875,
          97580.3515625
         ]
        },
        {
         "line": {
          "color": "gray",
          "width": 1
         },
         "mode": "lines",
         "showlegend": false,
         "type": "scatter",
         "x": [
          "2025-02-15T00:00:00",
          "2025-02-15T00:00:00"
         ],
         "y": [
          97580.3515625,
          96175.03125
         ]
        },
        {
         "line": {
          "color": "gray",
          "width": 1
         },
         "mode": "lines",
         "showlegend": false,
         "type": "scatter",
         "x": [
          "2025-02-16T00:00:00",
          "2025-02-16T00:00:00"
         ],
         "y": [
          96175.03125,
          95773.3828125
         ]
        },
        {
         "line": {
          "color": "gray",
          "width": 1
         },
         "mode": "lines",
         "showlegend": false,
         "type": "scatter",
         "x": [
          "2025-02-17T00:00:00",
          "2025-02-17T00:00:00"
         ],
         "y": [
          95773.3828125,
          95539.546875
         ]
        },
        {
         "line": {
          "color": "gray",
          "width": 1
         },
         "mode": "lines",
         "showlegend": false,
         "type": "scatter",
         "x": [
          "2025-02-18T00:00:00",
          "2025-02-18T00:00:00"
         ],
         "y": [
          95539.546875,
          96635.609375
         ]
        },
        {
         "line": {
          "color": "gray",
          "width": 1
         },
         "mode": "lines",
         "showlegend": false,
         "type": "scatter",
         "x": [
          "2025-02-19T00:00:00",
          "2025-02-19T00:00:00"
         ],
         "y": [
          96635.609375,
          98333.9375
         ]
        },
        {
         "line": {
          "color": "gray",
          "width": 1
         },
         "mode": "lines",
         "showlegend": false,
         "type": "scatter",
         "x": [
          "2025-02-20T00:00:00",
          "2025-02-20T00:00:00"
         ],
         "y": [
          98333.9375,
          96125.546875
         ]
        }
       ],
       "layout": {
        "height": 600,
        "legend": {
         "x": 0,
         "y": 1
        },
        "template": {
         "data": {
          "bar": [
           {
            "error_x": {
             "color": "#f2f5fa"
            },
            "error_y": {
             "color": "#f2f5fa"
            },
            "marker": {
             "line": {
              "color": "rgb(17,17,17)",
              "width": 0.5
             },
             "pattern": {
              "fillmode": "overlay",
              "size": 10,
              "solidity": 0.2
             }
            },
            "type": "bar"
           }
          ],
          "barpolar": [
           {
            "marker": {
             "line": {
              "color": "rgb(17,17,17)",
              "width": 0.5
             },
             "pattern": {
              "fillmode": "overlay",
              "size": 10,
              "solidity": 0.2
             }
            },
            "type": "barpolar"
           }
          ],
          "carpet": [
           {
            "aaxis": {
             "endlinecolor": "#A2B1C6",
             "gridcolor": "#506784",
             "linecolor": "#506784",
             "minorgridcolor": "#506784",
             "startlinecolor": "#A2B1C6"
            },
            "baxis": {
             "endlinecolor": "#A2B1C6",
             "gridcolor": "#506784",
             "linecolor": "#506784",
             "minorgridcolor": "#506784",
             "startlinecolor": "#A2B1C6"
            },
            "type": "carpet"
           }
          ],
          "choropleth": [
           {
            "colorbar": {
             "outlinewidth": 0,
             "ticks": ""
            },
            "type": "choropleth"
           }
          ],
          "contour": [
           {
            "colorbar": {
             "outlinewidth": 0,
             "ticks": ""
            },
            "colorscale": [
             [
              0,
              "#0d0887"
             ],
             [
              0.1111111111111111,
              "#46039f"
             ],
             [
              0.2222222222222222,
              "#7201a8"
             ],
             [
              0.3333333333333333,
              "#9c179e"
             ],
             [
              0.4444444444444444,
              "#bd3786"
             ],
             [
              0.5555555555555556,
              "#d8576b"
             ],
             [
              0.6666666666666666,
              "#ed7953"
             ],
             [
              0.7777777777777778,
              "#fb9f3a"
             ],
             [
              0.8888888888888888,
              "#fdca26"
             ],
             [
              1,
              "#f0f921"
             ]
            ],
            "type": "contour"
           }
          ],
          "contourcarpet": [
           {
            "colorbar": {
             "outlinewidth": 0,
             "ticks": ""
            },
            "type": "contourcarpet"
           }
          ],
          "heatmap": [
           {
            "colorbar": {
             "outlinewidth": 0,
             "ticks": ""
            },
            "colorscale": [
             [
              0,
              "#0d0887"
             ],
             [
              0.1111111111111111,
              "#46039f"
             ],
             [
              0.2222222222222222,
              "#7201a8"
             ],
             [
              0.3333333333333333,
              "#9c179e"
             ],
             [
              0.4444444444444444,
              "#bd3786"
             ],
             [
              0.5555555555555556,
              "#d8576b"
             ],
             [
              0.6666666666666666,
              "#ed7953"
             ],
             [
              0.7777777777777778,
              "#fb9f3a"
             ],
             [
              0.8888888888888888,
              "#fdca26"
             ],
             [
              1,
              "#f0f921"
             ]
            ],
            "type": "heatmap"
           }
          ],
          "heatmapgl": [
           {
            "colorbar": {
             "outlinewidth": 0,
             "ticks": ""
            },
            "colorscale": [
             [
              0,
              "#0d0887"
             ],
             [
              0.1111111111111111,
              "#46039f"
             ],
             [
              0.2222222222222222,
              "#7201a8"
             ],
             [
              0.3333333333333333,
              "#9c179e"
             ],
             [
              0.4444444444444444,
              "#bd3786"
             ],
             [
              0.5555555555555556,
              "#d8576b"
             ],
             [
              0.6666666666666666,
              "#ed7953"
             ],
             [
              0.7777777777777778,
              "#fb9f3a"
             ],
             [
              0.8888888888888888,
              "#fdca26"
             ],
             [
              1,
              "#f0f921"
             ]
            ],
            "type": "heatmapgl"
           }
          ],
          "histogram": [
           {
            "marker": {
             "pattern": {
              "fillmode": "overlay",
              "size": 10,
              "solidity": 0.2
             }
            },
            "type": "histogram"
           }
          ],
          "histogram2d": [
           {
            "colorbar": {
             "outlinewidth": 0,
             "ticks": ""
            },
            "colorscale": [
             [
              0,
              "#0d0887"
             ],
             [
              0.1111111111111111,
              "#46039f"
             ],
             [
              0.2222222222222222,
              "#7201a8"
             ],
             [
              0.3333333333333333,
              "#9c179e"
             ],
             [
              0.4444444444444444,
              "#bd3786"
             ],
             [
              0.5555555555555556,
              "#d8576b"
             ],
             [
              0.6666666666666666,
              "#ed7953"
             ],
             [
              0.7777777777777778,
              "#fb9f3a"
             ],
             [
              0.8888888888888888,
              "#fdca26"
             ],
             [
              1,
              "#f0f921"
             ]
            ],
            "type": "histogram2d"
           }
          ],
          "histogram2dcontour": [
           {
            "colorbar": {
             "outlinewidth": 0,
             "ticks": ""
            },
            "colorscale": [
             [
              0,
              "#0d0887"
             ],
             [
              0.1111111111111111,
              "#46039f"
             ],
             [
              0.2222222222222222,
              "#7201a8"
             ],
             [
              0.3333333333333333,
              "#9c179e"
             ],
             [
              0.4444444444444444,
              "#bd3786"
             ],
             [
              0.5555555555555556,
              "#d8576b"
             ],
             [
              0.6666666666666666,
              "#ed7953"
             ],
             [
              0.7777777777777778,
              "#fb9f3a"
             ],
             [
              0.8888888888888888,
              "#fdca26"
             ],
             [
              1,
              "#f0f921"
             ]
            ],
            "type": "histogram2dcontour"
           }
          ],
          "mesh3d": [
           {
            "colorbar": {
             "outlinewidth": 0,
             "ticks": ""
            },
            "type": "mesh3d"
           }
          ],
          "parcoords": [
           {
            "line": {
             "colorbar": {
              "outlinewidth": 0,
              "ticks": ""
             }
            },
            "type": "parcoords"
           }
          ],
          "pie": [
           {
            "automargin": true,
            "type": "pie"
           }
          ],
          "scatter": [
           {
            "marker": {
             "line": {
              "color": "#283442"
             }
            },
            "type": "scatter"
           }
          ],
          "scatter3d": [
           {
            "line": {
             "colorbar": {
              "outlinewidth": 0,
              "ticks": ""
             }
            },
            "marker": {
             "colorbar": {
              "outlinewidth": 0,
              "ticks": ""
             }
            },
            "type": "scatter3d"
           }
          ],
          "scattercarpet": [
           {
            "marker": {
             "colorbar": {
              "outlinewidth": 0,
              "ticks": ""
             }
            },
            "type": "scattercarpet"
           }
          ],
          "scattergeo": [
           {
            "marker": {
             "colorbar": {
              "outlinewidth": 0,
              "ticks": ""
             }
            },
            "type": "scattergeo"
           }
          ],
          "scattergl": [
           {
            "marker": {
             "line": {
              "color": "#283442"
             }
            },
            "type": "scattergl"
           }
          ],
          "scattermapbox": [
           {
            "marker": {
             "colorbar": {
              "outlinewidth": 0,
              "ticks": ""
             }
            },
            "type": "scattermapbox"
           }
          ],
          "scatterpolar": [
           {
            "marker": {
             "colorbar": {
              "outlinewidth": 0,
              "ticks": ""
             }
            },
            "type": "scatterpolar"
           }
          ],
          "scatterpolargl": [
           {
            "marker": {
             "colorbar": {
              "outlinewidth": 0,
              "ticks": ""
             }
            },
            "type": "scatterpolargl"
           }
          ],
          "scatterternary": [
           {
            "marker": {
             "colorbar": {
              "outlinewidth": 0,
              "ticks": ""
             }
            },
            "type": "scatterternary"
           }
          ],
          "surface": [
           {
            "colorbar": {
             "outlinewidth": 0,
             "ticks": ""
            },
            "colorscale": [
             [
              0,
              "#0d0887"
             ],
             [
              0.1111111111111111,
              "#46039f"
             ],
             [
              0.2222222222222222,
              "#7201a8"
             ],
             [
              0.3333333333333333,
              "#9c179e"
             ],
             [
              0.4444444444444444,
              "#bd3786"
             ],
             [
              0.5555555555555556,
              "#d8576b"
             ],
             [
              0.6666666666666666,
              "#ed7953"
             ],
             [
              0.7777777777777778,
              "#fb9f3a"
             ],
             [
              0.8888888888888888,
              "#fdca26"
             ],
             [
              1,
              "#f0f921"
             ]
            ],
            "type": "surface"
           }
          ],
          "table": [
           {
            "cells": {
             "fill": {
              "color": "#506784"
             },
             "line": {
              "color": "rgb(17,17,17)"
             }
            },
            "header": {
             "fill": {
              "color": "#2a3f5f"
             },
             "line": {
              "color": "rgb(17,17,17)"
             }
            },
            "type": "table"
           }
          ]
         },
         "layout": {
          "annotationdefaults": {
           "arrowcolor": "#f2f5fa",
           "arrowhead": 0,
           "arrowwidth": 1
          },
          "autotypenumbers": "strict",
          "coloraxis": {
           "colorbar": {
            "outlinewidth": 0,
            "ticks": ""
           }
          },
          "colorscale": {
           "diverging": [
            [
             0,
             "#8e0152"
            ],
            [
             0.1,
             "#c51b7d"
            ],
            [
             0.2,
             "#de77ae"
            ],
            [
             0.3,
             "#f1b6da"
            ],
            [
             0.4,
             "#fde0ef"
            ],
            [
             0.5,
             "#f7f7f7"
            ],
            [
             0.6,
             "#e6f5d0"
            ],
            [
             0.7,
             "#b8e186"
            ],
            [
             0.8,
             "#7fbc41"
            ],
            [
             0.9,
             "#4d9221"
            ],
            [
             1,
             "#276419"
            ]
           ],
           "sequential": [
            [
             0,
             "#0d0887"
            ],
            [
             0.1111111111111111,
             "#46039f"
            ],
            [
             0.2222222222222222,
             "#7201a8"
            ],
            [
             0.3333333333333333,
             "#9c179e"
            ],
            [
             0.4444444444444444,
             "#bd3786"
            ],
            [
             0.5555555555555556,
             "#d8576b"
            ],
            [
             0.6666666666666666,
             "#ed7953"
            ],
            [
             0.7777777777777778,
             "#fb9f3a"
            ],
            [
             0.8888888888888888,
             "#fdca26"
            ],
            [
             1,
             "#f0f921"
            ]
           ],
           "sequentialminus": [
            [
             0,
             "#0d0887"
            ],
            [
             0.1111111111111111,
             "#46039f"
            ],
            [
             0.2222222222222222,
             "#7201a8"
            ],
            [
             0.3333333333333333,
             "#9c179e"
            ],
            [
             0.4444444444444444,
             "#bd3786"
            ],
            [
             0.5555555555555556,
             "#d8576b"
            ],
            [
             0.6666666666666666,
             "#ed7953"
            ],
            [
             0.7777777777777778,
             "#fb9f3a"
            ],
            [
             0.8888888888888888,
             "#fdca26"
            ],
            [
             1,
             "#f0f921"
            ]
           ]
          },
          "colorway": [
           "#636efa",
           "#EF553B",
           "#00cc96",
           "#ab63fa",
           "#FFA15A",
           "#19d3f3",
           "#FF6692",
           "#B6E880",
           "#FF97FF",
           "#FECB52"
          ],
          "font": {
           "color": "#f2f5fa"
          },
          "geo": {
           "bgcolor": "rgb(17,17,17)",
           "lakecolor": "rgb(17,17,17)",
           "landcolor": "rgb(17,17,17)",
           "showlakes": true,
           "showland": true,
           "subunitcolor": "#506784"
          },
          "hoverlabel": {
           "align": "left"
          },
          "hovermode": "closest",
          "mapbox": {
           "style": "dark"
          },
          "paper_bgcolor": "rgb(17,17,17)",
          "plot_bgcolor": "rgb(17,17,17)",
          "polar": {
           "angularaxis": {
            "gridcolor": "#506784",
            "linecolor": "#506784",
            "ticks": ""
           },
           "bgcolor": "rgb(17,17,17)",
           "radialaxis": {
            "gridcolor": "#506784",
            "linecolor": "#506784",
            "ticks": ""
           }
          },
          "scene": {
           "xaxis": {
            "backgroundcolor": "rgb(17,17,17)",
            "gridcolor": "#506784",
            "gridwidth": 2,
            "linecolor": "#506784",
            "showbackground": true,
            "ticks": "",
            "zerolinecolor": "#C8D4E3"
           },
           "yaxis": {
            "backgroundcolor": "rgb(17,17,17)",
            "gridcolor": "#506784",
            "gridwidth": 2,
            "linecolor": "#506784",
            "showbackground": true,
            "ticks": "",
            "zerolinecolor": "#C8D4E3"
           },
           "zaxis": {
            "backgroundcolor": "rgb(17,17,17)",
            "gridcolor": "#506784",
            "gridwidth": 2,
            "linecolor": "#506784",
            "showbackground": true,
            "ticks": "",
            "zerolinecolor": "#C8D4E3"
           }
          },
          "shapedefaults": {
           "line": {
            "color": "#f2f5fa"
           }
          },
          "sliderdefaults": {
           "bgcolor": "#C8D4E3",
           "bordercolor": "rgb(17,17,17)",
           "borderwidth": 1,
           "tickwidth": 0
          },
          "ternary": {
           "aaxis": {
            "gridcolor": "#506784",
            "linecolor": "#506784",
            "ticks": ""
           },
           "baxis": {
            "gridcolor": "#506784",
            "linecolor": "#506784",
            "ticks": ""
           },
           "bgcolor": "rgb(17,17,17)",
           "caxis": {
            "gridcolor": "#506784",
            "linecolor": "#506784",
            "ticks": ""
           }
          },
          "title": {
           "x": 0.05
          },
          "updatemenudefaults": {
           "bgcolor": "#506784",
           "borderwidth": 0
          },
          "xaxis": {
           "automargin": true,
           "gridcolor": "#283442",
           "linecolor": "#506784",
           "ticks": "",
           "title": {
            "standoff": 15
           },
           "zerolinecolor": "#283442",
           "zerolinewidth": 2
          },
          "yaxis": {
           "automargin": true,
           "gridcolor": "#283442",
           "linecolor": "#506784",
           "ticks": "",
           "title": {
            "standoff": 15
           },
           "zerolinecolor": "#283442",
           "zerolinewidth": 2
          }
         }
        },
        "title": {
         "text": "Trade Entry & Exit on Same Day with Continuous Price"
        },
        "xaxis": {
         "title": {
          "text": "Date"
         }
        },
        "yaxis": {
         "title": {
          "text": "Price"
         }
        }
       }
      }
     },
     "metadata": {},
     "output_type": "display_data"
    }
   ],
   "source": [
    "import pandas as pd\n",
    "import numpy as np\n",
    "import plotly.graph_objects as go\n",
    "\n",
    "# Simulated trade data (entry and exit happen on the same day)\n",
    "dates = btc_ohlc.index \n",
    "entry_prices = btc_ohlc['close']  \n",
    "exit_prices = btc_ohlc['exit_price'] \n",
    "\n",
    "# Create trade DataFrame\n",
    "df_trades = pd.DataFrame({\n",
    "    'Date': dates,\n",
    "    'Entry_Price': entry_prices,\n",
    "    'Exit_Price': exit_prices\n",
    "})\n",
    "\n",
    "# Create Plotly figure\n",
    "fig = go.Figure()\n",
    "\n",
    "# Add continuous price line\n",
    "fig.add_trace(go.Scatter(\n",
    "    x=btc_ohlc.index, y=btc_ohlc['close'],\n",
    "    mode='lines', name='Price',\n",
    "    line=dict(color='white', width=2)\n",
    "))\n",
    "\n",
    "# Add entry markers (green)\n",
    "fig.add_trace(go.Scatter(\n",
    "    x=df_trades['Date'], y=df_trades['Entry_Price'],\n",
    "    mode='markers', name='Entry (Buy)',\n",
    "    marker=dict(symbol='triangle-up', size=10, color='green')\n",
    "))\n",
    "\n",
    "\n",
    "# Add exit markers (red)\n",
    "fig.add_trace(go.Scatter(\n",
    "    x=df_trades['Date'], y=df_trades['Exit_Price'],\n",
    "    mode='markers', name='Exit (Sell)',\n",
    "    marker=dict(symbol='triangle-down', size=10, color='red')\n",
    "))\n",
    "\n",
    "# Add trade lines connecting entry & exit\n",
    "for _, trade in df_trades.iterrows():\n",
    "    fig.add_trace(go.Scatter(\n",
    "        x=[trade['Date'], trade['Date']],\n",
    "        y=[trade['Entry_Price'], trade['Exit_Price']],\n",
    "        mode='lines',\n",
    "        line=dict(color='gray', width=1),\n",
    "        showlegend=False\n",
    "    ))\n",
    "\n",
    "\n",
    "# Customize layout\n",
    "fig.update_layout(\n",
    "    title=\"Trade Entry & Exit on Same Day with Continuous Price\",\n",
    "    xaxis_title=\"Date\",\n",
    "    yaxis_title=\"Price\",\n",
    "    template=\"plotly_dark\",\n",
    "    legend=dict(x=0, y=1),\n",
    "    height=600\n",
    ")\n",
    "\n",
    "# Show plot\n",
    "fig.show()\n"
   ]
  }
 ],
 "metadata": {
  "kernelspec": {
   "display_name": "algo",
   "language": "python",
   "name": "python3"
  },
  "language_info": {
   "codemirror_mode": {
    "name": "ipython",
    "version": 3
   },
   "file_extension": ".py",
   "mimetype": "text/x-python",
   "name": "python",
   "nbconvert_exporter": "python",
   "pygments_lexer": "ipython3",
   "version": "3.10.13"
  }
 },
 "nbformat": 4,
 "nbformat_minor": 2
}
